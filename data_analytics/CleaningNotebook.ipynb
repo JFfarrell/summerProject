{
 "cells": [
  {
   "cell_type": "markdown",
   "id": "cutting-canberra",
   "metadata": {},
   "source": [
    "## Cleaning Notebook\n",
    "- 1.0 Setup Workspace\n",
    "- 2.0 Cleaning Leavetimes Dataset\n",
    "- 3.0 Cleaning Trips Dataset\n",
    "- 4.0 Cleaning Vehicles Dataset\n",
    "- 5.0 Cleaning Weather Dataset"
   ]
  },
  {
   "cell_type": "markdown",
   "id": "amateur-monkey",
   "metadata": {},
   "source": [
    "### 1.0 Setup workspace"
   ]
  },
  {
   "cell_type": "code",
   "execution_count": 1,
   "id": "driving-investigation",
   "metadata": {},
   "outputs": [],
   "source": [
    "# import required packages\n",
    "import pandas as pd\n",
    "import numpy as np\n",
    "import sqlite3\n",
    "import pymysql\n",
    "from datetime import datetime\n",
    "import time\n",
    "import pickle"
   ]
  },
  {
   "cell_type": "markdown",
   "id": "697922c2",
   "metadata": {},
   "source": [
    "### 2.0 Cleaning Leavetimes Dataset"
   ]
  },
  {
   "cell_type": "markdown",
   "id": "50aa20b3",
   "metadata": {},
   "source": [
    "- Leavetimes df, with over 116 million rows, is too large to load in all at once, and so we must only load a small subset in order to do the data understanding section before we make a decision on how to adequately handle it\n",
    "\n",
    "- Trips and vehicles tables are of a manageable size, and can be fully loaded in"
   ]
  },
  {
   "cell_type": "code",
   "execution_count": 2,
   "id": "1fd271fa",
   "metadata": {},
   "outputs": [],
   "source": [
    "# Loading in leavetimes dataset\n",
    "df_leavetimes = pd.read_csv(r'C:\\Users\\jason\\OneDrive - University College Dublin\\Documents\\MSc Computer Science\\Summer Semester\\Data\\GTFS Data\\2018 Data\\rt_leavetimes_DB_2018.txt', sep=';')"
   ]
  },
  {
   "cell_type": "code",
   "execution_count": 3,
   "id": "7e2c3941",
   "metadata": {},
   "outputs": [],
   "source": [
    "# # Replacing carriage return with blank values\n",
    "# df_leavetimes.replace(to_replace=r'[\\n\\r\\t]', value='', regex=True, inplace=True)"
   ]
  },
  {
   "cell_type": "code",
   "execution_count": 4,
   "id": "d75c5252",
   "metadata": {},
   "outputs": [],
   "source": [
    "# # Replacing blank cells with Nan values\n",
    "# df_leavetimes.replace(\"\", np.nan, inplace=True)"
   ]
  },
  {
   "cell_type": "markdown",
   "id": "c1031d20",
   "metadata": {},
   "source": [
    "#### Check for Null Values"
   ]
  },
  {
   "cell_type": "code",
   "execution_count": 5,
   "id": "88232b6c",
   "metadata": {},
   "outputs": [
    {
     "data": {
      "text/plain": [
       "DATASOURCE                 0\n",
       "DAYOFSERVICE               0\n",
       "TRIPID                     0\n",
       "PROGRNUMBER                0\n",
       "STOPPOINTID                0\n",
       "PLANNEDTIME_ARR            0\n",
       "PLANNEDTIME_DEP            0\n",
       "ACTUALTIME_ARR             0\n",
       "ACTUALTIME_DEP             0\n",
       "VEHICLEID                  0\n",
       "PASSENGERS         116949113\n",
       "PASSENGERSIN       116949113\n",
       "PASSENGERSOUT      116949113\n",
       "DISTANCE           116949113\n",
       "SUPPRESSED         116360453\n",
       "JUSTIFICATIONID    116360526\n",
       "LASTUPDATE                 0\n",
       "NOTE               116949113\n",
       "dtype: int64"
      ]
     },
     "execution_count": 5,
     "metadata": {},
     "output_type": "execute_result"
    }
   ],
   "source": [
    "df_leavetimes.isnull().sum()"
   ]
  },
  {
   "cell_type": "markdown",
   "id": "4d79b013",
   "metadata": {},
   "source": [
    "- There are null values for passengers, passengersin, passengersout, distance, suppressed, justificationid, note."
   ]
  },
  {
   "cell_type": "markdown",
   "id": "30ad0843",
   "metadata": {},
   "source": [
    "#### We will now check what % of missing values each column has"
   ]
  },
  {
   "cell_type": "code",
   "execution_count": 6,
   "id": "23185b4e",
   "metadata": {},
   "outputs": [
    {
     "data": {
      "text/plain": [
       "100.0"
      ]
     },
     "execution_count": 6,
     "metadata": {},
     "output_type": "execute_result"
    }
   ],
   "source": [
    "# % missing on passengers\n",
    "pasengers_missing = 100 * (df_leavetimes['PASSENGERS'].isnull().sum()/df_leavetimes.shape[0])\n",
    "pasengers_missing"
   ]
  },
  {
   "cell_type": "code",
   "execution_count": 7,
   "id": "6f368c9c",
   "metadata": {},
   "outputs": [
    {
     "data": {
      "text/plain": [
       "100.0"
      ]
     },
     "execution_count": 7,
     "metadata": {},
     "output_type": "execute_result"
    }
   ],
   "source": [
    "# % missing on passengersin\n",
    "passengersin_missing = 100 * (df_leavetimes['PASSENGERSIN'].isnull().sum()/df_leavetimes.shape[0])\n",
    "passengersin_missing"
   ]
  },
  {
   "cell_type": "code",
   "execution_count": 8,
   "id": "01cec951",
   "metadata": {},
   "outputs": [
    {
     "data": {
      "text/plain": [
       "100.0"
      ]
     },
     "execution_count": 8,
     "metadata": {},
     "output_type": "execute_result"
    }
   ],
   "source": [
    "# % missing on passengersout\n",
    "passengersout_missing = 100 * (df_leavetimes['PASSENGERSOUT'].isnull().sum()/df_leavetimes.shape[0])\n",
    "passengersout_missing"
   ]
  },
  {
   "cell_type": "code",
   "execution_count": 9,
   "id": "046c1335",
   "metadata": {},
   "outputs": [
    {
     "data": {
      "text/plain": [
       "100.0"
      ]
     },
     "execution_count": 9,
     "metadata": {},
     "output_type": "execute_result"
    }
   ],
   "source": [
    "# % missing on distance\n",
    "distance_missing = 100 * (df_leavetimes['DISTANCE'].isnull().sum()/df_leavetimes.shape[0])\n",
    "distance_missing"
   ]
  },
  {
   "cell_type": "code",
   "execution_count": 10,
   "id": "8804cb71",
   "metadata": {},
   "outputs": [
    {
     "data": {
      "text/plain": [
       "99.49665287328857"
      ]
     },
     "execution_count": 10,
     "metadata": {},
     "output_type": "execute_result"
    }
   ],
   "source": [
    "# % missing on suppressed\n",
    "suppressed_missing = 100 * (df_leavetimes['SUPPRESSED'].isnull().sum()/df_leavetimes.shape[0])\n",
    "suppressed_missing"
   ]
  },
  {
   "cell_type": "code",
   "execution_count": 11,
   "id": "d38ba698",
   "metadata": {},
   "outputs": [
    {
     "data": {
      "text/plain": [
       "99.49671529359954"
      ]
     },
     "execution_count": 11,
     "metadata": {},
     "output_type": "execute_result"
    }
   ],
   "source": [
    "# % missing on justificationid\n",
    "justificationid_missing = 100 * (df_leavetimes['JUSTIFICATIONID'].isnull().sum()/df_leavetimes.shape[0])\n",
    "justificationid_missing"
   ]
  },
  {
   "cell_type": "code",
   "execution_count": 12,
   "id": "a1a67ffe",
   "metadata": {},
   "outputs": [
    {
     "data": {
      "text/plain": [
       "100.0"
      ]
     },
     "execution_count": 12,
     "metadata": {},
     "output_type": "execute_result"
    }
   ],
   "source": [
    "# % missing on note\n",
    "note_missing = 100 * (df_leavetimes['NOTE'].isnull().sum()/df_leavetimes.shape[0])\n",
    "note_missing"
   ]
  },
  {
   "cell_type": "markdown",
   "id": "91c019a4",
   "metadata": {},
   "source": [
    "#### Checking for duplicate rows"
   ]
  },
  {
   "cell_type": "code",
   "execution_count": 13,
   "id": "df12622f",
   "metadata": {},
   "outputs": [],
   "source": [
    "# # Checking duplicate rows\n",
    "# df_leavetimes.duplicated().sum()"
   ]
  },
  {
   "cell_type": "markdown",
   "id": "09e90440",
   "metadata": {},
   "source": [
    "#### Dropping the necessary columns"
   ]
  },
  {
   "cell_type": "code",
   "execution_count": 14,
   "id": "c5e8e980",
   "metadata": {},
   "outputs": [
    {
     "data": {
      "text/html": [
       "<div>\n",
       "<style scoped>\n",
       "    .dataframe tbody tr th:only-of-type {\n",
       "        vertical-align: middle;\n",
       "    }\n",
       "\n",
       "    .dataframe tbody tr th {\n",
       "        vertical-align: top;\n",
       "    }\n",
       "\n",
       "    .dataframe thead th {\n",
       "        text-align: right;\n",
       "    }\n",
       "</style>\n",
       "<table border=\"1\" class=\"dataframe\">\n",
       "  <thead>\n",
       "    <tr style=\"text-align: right;\">\n",
       "      <th></th>\n",
       "      <th>DAYOFSERVICE</th>\n",
       "      <th>TRIPID</th>\n",
       "      <th>PROGRNUMBER</th>\n",
       "      <th>STOPPOINTID</th>\n",
       "      <th>PLANNEDTIME_ARR</th>\n",
       "      <th>PLANNEDTIME_DEP</th>\n",
       "      <th>ACTUALTIME_ARR</th>\n",
       "      <th>ACTUALTIME_DEP</th>\n",
       "      <th>VEHICLEID</th>\n",
       "      <th>LASTUPDATE</th>\n",
       "    </tr>\n",
       "  </thead>\n",
       "  <tbody>\n",
       "    <tr>\n",
       "      <th>0</th>\n",
       "      <td>01-JAN-18 00:00:00</td>\n",
       "      <td>5972116</td>\n",
       "      <td>12</td>\n",
       "      <td>119</td>\n",
       "      <td>48030</td>\n",
       "      <td>48030</td>\n",
       "      <td>48012</td>\n",
       "      <td>48012</td>\n",
       "      <td>2693211</td>\n",
       "      <td>08-JAN-18 17:21:10</td>\n",
       "    </tr>\n",
       "    <tr>\n",
       "      <th>1</th>\n",
       "      <td>01-JAN-18 00:00:00</td>\n",
       "      <td>5966674</td>\n",
       "      <td>12</td>\n",
       "      <td>119</td>\n",
       "      <td>54001</td>\n",
       "      <td>54001</td>\n",
       "      <td>54023</td>\n",
       "      <td>54023</td>\n",
       "      <td>2693267</td>\n",
       "      <td>08-JAN-18 17:21:10</td>\n",
       "    </tr>\n",
       "    <tr>\n",
       "      <th>2</th>\n",
       "      <td>01-JAN-18 00:00:00</td>\n",
       "      <td>5959105</td>\n",
       "      <td>12</td>\n",
       "      <td>119</td>\n",
       "      <td>60001</td>\n",
       "      <td>60001</td>\n",
       "      <td>59955</td>\n",
       "      <td>59955</td>\n",
       "      <td>2693263</td>\n",
       "      <td>08-JAN-18 17:21:10</td>\n",
       "    </tr>\n",
       "    <tr>\n",
       "      <th>3</th>\n",
       "      <td>01-JAN-18 00:00:00</td>\n",
       "      <td>5966888</td>\n",
       "      <td>12</td>\n",
       "      <td>119</td>\n",
       "      <td>58801</td>\n",
       "      <td>58801</td>\n",
       "      <td>58771</td>\n",
       "      <td>58771</td>\n",
       "      <td>2693284</td>\n",
       "      <td>08-JAN-18 17:21:10</td>\n",
       "    </tr>\n",
       "    <tr>\n",
       "      <th>4</th>\n",
       "      <td>01-JAN-18 00:00:00</td>\n",
       "      <td>5965960</td>\n",
       "      <td>12</td>\n",
       "      <td>119</td>\n",
       "      <td>56401</td>\n",
       "      <td>56401</td>\n",
       "      <td>56309</td>\n",
       "      <td>56323</td>\n",
       "      <td>2693209</td>\n",
       "      <td>08-JAN-18 17:21:10</td>\n",
       "    </tr>\n",
       "  </tbody>\n",
       "</table>\n",
       "</div>"
      ],
      "text/plain": [
       "         DAYOFSERVICE   TRIPID  PROGRNUMBER  STOPPOINTID  PLANNEDTIME_ARR  \\\n",
       "0  01-JAN-18 00:00:00  5972116           12          119            48030   \n",
       "1  01-JAN-18 00:00:00  5966674           12          119            54001   \n",
       "2  01-JAN-18 00:00:00  5959105           12          119            60001   \n",
       "3  01-JAN-18 00:00:00  5966888           12          119            58801   \n",
       "4  01-JAN-18 00:00:00  5965960           12          119            56401   \n",
       "\n",
       "   PLANNEDTIME_DEP  ACTUALTIME_ARR  ACTUALTIME_DEP  VEHICLEID  \\\n",
       "0            48030           48012           48012    2693211   \n",
       "1            54001           54023           54023    2693267   \n",
       "2            60001           59955           59955    2693263   \n",
       "3            58801           58771           58771    2693284   \n",
       "4            56401           56309           56323    2693209   \n",
       "\n",
       "           LASTUPDATE  \n",
       "0  08-JAN-18 17:21:10  \n",
       "1  08-JAN-18 17:21:10  \n",
       "2  08-JAN-18 17:21:10  \n",
       "3  08-JAN-18 17:21:10  \n",
       "4  08-JAN-18 17:21:10  "
      ]
     },
     "execution_count": 14,
     "metadata": {},
     "output_type": "execute_result"
    }
   ],
   "source": [
    "# Dropping columns\n",
    "\n",
    "df_leavetimes = df_leavetimes.drop(columns=[\"DATASOURCE\",\"PASSENGERS\", \"PASSENGERSIN\", \"PASSENGERSOUT\", \"DISTANCE\", \"JUSTIFICATIONID\", \"SUPPRESSED\", \"NOTE\"])\n",
    "df_leavetimes.head(5)"
   ]
  },
  {
   "cell_type": "code",
   "execution_count": 15,
   "id": "departmental-primary",
   "metadata": {},
   "outputs": [
    {
     "data": {
      "text/plain": [
       "DAYOFSERVICE       0\n",
       "TRIPID             0\n",
       "PROGRNUMBER        0\n",
       "STOPPOINTID        0\n",
       "PLANNEDTIME_ARR    0\n",
       "PLANNEDTIME_DEP    0\n",
       "ACTUALTIME_ARR     0\n",
       "ACTUALTIME_DEP     0\n",
       "VEHICLEID          0\n",
       "LASTUPDATE         0\n",
       "dtype: int64"
      ]
     },
     "execution_count": 15,
     "metadata": {},
     "output_type": "execute_result"
    }
   ],
   "source": [
    "df_leavetimes.isnull().sum()"
   ]
  },
  {
   "cell_type": "markdown",
   "id": "maritime-crack",
   "metadata": {},
   "source": [
    "- There are no more null values, moving on to the data types"
   ]
  },
  {
   "cell_type": "markdown",
   "id": "2e14b35c",
   "metadata": {},
   "source": [
    "#### Setting up Data Types"
   ]
  },
  {
   "cell_type": "code",
   "execution_count": 16,
   "id": "30284e95",
   "metadata": {},
   "outputs": [
    {
     "data": {
      "text/plain": [
       "DAYOFSERVICE       object\n",
       "TRIPID              int64\n",
       "PROGRNUMBER         int64\n",
       "STOPPOINTID         int64\n",
       "PLANNEDTIME_ARR     int64\n",
       "PLANNEDTIME_DEP     int64\n",
       "ACTUALTIME_ARR      int64\n",
       "ACTUALTIME_DEP      int64\n",
       "VEHICLEID           int64\n",
       "LASTUPDATE         object\n",
       "dtype: object"
      ]
     },
     "execution_count": 16,
     "metadata": {},
     "output_type": "execute_result"
    }
   ],
   "source": [
    "# Finding the data types of each column\n",
    "df_leavetimes.dtypes"
   ]
  },
  {
   "cell_type": "code",
   "execution_count": 17,
   "id": "c8b6cd06",
   "metadata": {},
   "outputs": [],
   "source": [
    "# Select columns containing categorical data\n",
    "categorical_columns = df_leavetimes[[\"TRIPID\", \"PROGRNUMBER\", \"STOPPOINTID\", \"PLANNEDTIME_ARR\", \"PLANNEDTIME_DEP\", \"ACTUALTIME_ARR\", \"ACTUALTIME_DEP\", \"VEHICLEID\"]].columns\n",
    "\n",
    "# Convert data type to category for these columns\n",
    "for column in categorical_columns:\n",
    "    df_leavetimes[column] = df_leavetimes[column].astype('category')"
   ]
  },
  {
   "cell_type": "code",
   "execution_count": 18,
   "id": "55b2594f",
   "metadata": {},
   "outputs": [
    {
     "data": {
      "text/plain": [
       "DAYOFSERVICE       datetime64[ns]\n",
       "TRIPID                   category\n",
       "PROGRNUMBER              category\n",
       "STOPPOINTID              category\n",
       "PLANNEDTIME_ARR          category\n",
       "PLANNEDTIME_DEP          category\n",
       "ACTUALTIME_ARR           category\n",
       "ACTUALTIME_DEP           category\n",
       "VEHICLEID                category\n",
       "LASTUPDATE         datetime64[ns]\n",
       "dtype: object"
      ]
     },
     "execution_count": 18,
     "metadata": {},
     "output_type": "execute_result"
    }
   ],
   "source": [
    "# Converting dayofservice to datetime64\n",
    "df_leavetimes['DAYOFSERVICE'] = pd.to_datetime(df_leavetimes['DAYOFSERVICE'], infer_datetime_format=True)\n",
    "\n",
    "# Converting lastupdate to datetime64\n",
    "df_leavetimes['LASTUPDATE'] = pd.to_datetime(df_leavetimes['LASTUPDATE'], infer_datetime_format=True)\n",
    "df_leavetimes.dtypes"
   ]
  },
  {
   "cell_type": "code",
   "execution_count": 19,
   "id": "abd28565",
   "metadata": {},
   "outputs": [
    {
     "name": "stderr",
     "output_type": "stream",
     "text": [
      "<ipython-input-19-ea4e733225a6>:1: FutureWarning: Treating datetime data as categorical rather than numeric in `.describe` is deprecated and will be removed in a future version of pandas. Specify `datetime_is_numeric=True` to silence this warning and adopt the future behavior now.\n",
      "  df_leavetimes.describe().T\n",
      "<ipython-input-19-ea4e733225a6>:1: FutureWarning: Treating datetime data as categorical rather than numeric in `.describe` is deprecated and will be removed in a future version of pandas. Specify `datetime_is_numeric=True` to silence this warning and adopt the future behavior now.\n",
      "  df_leavetimes.describe().T\n"
     ]
    },
    {
     "data": {
      "text/html": [
       "<div>\n",
       "<style scoped>\n",
       "    .dataframe tbody tr th:only-of-type {\n",
       "        vertical-align: middle;\n",
       "    }\n",
       "\n",
       "    .dataframe tbody tr th {\n",
       "        vertical-align: top;\n",
       "    }\n",
       "\n",
       "    .dataframe thead th {\n",
       "        text-align: right;\n",
       "    }\n",
       "</style>\n",
       "<table border=\"1\" class=\"dataframe\">\n",
       "  <thead>\n",
       "    <tr style=\"text-align: right;\">\n",
       "      <th></th>\n",
       "      <th>count</th>\n",
       "      <th>unique</th>\n",
       "      <th>top</th>\n",
       "      <th>freq</th>\n",
       "      <th>first</th>\n",
       "      <th>last</th>\n",
       "    </tr>\n",
       "  </thead>\n",
       "  <tbody>\n",
       "    <tr>\n",
       "      <th>DAYOFSERVICE</th>\n",
       "      <td>116949113</td>\n",
       "      <td>360</td>\n",
       "      <td>2018-02-12 00:00:00</td>\n",
       "      <td>384590</td>\n",
       "      <td>2018-01-01 00:00:00</td>\n",
       "      <td>2018-12-31 00:00:00</td>\n",
       "    </tr>\n",
       "    <tr>\n",
       "      <th>TRIPID</th>\n",
       "      <td>116949113.0</td>\n",
       "      <td>658961.0</td>\n",
       "      <td>7325784.0</td>\n",
       "      <td>1924.0</td>\n",
       "      <td>NaT</td>\n",
       "      <td>NaT</td>\n",
       "    </tr>\n",
       "    <tr>\n",
       "      <th>PROGRNUMBER</th>\n",
       "      <td>116949113.0</td>\n",
       "      <td>109.0</td>\n",
       "      <td>14.0</td>\n",
       "      <td>2108194.0</td>\n",
       "      <td>NaT</td>\n",
       "      <td>NaT</td>\n",
       "    </tr>\n",
       "    <tr>\n",
       "      <th>STOPPOINTID</th>\n",
       "      <td>116949113.0</td>\n",
       "      <td>4774.0</td>\n",
       "      <td>1479.0</td>\n",
       "      <td>214973.0</td>\n",
       "      <td>NaT</td>\n",
       "      <td>NaT</td>\n",
       "    </tr>\n",
       "    <tr>\n",
       "      <th>PLANNEDTIME_ARR</th>\n",
       "      <td>116949113.0</td>\n",
       "      <td>72712.0</td>\n",
       "      <td>61200.0</td>\n",
       "      <td>28108.0</td>\n",
       "      <td>NaT</td>\n",
       "      <td>NaT</td>\n",
       "    </tr>\n",
       "    <tr>\n",
       "      <th>PLANNEDTIME_DEP</th>\n",
       "      <td>116949113.0</td>\n",
       "      <td>72712.0</td>\n",
       "      <td>61200.0</td>\n",
       "      <td>28108.0</td>\n",
       "      <td>NaT</td>\n",
       "      <td>NaT</td>\n",
       "    </tr>\n",
       "    <tr>\n",
       "      <th>ACTUALTIME_ARR</th>\n",
       "      <td>116949113.0</td>\n",
       "      <td>74361.0</td>\n",
       "      <td>64806.0</td>\n",
       "      <td>2492.0</td>\n",
       "      <td>NaT</td>\n",
       "      <td>NaT</td>\n",
       "    </tr>\n",
       "    <tr>\n",
       "      <th>ACTUALTIME_DEP</th>\n",
       "      <td>116949113.0</td>\n",
       "      <td>74363.0</td>\n",
       "      <td>64815.0</td>\n",
       "      <td>2499.0</td>\n",
       "      <td>NaT</td>\n",
       "      <td>NaT</td>\n",
       "    </tr>\n",
       "    <tr>\n",
       "      <th>VEHICLEID</th>\n",
       "      <td>116949113.0</td>\n",
       "      <td>1151.0</td>\n",
       "      <td>2868400.0</td>\n",
       "      <td>179716.0</td>\n",
       "      <td>NaT</td>\n",
       "      <td>NaT</td>\n",
       "    </tr>\n",
       "    <tr>\n",
       "      <th>LASTUPDATE</th>\n",
       "      <td>116949113</td>\n",
       "      <td>360</td>\n",
       "      <td>2018-02-28 13:18:29</td>\n",
       "      <td>384590</td>\n",
       "      <td>2018-01-08 17:21:10</td>\n",
       "      <td>2019-01-16 18:27:21</td>\n",
       "    </tr>\n",
       "  </tbody>\n",
       "</table>\n",
       "</div>"
      ],
      "text/plain": [
       "                       count    unique                  top       freq  \\\n",
       "DAYOFSERVICE       116949113       360  2018-02-12 00:00:00     384590   \n",
       "TRIPID           116949113.0  658961.0            7325784.0     1924.0   \n",
       "PROGRNUMBER      116949113.0     109.0                 14.0  2108194.0   \n",
       "STOPPOINTID      116949113.0    4774.0               1479.0   214973.0   \n",
       "PLANNEDTIME_ARR  116949113.0   72712.0              61200.0    28108.0   \n",
       "PLANNEDTIME_DEP  116949113.0   72712.0              61200.0    28108.0   \n",
       "ACTUALTIME_ARR   116949113.0   74361.0              64806.0     2492.0   \n",
       "ACTUALTIME_DEP   116949113.0   74363.0              64815.0     2499.0   \n",
       "VEHICLEID        116949113.0    1151.0            2868400.0   179716.0   \n",
       "LASTUPDATE         116949113       360  2018-02-28 13:18:29     384590   \n",
       "\n",
       "                              first                last  \n",
       "DAYOFSERVICE    2018-01-01 00:00:00 2018-12-31 00:00:00  \n",
       "TRIPID                          NaT                 NaT  \n",
       "PROGRNUMBER                     NaT                 NaT  \n",
       "STOPPOINTID                     NaT                 NaT  \n",
       "PLANNEDTIME_ARR                 NaT                 NaT  \n",
       "PLANNEDTIME_DEP                 NaT                 NaT  \n",
       "ACTUALTIME_ARR                  NaT                 NaT  \n",
       "ACTUALTIME_DEP                  NaT                 NaT  \n",
       "VEHICLEID                       NaT                 NaT  \n",
       "LASTUPDATE      2018-01-08 17:21:10 2019-01-16 18:27:21  "
      ]
     },
     "execution_count": 19,
     "metadata": {},
     "output_type": "execute_result"
    }
   ],
   "source": [
    "df_leavetimes.describe().T"
   ]
  },
  {
   "cell_type": "code",
   "execution_count": 20,
   "id": "788e5ac9",
   "metadata": {},
   "outputs": [],
   "source": [
    "# Write the cleaned sample df to a new csv file\n",
    "df_leavetimes.to_csv(r'C:\\Users\\jason\\OneDrive - University College Dublin\\Documents\\MSc Computer Science\\Summer Semester\\Data\\Notebooks\\CleanedCSVs\\rt_leavetimes_DB_2018_cleaned_sample.csv')"
   ]
  },
  {
   "cell_type": "markdown",
   "id": "e0d9a334",
   "metadata": {},
   "source": [
    "### Summary of data quality plan for sample of Leavetimes:"
   ]
  },
  {
   "cell_type": "markdown",
   "id": "6fb26751",
   "metadata": {},
   "source": [
    "<table>\n",
    "    <tr>\n",
    "        <th>Feature</th><th>Feature Type</th><th>Data Quality Issue</th><th>Handling Strategy</th>\n",
    "    </tr>\n",
    "    <tr>\n",
    "        <td>datasource</td><td>Category</td><td>Identical Values</td><td>This feature should be dropped as the values are all the same and add nothing useful to the dataset</td>\n",
    "    </tr>\n",
    "    <tr>\n",
    "        <td>dayofservice</td><td>Datetime64</td><td>None</td><td>This feature will be left the same</td>\n",
    "    </tr>\n",
    "    <tr>\n",
    "        <td>tripid</td><td>Category</td><td>None</td><td>This feature will be left the same</td>\n",
    "    </tr>\n",
    "    <tr>\n",
    "        <td>progrnumber</td><td>Category</td><td>None</td><td>This feature will be left the same</td>\n",
    "    </tr>\n",
    "    <tr>\n",
    "        <td>stoppointid</td><td>Category</td><td>None</td><td>This feature will be left the same</td>\n",
    "    </tr>\n",
    "    <tr>\n",
    "        <td>plannedtime_arr</td><td>Category</td><td>None</td><td>This feature will be left the same</td>\n",
    "    </tr>\n",
    "    <tr>\n",
    "        <td>plannedtime_dep</td><td>Category</td><td>None</td><td>This feature will be left the same</td>\n",
    "    </tr>\n",
    "    <tr>\n",
    "        <td>actualtime_arr</td><td>Category</td><td>None</td><td>This feature will be left the same</td>\n",
    "    </tr>\n",
    "    <tr>\n",
    "        <td>actualtime_dep</td><td>Category</td><td>None</td><td>This feature will be left the same</td>\n",
    "    </tr>\n",
    "    <tr>\n",
    "        <td>vehicleid</td><td>Category</td><td>None</td><td>This feature will be left the same</td>\n",
    "    </tr>\n",
    "    <tr>\n",
    "        <td>passengers</td><td>Category</td><td>Missing Values 100%</td><td>This feature is completely missing and therefore can provide no useful information for further analysis and should be dropped</td>\n",
    "    </tr>\n",
    "    <tr>\n",
    "        <td>passengersin</td><td>Category</td><td>Missing Values 100%</td><td>This feature is completely missing and therefore can provide no useful information for further analysis and should be dropped</td>\n",
    "    </tr>\n",
    "    <tr>\n",
    "        <td>passengersout</td><td>Category</td><td>Missing Values 100%</td><td>This feature is completely missing and therefore can provide no useful information for further analysis and should be dropped</td>\n",
    "    </tr>\n",
    "    <tr>\n",
    "        <td>distance</td><td>Category</td><td>Missing Values 100%</td><td>This feature is completely missing and therefore can provide no useful information for further analysis and should be dropped</td>\n",
    "    </tr>\n",
    "    <tr>\n",
    "        <td>suppressed</td><td>Category</td><td>Missing Values 99.5%</td><td>This feature is nearly completely missing. However, it may be possible to imput times from the trips dataset so this column will be kept for now.</td>\n",
    "    </tr>\n",
    "    <tr>\n",
    "        <td>justificationid</td><td>Category</td><td>Missing Values 99.5%</td><td>This feature is completely missing and therefore can provide no useful information for further analysis and should be dropped</td>\n",
    "    </tr>\n",
    "    <tr>\n",
    "        <td>lastupdate</td><td>Category</td><td>None</td><td>This feature will be left the same</td>\n",
    "    </tr>\n",
    "    <tr>\n",
    "        <td>note</td><td>Category</td><td>Missing Values 100%</td><td>This feature is completely missing and provides no useful information and should be dropped</td>\n",
    "    </tr>\n",
    "</table>"
   ]
  },
  {
   "cell_type": "markdown",
   "id": "c457b4ab",
   "metadata": {},
   "source": [
    "### 3.0 Cleaning Trips Dataset"
   ]
  },
  {
   "cell_type": "code",
   "execution_count": 21,
   "id": "harmful-montgomery",
   "metadata": {},
   "outputs": [],
   "source": [
    "# Loading in trips dataset\n",
    "df_trips = pd.read_csv(r'C:\\Users\\jason\\OneDrive - University College Dublin\\Documents\\MSc Computer Science\\Summer Semester\\Data\\GTFS Data\\2018 Data\\rt_trips_DB_2018.txt', sep=';')"
   ]
  },
  {
   "cell_type": "code",
   "execution_count": 22,
   "id": "4cfa2e2f",
   "metadata": {},
   "outputs": [],
   "source": [
    "# # Replacing carriage return with blank values\n",
    "# df_trips.replace(to_replace=r'[\\n\\r\\t]', value='', regex=True, inplace=True)"
   ]
  },
  {
   "cell_type": "code",
   "execution_count": 23,
   "id": "91a1c58b",
   "metadata": {},
   "outputs": [],
   "source": [
    "# # Replacing blank cells with Nan values\n",
    "# df_trips.replace(\"\", np.nan, inplace=True)"
   ]
  },
  {
   "cell_type": "code",
   "execution_count": 24,
   "id": "crude-rolling",
   "metadata": {},
   "outputs": [
    {
     "data": {
      "text/html": [
       "<div>\n",
       "<style scoped>\n",
       "    .dataframe tbody tr th:only-of-type {\n",
       "        vertical-align: middle;\n",
       "    }\n",
       "\n",
       "    .dataframe tbody tr th {\n",
       "        vertical-align: top;\n",
       "    }\n",
       "\n",
       "    .dataframe thead th {\n",
       "        text-align: right;\n",
       "    }\n",
       "</style>\n",
       "<table border=\"1\" class=\"dataframe\">\n",
       "  <thead>\n",
       "    <tr style=\"text-align: right;\">\n",
       "      <th></th>\n",
       "      <th>DATASOURCE</th>\n",
       "      <th>DAYOFSERVICE</th>\n",
       "      <th>TRIPID</th>\n",
       "      <th>LINEID</th>\n",
       "      <th>ROUTEID</th>\n",
       "      <th>DIRECTION</th>\n",
       "      <th>PLANNEDTIME_ARR</th>\n",
       "      <th>PLANNEDTIME_DEP</th>\n",
       "      <th>ACTUALTIME_ARR</th>\n",
       "      <th>ACTUALTIME_DEP</th>\n",
       "      <th>BASIN</th>\n",
       "      <th>TENDERLOT</th>\n",
       "      <th>SUPPRESSED</th>\n",
       "      <th>JUSTIFICATIONID</th>\n",
       "      <th>LASTUPDATE</th>\n",
       "      <th>NOTE</th>\n",
       "    </tr>\n",
       "  </thead>\n",
       "  <tbody>\n",
       "    <tr>\n",
       "      <th>0</th>\n",
       "      <td>DB</td>\n",
       "      <td>07-FEB-18 00:00:00</td>\n",
       "      <td>6253783</td>\n",
       "      <td>68</td>\n",
       "      <td>68_80</td>\n",
       "      <td>1</td>\n",
       "      <td>87245</td>\n",
       "      <td>84600</td>\n",
       "      <td>87524.0</td>\n",
       "      <td>84600.0</td>\n",
       "      <td>BasDef</td>\n",
       "      <td>NaN</td>\n",
       "      <td>NaN</td>\n",
       "      <td>NaN</td>\n",
       "      <td>28-FEB-18 12:05:11</td>\n",
       "      <td>,2967409,</td>\n",
       "    </tr>\n",
       "    <tr>\n",
       "      <th>1</th>\n",
       "      <td>DB</td>\n",
       "      <td>07-FEB-18 00:00:00</td>\n",
       "      <td>6262138</td>\n",
       "      <td>25B</td>\n",
       "      <td>25B_271</td>\n",
       "      <td>2</td>\n",
       "      <td>30517</td>\n",
       "      <td>26460</td>\n",
       "      <td>32752.0</td>\n",
       "      <td>NaN</td>\n",
       "      <td>BasDef</td>\n",
       "      <td>NaN</td>\n",
       "      <td>NaN</td>\n",
       "      <td>NaN</td>\n",
       "      <td>28-FEB-18 12:05:11</td>\n",
       "      <td>,2580260,</td>\n",
       "    </tr>\n",
       "    <tr>\n",
       "      <th>2</th>\n",
       "      <td>DB</td>\n",
       "      <td>07-FEB-18 00:00:00</td>\n",
       "      <td>6254942</td>\n",
       "      <td>45A</td>\n",
       "      <td>45A_70</td>\n",
       "      <td>2</td>\n",
       "      <td>35512</td>\n",
       "      <td>32100</td>\n",
       "      <td>36329.0</td>\n",
       "      <td>32082.0</td>\n",
       "      <td>BasDef</td>\n",
       "      <td>NaN</td>\n",
       "      <td>NaN</td>\n",
       "      <td>NaN</td>\n",
       "      <td>28-FEB-18 12:05:11</td>\n",
       "      <td>,2448968,</td>\n",
       "    </tr>\n",
       "    <tr>\n",
       "      <th>3</th>\n",
       "      <td>DB</td>\n",
       "      <td>07-FEB-18 00:00:00</td>\n",
       "      <td>6259460</td>\n",
       "      <td>25A</td>\n",
       "      <td>25A_273</td>\n",
       "      <td>1</td>\n",
       "      <td>57261</td>\n",
       "      <td>54420</td>\n",
       "      <td>58463.0</td>\n",
       "      <td>54443.0</td>\n",
       "      <td>BasDef</td>\n",
       "      <td>NaN</td>\n",
       "      <td>NaN</td>\n",
       "      <td>NaN</td>\n",
       "      <td>28-FEB-18 12:05:11</td>\n",
       "      <td>,3094242,</td>\n",
       "    </tr>\n",
       "    <tr>\n",
       "      <th>4</th>\n",
       "      <td>DB</td>\n",
       "      <td>07-FEB-18 00:00:00</td>\n",
       "      <td>6253175</td>\n",
       "      <td>14</td>\n",
       "      <td>14_15</td>\n",
       "      <td>1</td>\n",
       "      <td>85383</td>\n",
       "      <td>81600</td>\n",
       "      <td>84682.0</td>\n",
       "      <td>81608.0</td>\n",
       "      <td>BasDef</td>\n",
       "      <td>NaN</td>\n",
       "      <td>NaN</td>\n",
       "      <td>NaN</td>\n",
       "      <td>28-FEB-18 12:05:11</td>\n",
       "      <td>,2526331,</td>\n",
       "    </tr>\n",
       "    <tr>\n",
       "      <th>5</th>\n",
       "      <td>DB</td>\n",
       "      <td>07-FEB-18 00:00:00</td>\n",
       "      <td>6248240</td>\n",
       "      <td>77A</td>\n",
       "      <td>77A_28</td>\n",
       "      <td>2</td>\n",
       "      <td>41648</td>\n",
       "      <td>37200</td>\n",
       "      <td>42019.0</td>\n",
       "      <td>37538.0</td>\n",
       "      <td>BasDef</td>\n",
       "      <td>NaN</td>\n",
       "      <td>NaN</td>\n",
       "      <td>NaN</td>\n",
       "      <td>28-FEB-18 12:05:11</td>\n",
       "      <td>,2966500,</td>\n",
       "    </tr>\n",
       "    <tr>\n",
       "      <th>6</th>\n",
       "      <td>DB</td>\n",
       "      <td>07-FEB-18 00:00:00</td>\n",
       "      <td>6251760</td>\n",
       "      <td>39</td>\n",
       "      <td>39_21</td>\n",
       "      <td>2</td>\n",
       "      <td>34768</td>\n",
       "      <td>28920</td>\n",
       "      <td>35709.0</td>\n",
       "      <td>28929.0</td>\n",
       "      <td>BasDef</td>\n",
       "      <td>NaN</td>\n",
       "      <td>NaN</td>\n",
       "      <td>NaN</td>\n",
       "      <td>28-FEB-18 12:05:11</td>\n",
       "      <td>,2422850,</td>\n",
       "    </tr>\n",
       "    <tr>\n",
       "      <th>7</th>\n",
       "      <td>DB</td>\n",
       "      <td>07-FEB-18 00:00:00</td>\n",
       "      <td>6262909</td>\n",
       "      <td>16</td>\n",
       "      <td>16_20</td>\n",
       "      <td>1</td>\n",
       "      <td>43936</td>\n",
       "      <td>38880</td>\n",
       "      <td>43721.0</td>\n",
       "      <td>38955.0</td>\n",
       "      <td>BasDef</td>\n",
       "      <td>NaN</td>\n",
       "      <td>NaN</td>\n",
       "      <td>NaN</td>\n",
       "      <td>28-FEB-18 12:05:11</td>\n",
       "      <td>,3045261,</td>\n",
       "    </tr>\n",
       "    <tr>\n",
       "      <th>8</th>\n",
       "      <td>DB</td>\n",
       "      <td>07-FEB-18 00:00:00</td>\n",
       "      <td>6251147</td>\n",
       "      <td>40D</td>\n",
       "      <td>40D_102</td>\n",
       "      <td>1</td>\n",
       "      <td>33558</td>\n",
       "      <td>30600</td>\n",
       "      <td>34540.0</td>\n",
       "      <td>31185.0</td>\n",
       "      <td>BasDef</td>\n",
       "      <td>NaN</td>\n",
       "      <td>NaN</td>\n",
       "      <td>NaN</td>\n",
       "      <td>28-FEB-18 12:05:11</td>\n",
       "      <td>,2837123,</td>\n",
       "    </tr>\n",
       "    <tr>\n",
       "      <th>9</th>\n",
       "      <td>DB</td>\n",
       "      <td>07-FEB-18 00:00:00</td>\n",
       "      <td>6249435</td>\n",
       "      <td>27B</td>\n",
       "      <td>27B_34</td>\n",
       "      <td>2</td>\n",
       "      <td>52682</td>\n",
       "      <td>49800</td>\n",
       "      <td>53281.0</td>\n",
       "      <td>49974.0</td>\n",
       "      <td>BasDef</td>\n",
       "      <td>NaN</td>\n",
       "      <td>NaN</td>\n",
       "      <td>NaN</td>\n",
       "      <td>28-FEB-18 12:05:11</td>\n",
       "      <td>,2329338,</td>\n",
       "    </tr>\n",
       "    <tr>\n",
       "      <th>10</th>\n",
       "      <td>DB</td>\n",
       "      <td>07-FEB-18 00:00:00</td>\n",
       "      <td>6251483</td>\n",
       "      <td>142</td>\n",
       "      <td>142_9</td>\n",
       "      <td>2</td>\n",
       "      <td>44024</td>\n",
       "      <td>43200</td>\n",
       "      <td>44145.0</td>\n",
       "      <td>43187.0</td>\n",
       "      <td>BasDef</td>\n",
       "      <td>NaN</td>\n",
       "      <td>NaN</td>\n",
       "      <td>NaN</td>\n",
       "      <td>28-FEB-18 12:05:11</td>\n",
       "      <td>,2343693,</td>\n",
       "    </tr>\n",
       "    <tr>\n",
       "      <th>11</th>\n",
       "      <td>DB</td>\n",
       "      <td>07-FEB-18 00:00:00</td>\n",
       "      <td>6254310</td>\n",
       "      <td>83</td>\n",
       "      <td>83_22</td>\n",
       "      <td>2</td>\n",
       "      <td>63726</td>\n",
       "      <td>58500</td>\n",
       "      <td>64791.0</td>\n",
       "      <td>58562.0</td>\n",
       "      <td>BasDef</td>\n",
       "      <td>NaN</td>\n",
       "      <td>NaN</td>\n",
       "      <td>NaN</td>\n",
       "      <td>28-FEB-18 12:05:11</td>\n",
       "      <td>,2962762,</td>\n",
       "    </tr>\n",
       "    <tr>\n",
       "      <th>12</th>\n",
       "      <td>DB</td>\n",
       "      <td>07-FEB-18 00:00:00</td>\n",
       "      <td>6258441</td>\n",
       "      <td>14</td>\n",
       "      <td>14_15</td>\n",
       "      <td>1</td>\n",
       "      <td>59582</td>\n",
       "      <td>54900</td>\n",
       "      <td>59993.0</td>\n",
       "      <td>55030.0</td>\n",
       "      <td>BasDef</td>\n",
       "      <td>NaN</td>\n",
       "      <td>NaN</td>\n",
       "      <td>NaN</td>\n",
       "      <td>28-FEB-18 12:05:11</td>\n",
       "      <td>,2517810,</td>\n",
       "    </tr>\n",
       "    <tr>\n",
       "      <th>13</th>\n",
       "      <td>DB</td>\n",
       "      <td>07-FEB-18 00:00:00</td>\n",
       "      <td>6247622</td>\n",
       "      <td>130</td>\n",
       "      <td>130_10</td>\n",
       "      <td>1</td>\n",
       "      <td>50480</td>\n",
       "      <td>48900</td>\n",
       "      <td>50726.0</td>\n",
       "      <td>48866.0</td>\n",
       "      <td>BasDef</td>\n",
       "      <td>NaN</td>\n",
       "      <td>NaN</td>\n",
       "      <td>NaN</td>\n",
       "      <td>28-FEB-18 12:05:11</td>\n",
       "      <td>,2742186,</td>\n",
       "    </tr>\n",
       "    <tr>\n",
       "      <th>14</th>\n",
       "      <td>DB</td>\n",
       "      <td>07-FEB-18 00:00:00</td>\n",
       "      <td>6256532</td>\n",
       "      <td>15</td>\n",
       "      <td>15_16</td>\n",
       "      <td>1</td>\n",
       "      <td>39735</td>\n",
       "      <td>35400</td>\n",
       "      <td>40029.0</td>\n",
       "      <td>35427.0</td>\n",
       "      <td>BasDef</td>\n",
       "      <td>NaN</td>\n",
       "      <td>NaN</td>\n",
       "      <td>NaN</td>\n",
       "      <td>28-FEB-18 12:05:11</td>\n",
       "      <td>,2984103,</td>\n",
       "    </tr>\n",
       "    <tr>\n",
       "      <th>15</th>\n",
       "      <td>DB</td>\n",
       "      <td>07-FEB-18 00:00:00</td>\n",
       "      <td>6253924</td>\n",
       "      <td>46A</td>\n",
       "      <td>46A_74</td>\n",
       "      <td>1</td>\n",
       "      <td>65768</td>\n",
       "      <td>60960</td>\n",
       "      <td>66075.0</td>\n",
       "      <td>60926.0</td>\n",
       "      <td>BasDef</td>\n",
       "      <td>NaN</td>\n",
       "      <td>NaN</td>\n",
       "      <td>NaN</td>\n",
       "      <td>28-FEB-18 12:05:11</td>\n",
       "      <td>,3059400,</td>\n",
       "    </tr>\n",
       "    <tr>\n",
       "      <th>16</th>\n",
       "      <td>DB</td>\n",
       "      <td>07-FEB-18 00:00:00</td>\n",
       "      <td>6256349</td>\n",
       "      <td>33</td>\n",
       "      <td>33_44</td>\n",
       "      <td>1</td>\n",
       "      <td>75342</td>\n",
       "      <td>70200</td>\n",
       "      <td>75994.0</td>\n",
       "      <td>70247.0</td>\n",
       "      <td>BasDef</td>\n",
       "      <td>NaN</td>\n",
       "      <td>NaN</td>\n",
       "      <td>NaN</td>\n",
       "      <td>28-FEB-18 12:05:11</td>\n",
       "      <td>,2879393,</td>\n",
       "    </tr>\n",
       "    <tr>\n",
       "      <th>17</th>\n",
       "      <td>DB</td>\n",
       "      <td>07-FEB-18 00:00:00</td>\n",
       "      <td>6259785</td>\n",
       "      <td>7</td>\n",
       "      <td>7_70</td>\n",
       "      <td>2</td>\n",
       "      <td>51603</td>\n",
       "      <td>47700</td>\n",
       "      <td>52818.0</td>\n",
       "      <td>47996.0</td>\n",
       "      <td>BasDef</td>\n",
       "      <td>NaN</td>\n",
       "      <td>NaN</td>\n",
       "      <td>NaN</td>\n",
       "      <td>28-FEB-18 12:05:11</td>\n",
       "      <td>,2792936,</td>\n",
       "    </tr>\n",
       "    <tr>\n",
       "      <th>18</th>\n",
       "      <td>DB</td>\n",
       "      <td>07-FEB-18 00:00:00</td>\n",
       "      <td>6246028</td>\n",
       "      <td>39A</td>\n",
       "      <td>39A_40</td>\n",
       "      <td>1</td>\n",
       "      <td>49276</td>\n",
       "      <td>44400</td>\n",
       "      <td>50038.0</td>\n",
       "      <td>44382.0</td>\n",
       "      <td>BasDef</td>\n",
       "      <td>NaN</td>\n",
       "      <td>NaN</td>\n",
       "      <td>NaN</td>\n",
       "      <td>28-FEB-18 12:05:11</td>\n",
       "      <td>,2416632,</td>\n",
       "    </tr>\n",
       "    <tr>\n",
       "      <th>19</th>\n",
       "      <td>DB</td>\n",
       "      <td>07-FEB-18 00:00:00</td>\n",
       "      <td>6261203</td>\n",
       "      <td>39A</td>\n",
       "      <td>39A_43</td>\n",
       "      <td>2</td>\n",
       "      <td>39535</td>\n",
       "      <td>34800</td>\n",
       "      <td>40249.0</td>\n",
       "      <td>34984.0</td>\n",
       "      <td>BasDef</td>\n",
       "      <td>NaN</td>\n",
       "      <td>NaN</td>\n",
       "      <td>NaN</td>\n",
       "      <td>28-FEB-18 12:05:11</td>\n",
       "      <td>,2429602,</td>\n",
       "    </tr>\n",
       "  </tbody>\n",
       "</table>\n",
       "</div>"
      ],
      "text/plain": [
       "   DATASOURCE        DAYOFSERVICE   TRIPID LINEID  ROUTEID  DIRECTION  \\\n",
       "0          DB  07-FEB-18 00:00:00  6253783     68    68_80          1   \n",
       "1          DB  07-FEB-18 00:00:00  6262138    25B  25B_271          2   \n",
       "2          DB  07-FEB-18 00:00:00  6254942    45A   45A_70          2   \n",
       "3          DB  07-FEB-18 00:00:00  6259460    25A  25A_273          1   \n",
       "4          DB  07-FEB-18 00:00:00  6253175     14    14_15          1   \n",
       "5          DB  07-FEB-18 00:00:00  6248240    77A   77A_28          2   \n",
       "6          DB  07-FEB-18 00:00:00  6251760     39    39_21          2   \n",
       "7          DB  07-FEB-18 00:00:00  6262909     16    16_20          1   \n",
       "8          DB  07-FEB-18 00:00:00  6251147    40D  40D_102          1   \n",
       "9          DB  07-FEB-18 00:00:00  6249435    27B   27B_34          2   \n",
       "10         DB  07-FEB-18 00:00:00  6251483    142    142_9          2   \n",
       "11         DB  07-FEB-18 00:00:00  6254310     83    83_22          2   \n",
       "12         DB  07-FEB-18 00:00:00  6258441     14    14_15          1   \n",
       "13         DB  07-FEB-18 00:00:00  6247622    130   130_10          1   \n",
       "14         DB  07-FEB-18 00:00:00  6256532     15    15_16          1   \n",
       "15         DB  07-FEB-18 00:00:00  6253924    46A   46A_74          1   \n",
       "16         DB  07-FEB-18 00:00:00  6256349     33    33_44          1   \n",
       "17         DB  07-FEB-18 00:00:00  6259785      7     7_70          2   \n",
       "18         DB  07-FEB-18 00:00:00  6246028    39A   39A_40          1   \n",
       "19         DB  07-FEB-18 00:00:00  6261203    39A   39A_43          2   \n",
       "\n",
       "    PLANNEDTIME_ARR  PLANNEDTIME_DEP  ACTUALTIME_ARR  ACTUALTIME_DEP   BASIN  \\\n",
       "0             87245            84600         87524.0         84600.0  BasDef   \n",
       "1             30517            26460         32752.0             NaN  BasDef   \n",
       "2             35512            32100         36329.0         32082.0  BasDef   \n",
       "3             57261            54420         58463.0         54443.0  BasDef   \n",
       "4             85383            81600         84682.0         81608.0  BasDef   \n",
       "5             41648            37200         42019.0         37538.0  BasDef   \n",
       "6             34768            28920         35709.0         28929.0  BasDef   \n",
       "7             43936            38880         43721.0         38955.0  BasDef   \n",
       "8             33558            30600         34540.0         31185.0  BasDef   \n",
       "9             52682            49800         53281.0         49974.0  BasDef   \n",
       "10            44024            43200         44145.0         43187.0  BasDef   \n",
       "11            63726            58500         64791.0         58562.0  BasDef   \n",
       "12            59582            54900         59993.0         55030.0  BasDef   \n",
       "13            50480            48900         50726.0         48866.0  BasDef   \n",
       "14            39735            35400         40029.0         35427.0  BasDef   \n",
       "15            65768            60960         66075.0         60926.0  BasDef   \n",
       "16            75342            70200         75994.0         70247.0  BasDef   \n",
       "17            51603            47700         52818.0         47996.0  BasDef   \n",
       "18            49276            44400         50038.0         44382.0  BasDef   \n",
       "19            39535            34800         40249.0         34984.0  BasDef   \n",
       "\n",
       "    TENDERLOT  SUPPRESSED  JUSTIFICATIONID          LASTUPDATE       NOTE  \n",
       "0         NaN         NaN              NaN  28-FEB-18 12:05:11  ,2967409,  \n",
       "1         NaN         NaN              NaN  28-FEB-18 12:05:11  ,2580260,  \n",
       "2         NaN         NaN              NaN  28-FEB-18 12:05:11  ,2448968,  \n",
       "3         NaN         NaN              NaN  28-FEB-18 12:05:11  ,3094242,  \n",
       "4         NaN         NaN              NaN  28-FEB-18 12:05:11  ,2526331,  \n",
       "5         NaN         NaN              NaN  28-FEB-18 12:05:11  ,2966500,  \n",
       "6         NaN         NaN              NaN  28-FEB-18 12:05:11  ,2422850,  \n",
       "7         NaN         NaN              NaN  28-FEB-18 12:05:11  ,3045261,  \n",
       "8         NaN         NaN              NaN  28-FEB-18 12:05:11  ,2837123,  \n",
       "9         NaN         NaN              NaN  28-FEB-18 12:05:11  ,2329338,  \n",
       "10        NaN         NaN              NaN  28-FEB-18 12:05:11  ,2343693,  \n",
       "11        NaN         NaN              NaN  28-FEB-18 12:05:11  ,2962762,  \n",
       "12        NaN         NaN              NaN  28-FEB-18 12:05:11  ,2517810,  \n",
       "13        NaN         NaN              NaN  28-FEB-18 12:05:11  ,2742186,  \n",
       "14        NaN         NaN              NaN  28-FEB-18 12:05:11  ,2984103,  \n",
       "15        NaN         NaN              NaN  28-FEB-18 12:05:11  ,3059400,  \n",
       "16        NaN         NaN              NaN  28-FEB-18 12:05:11  ,2879393,  \n",
       "17        NaN         NaN              NaN  28-FEB-18 12:05:11  ,2792936,  \n",
       "18        NaN         NaN              NaN  28-FEB-18 12:05:11  ,2416632,  \n",
       "19        NaN         NaN              NaN  28-FEB-18 12:05:11  ,2429602,  "
      ]
     },
     "execution_count": 24,
     "metadata": {},
     "output_type": "execute_result"
    }
   ],
   "source": [
    "df_trips.head(20)"
   ]
  },
  {
   "cell_type": "code",
   "execution_count": 25,
   "id": "9540e593",
   "metadata": {},
   "outputs": [
    {
     "data": {
      "text/plain": [
       "(2182637, 16)"
      ]
     },
     "execution_count": 25,
     "metadata": {},
     "output_type": "execute_result"
    }
   ],
   "source": [
    "# Checking the rows and columns of this dataframe\n",
    "df_trips.shape"
   ]
  },
  {
   "cell_type": "code",
   "execution_count": 26,
   "id": "063c4312",
   "metadata": {},
   "outputs": [
    {
     "data": {
      "text/html": [
       "<div>\n",
       "<style scoped>\n",
       "    .dataframe tbody tr th:only-of-type {\n",
       "        vertical-align: middle;\n",
       "    }\n",
       "\n",
       "    .dataframe tbody tr th {\n",
       "        vertical-align: top;\n",
       "    }\n",
       "\n",
       "    .dataframe thead th {\n",
       "        text-align: right;\n",
       "    }\n",
       "</style>\n",
       "<table border=\"1\" class=\"dataframe\">\n",
       "  <thead>\n",
       "    <tr style=\"text-align: right;\">\n",
       "      <th></th>\n",
       "      <th>count</th>\n",
       "      <th>mean</th>\n",
       "      <th>std</th>\n",
       "      <th>min</th>\n",
       "      <th>25%</th>\n",
       "      <th>50%</th>\n",
       "      <th>75%</th>\n",
       "      <th>max</th>\n",
       "    </tr>\n",
       "  </thead>\n",
       "  <tbody>\n",
       "    <tr>\n",
       "      <th>TRIPID</th>\n",
       "      <td>2182637.0</td>\n",
       "      <td>7.149479e+06</td>\n",
       "      <td>731442.265466</td>\n",
       "      <td>5955221.0</td>\n",
       "      <td>6592584.0</td>\n",
       "      <td>7110090.0</td>\n",
       "      <td>8018241.00</td>\n",
       "      <td>8592207.0</td>\n",
       "    </tr>\n",
       "    <tr>\n",
       "      <th>DIRECTION</th>\n",
       "      <td>2182637.0</td>\n",
       "      <td>1.504103e+00</td>\n",
       "      <td>0.499983</td>\n",
       "      <td>1.0</td>\n",
       "      <td>1.0</td>\n",
       "      <td>2.0</td>\n",
       "      <td>2.00</td>\n",
       "      <td>2.0</td>\n",
       "    </tr>\n",
       "    <tr>\n",
       "      <th>PLANNEDTIME_ARR</th>\n",
       "      <td>2182637.0</td>\n",
       "      <td>5.507875e+04</td>\n",
       "      <td>17424.822304</td>\n",
       "      <td>18203.0</td>\n",
       "      <td>39683.0</td>\n",
       "      <td>55276.0</td>\n",
       "      <td>69006.00</td>\n",
       "      <td>91680.0</td>\n",
       "    </tr>\n",
       "    <tr>\n",
       "      <th>PLANNEDTIME_DEP</th>\n",
       "      <td>2182637.0</td>\n",
       "      <td>5.153329e+04</td>\n",
       "      <td>17571.637274</td>\n",
       "      <td>16200.0</td>\n",
       "      <td>36000.0</td>\n",
       "      <td>51600.0</td>\n",
       "      <td>65160.00</td>\n",
       "      <td>87600.0</td>\n",
       "    </tr>\n",
       "    <tr>\n",
       "      <th>ACTUALTIME_ARR</th>\n",
       "      <td>2045430.0</td>\n",
       "      <td>5.506239e+04</td>\n",
       "      <td>17338.699154</td>\n",
       "      <td>17546.0</td>\n",
       "      <td>39668.0</td>\n",
       "      <td>55189.0</td>\n",
       "      <td>69019.00</td>\n",
       "      <td>94378.0</td>\n",
       "    </tr>\n",
       "    <tr>\n",
       "      <th>ACTUALTIME_DEP</th>\n",
       "      <td>2018086.0</td>\n",
       "      <td>5.170612e+04</td>\n",
       "      <td>17526.948184</td>\n",
       "      <td>15974.0</td>\n",
       "      <td>36518.0</td>\n",
       "      <td>51618.0</td>\n",
       "      <td>65398.00</td>\n",
       "      <td>97177.0</td>\n",
       "    </tr>\n",
       "    <tr>\n",
       "      <th>TENDERLOT</th>\n",
       "      <td>0.0</td>\n",
       "      <td>NaN</td>\n",
       "      <td>NaN</td>\n",
       "      <td>NaN</td>\n",
       "      <td>NaN</td>\n",
       "      <td>NaN</td>\n",
       "      <td>NaN</td>\n",
       "      <td>NaN</td>\n",
       "    </tr>\n",
       "    <tr>\n",
       "      <th>SUPPRESSED</th>\n",
       "      <td>4333.0</td>\n",
       "      <td>0.000000e+00</td>\n",
       "      <td>0.000000</td>\n",
       "      <td>0.0</td>\n",
       "      <td>0.0</td>\n",
       "      <td>0.0</td>\n",
       "      <td>0.00</td>\n",
       "      <td>0.0</td>\n",
       "    </tr>\n",
       "    <tr>\n",
       "      <th>JUSTIFICATIONID</th>\n",
       "      <td>4330.0</td>\n",
       "      <td>2.375549e+05</td>\n",
       "      <td>34585.051789</td>\n",
       "      <td>177856.0</td>\n",
       "      <td>205506.5</td>\n",
       "      <td>233851.5</td>\n",
       "      <td>271506.75</td>\n",
       "      <td>297899.0</td>\n",
       "    </tr>\n",
       "  </tbody>\n",
       "</table>\n",
       "</div>"
      ],
      "text/plain": [
       "                     count          mean            std        min        25%  \\\n",
       "TRIPID           2182637.0  7.149479e+06  731442.265466  5955221.0  6592584.0   \n",
       "DIRECTION        2182637.0  1.504103e+00       0.499983        1.0        1.0   \n",
       "PLANNEDTIME_ARR  2182637.0  5.507875e+04   17424.822304    18203.0    39683.0   \n",
       "PLANNEDTIME_DEP  2182637.0  5.153329e+04   17571.637274    16200.0    36000.0   \n",
       "ACTUALTIME_ARR   2045430.0  5.506239e+04   17338.699154    17546.0    39668.0   \n",
       "ACTUALTIME_DEP   2018086.0  5.170612e+04   17526.948184    15974.0    36518.0   \n",
       "TENDERLOT              0.0           NaN            NaN        NaN        NaN   \n",
       "SUPPRESSED          4333.0  0.000000e+00       0.000000        0.0        0.0   \n",
       "JUSTIFICATIONID     4330.0  2.375549e+05   34585.051789   177856.0   205506.5   \n",
       "\n",
       "                       50%         75%        max  \n",
       "TRIPID           7110090.0  8018241.00  8592207.0  \n",
       "DIRECTION              2.0        2.00        2.0  \n",
       "PLANNEDTIME_ARR    55276.0    69006.00    91680.0  \n",
       "PLANNEDTIME_DEP    51600.0    65160.00    87600.0  \n",
       "ACTUALTIME_ARR     55189.0    69019.00    94378.0  \n",
       "ACTUALTIME_DEP     51618.0    65398.00    97177.0  \n",
       "TENDERLOT              NaN         NaN        NaN  \n",
       "SUPPRESSED             0.0        0.00        0.0  \n",
       "JUSTIFICATIONID   233851.5   271506.75   297899.0  "
      ]
     },
     "execution_count": 26,
     "metadata": {},
     "output_type": "execute_result"
    }
   ],
   "source": [
    "df_trips.describe().T"
   ]
  },
  {
   "cell_type": "markdown",
   "id": "cff33427",
   "metadata": {},
   "source": [
    "#### Check for Null Values"
   ]
  },
  {
   "cell_type": "code",
   "execution_count": 27,
   "id": "c49aad6d",
   "metadata": {},
   "outputs": [
    {
     "data": {
      "text/plain": [
       "DATASOURCE               0\n",
       "DAYOFSERVICE             0\n",
       "TRIPID                   0\n",
       "LINEID                   0\n",
       "ROUTEID                  0\n",
       "DIRECTION                0\n",
       "PLANNEDTIME_ARR          0\n",
       "PLANNEDTIME_DEP          0\n",
       "ACTUALTIME_ARR      137207\n",
       "ACTUALTIME_DEP      164551\n",
       "BASIN                    0\n",
       "TENDERLOT          2182637\n",
       "SUPPRESSED         2178304\n",
       "JUSTIFICATIONID    2178307\n",
       "LASTUPDATE               0\n",
       "NOTE                     0\n",
       "dtype: int64"
      ]
     },
     "execution_count": 27,
     "metadata": {},
     "output_type": "execute_result"
    }
   ],
   "source": [
    "df_trips.isnull().sum()"
   ]
  },
  {
   "cell_type": "markdown",
   "id": "68a041db",
   "metadata": {},
   "source": [
    "- There are null values for ACTUALTIME_ARR, ACTUALTIME_DEP, TENDERLOT, SUPPRESSED & JUSTIFICATIONID"
   ]
  },
  {
   "cell_type": "markdown",
   "id": "0d5a8f89",
   "metadata": {},
   "source": [
    "#### We will now check what % of missing values each column has"
   ]
  },
  {
   "cell_type": "code",
   "execution_count": 28,
   "id": "retired-velvet",
   "metadata": {},
   "outputs": [
    {
     "data": {
      "text/plain": [
       "6.28629497254926"
      ]
     },
     "execution_count": 28,
     "metadata": {},
     "output_type": "execute_result"
    }
   ],
   "source": [
    "# % missing on ACTUALTIME_ARR\n",
    "actualtime_arr_missing = 100 * (df_trips['ACTUALTIME_ARR'].isnull().sum()/df_trips.shape[0])\n",
    "actualtime_arr_missing"
   ]
  },
  {
   "cell_type": "code",
   "execution_count": 29,
   "id": "buried-virginia",
   "metadata": {},
   "outputs": [
    {
     "data": {
      "text/plain": [
       "7.5390914751284805"
      ]
     },
     "execution_count": 29,
     "metadata": {},
     "output_type": "execute_result"
    }
   ],
   "source": [
    "# % missing on ACTUALTIME_DEP\n",
    "actualtime_dep_missing = 100 * (df_trips['ACTUALTIME_DEP'].isnull().sum()/df_trips.shape[0])\n",
    "actualtime_dep_missing"
   ]
  },
  {
   "cell_type": "code",
   "execution_count": 30,
   "id": "4a12abbe",
   "metadata": {},
   "outputs": [
    {
     "data": {
      "text/plain": [
       "100.0"
      ]
     },
     "execution_count": 30,
     "metadata": {},
     "output_type": "execute_result"
    }
   ],
   "source": [
    "# % missing on tenderlot\n",
    "tenderlot_missing = 100 * (df_trips['TENDERLOT'].isnull().sum()/df_trips.shape[0])\n",
    "tenderlot_missing"
   ]
  },
  {
   "cell_type": "code",
   "execution_count": 31,
   "id": "247fe802",
   "metadata": {},
   "outputs": [
    {
     "data": {
      "text/plain": [
       "99.80147867006744"
      ]
     },
     "execution_count": 31,
     "metadata": {},
     "output_type": "execute_result"
    }
   ],
   "source": [
    "# % missing on supressed\n",
    "supressed_missing = 100 * (df_trips['SUPPRESSED'].isnull().sum()/df_trips.shape[0])\n",
    "supressed_missing"
   ]
  },
  {
   "cell_type": "code",
   "execution_count": 32,
   "id": "a6d3e8ef",
   "metadata": {},
   "outputs": [
    {
     "data": {
      "text/plain": [
       "99.8016161184842"
      ]
     },
     "execution_count": 32,
     "metadata": {},
     "output_type": "execute_result"
    }
   ],
   "source": [
    "# % missing on justificationid\n",
    "justificationid_missing = 100 * (df_trips['JUSTIFICATIONID'].isnull().sum()/df_trips.shape[0])\n",
    "justificationid_missing"
   ]
  },
  {
   "cell_type": "markdown",
   "id": "566eb14f",
   "metadata": {},
   "source": [
    "#### Checking for duplicate rows"
   ]
  },
  {
   "cell_type": "code",
   "execution_count": 33,
   "id": "7f50ab1e",
   "metadata": {},
   "outputs": [
    {
     "data": {
      "text/plain": [
       "0"
      ]
     },
     "execution_count": 33,
     "metadata": {},
     "output_type": "execute_result"
    }
   ],
   "source": [
    "# Checking duplicate rows\n",
    "df_trips.duplicated().sum()"
   ]
  },
  {
   "cell_type": "markdown",
   "id": "c15d588c",
   "metadata": {},
   "source": [
    "#### Dropping the necessary columns"
   ]
  },
  {
   "cell_type": "code",
   "execution_count": 34,
   "id": "4f4fbfd2",
   "metadata": {},
   "outputs": [
    {
     "data": {
      "text/html": [
       "<div>\n",
       "<style scoped>\n",
       "    .dataframe tbody tr th:only-of-type {\n",
       "        vertical-align: middle;\n",
       "    }\n",
       "\n",
       "    .dataframe tbody tr th {\n",
       "        vertical-align: top;\n",
       "    }\n",
       "\n",
       "    .dataframe thead th {\n",
       "        text-align: right;\n",
       "    }\n",
       "</style>\n",
       "<table border=\"1\" class=\"dataframe\">\n",
       "  <thead>\n",
       "    <tr style=\"text-align: right;\">\n",
       "      <th></th>\n",
       "      <th>DAYOFSERVICE</th>\n",
       "      <th>TRIPID</th>\n",
       "      <th>LINEID</th>\n",
       "      <th>ROUTEID</th>\n",
       "      <th>DIRECTION</th>\n",
       "      <th>PLANNEDTIME_ARR</th>\n",
       "      <th>PLANNEDTIME_DEP</th>\n",
       "      <th>ACTUALTIME_ARR</th>\n",
       "      <th>ACTUALTIME_DEP</th>\n",
       "      <th>LASTUPDATE</th>\n",
       "      <th>NOTE</th>\n",
       "    </tr>\n",
       "  </thead>\n",
       "  <tbody>\n",
       "    <tr>\n",
       "      <th>0</th>\n",
       "      <td>07-FEB-18 00:00:00</td>\n",
       "      <td>6253783</td>\n",
       "      <td>68</td>\n",
       "      <td>68_80</td>\n",
       "      <td>1</td>\n",
       "      <td>87245</td>\n",
       "      <td>84600</td>\n",
       "      <td>87524.0</td>\n",
       "      <td>84600.0</td>\n",
       "      <td>28-FEB-18 12:05:11</td>\n",
       "      <td>,2967409,</td>\n",
       "    </tr>\n",
       "    <tr>\n",
       "      <th>1</th>\n",
       "      <td>07-FEB-18 00:00:00</td>\n",
       "      <td>6262138</td>\n",
       "      <td>25B</td>\n",
       "      <td>25B_271</td>\n",
       "      <td>2</td>\n",
       "      <td>30517</td>\n",
       "      <td>26460</td>\n",
       "      <td>32752.0</td>\n",
       "      <td>NaN</td>\n",
       "      <td>28-FEB-18 12:05:11</td>\n",
       "      <td>,2580260,</td>\n",
       "    </tr>\n",
       "    <tr>\n",
       "      <th>2</th>\n",
       "      <td>07-FEB-18 00:00:00</td>\n",
       "      <td>6254942</td>\n",
       "      <td>45A</td>\n",
       "      <td>45A_70</td>\n",
       "      <td>2</td>\n",
       "      <td>35512</td>\n",
       "      <td>32100</td>\n",
       "      <td>36329.0</td>\n",
       "      <td>32082.0</td>\n",
       "      <td>28-FEB-18 12:05:11</td>\n",
       "      <td>,2448968,</td>\n",
       "    </tr>\n",
       "    <tr>\n",
       "      <th>3</th>\n",
       "      <td>07-FEB-18 00:00:00</td>\n",
       "      <td>6259460</td>\n",
       "      <td>25A</td>\n",
       "      <td>25A_273</td>\n",
       "      <td>1</td>\n",
       "      <td>57261</td>\n",
       "      <td>54420</td>\n",
       "      <td>58463.0</td>\n",
       "      <td>54443.0</td>\n",
       "      <td>28-FEB-18 12:05:11</td>\n",
       "      <td>,3094242,</td>\n",
       "    </tr>\n",
       "    <tr>\n",
       "      <th>4</th>\n",
       "      <td>07-FEB-18 00:00:00</td>\n",
       "      <td>6253175</td>\n",
       "      <td>14</td>\n",
       "      <td>14_15</td>\n",
       "      <td>1</td>\n",
       "      <td>85383</td>\n",
       "      <td>81600</td>\n",
       "      <td>84682.0</td>\n",
       "      <td>81608.0</td>\n",
       "      <td>28-FEB-18 12:05:11</td>\n",
       "      <td>,2526331,</td>\n",
       "    </tr>\n",
       "  </tbody>\n",
       "</table>\n",
       "</div>"
      ],
      "text/plain": [
       "         DAYOFSERVICE   TRIPID LINEID  ROUTEID  DIRECTION  PLANNEDTIME_ARR  \\\n",
       "0  07-FEB-18 00:00:00  6253783     68    68_80          1            87245   \n",
       "1  07-FEB-18 00:00:00  6262138    25B  25B_271          2            30517   \n",
       "2  07-FEB-18 00:00:00  6254942    45A   45A_70          2            35512   \n",
       "3  07-FEB-18 00:00:00  6259460    25A  25A_273          1            57261   \n",
       "4  07-FEB-18 00:00:00  6253175     14    14_15          1            85383   \n",
       "\n",
       "   PLANNEDTIME_DEP  ACTUALTIME_ARR  ACTUALTIME_DEP          LASTUPDATE  \\\n",
       "0            84600         87524.0         84600.0  28-FEB-18 12:05:11   \n",
       "1            26460         32752.0             NaN  28-FEB-18 12:05:11   \n",
       "2            32100         36329.0         32082.0  28-FEB-18 12:05:11   \n",
       "3            54420         58463.0         54443.0  28-FEB-18 12:05:11   \n",
       "4            81600         84682.0         81608.0  28-FEB-18 12:05:11   \n",
       "\n",
       "        NOTE  \n",
       "0  ,2967409,  \n",
       "1  ,2580260,  \n",
       "2  ,2448968,  \n",
       "3  ,3094242,  \n",
       "4  ,2526331,  "
      ]
     },
     "execution_count": 34,
     "metadata": {},
     "output_type": "execute_result"
    }
   ],
   "source": [
    "# Dropping columns\n",
    "\n",
    "df_trips = df_trips.drop(columns=[\"DATASOURCE\",\"BASIN\", \"TENDERLOT\",\"SUPPRESSED\",\"JUSTIFICATIONID\"])\n",
    "df_trips.head(5)"
   ]
  },
  {
   "cell_type": "code",
   "execution_count": 35,
   "id": "excellent-albania",
   "metadata": {},
   "outputs": [
    {
     "data": {
      "text/plain": [
       "DAYOFSERVICE            0\n",
       "TRIPID                  0\n",
       "LINEID                  0\n",
       "ROUTEID                 0\n",
       "DIRECTION               0\n",
       "PLANNEDTIME_ARR         0\n",
       "PLANNEDTIME_DEP         0\n",
       "ACTUALTIME_ARR     137207\n",
       "ACTUALTIME_DEP     164551\n",
       "LASTUPDATE              0\n",
       "NOTE                    0\n",
       "dtype: int64"
      ]
     },
     "execution_count": 35,
     "metadata": {},
     "output_type": "execute_result"
    }
   ],
   "source": [
    "df_trips.isnull().sum()"
   ]
  },
  {
   "cell_type": "markdown",
   "id": "controversial-disposal",
   "metadata": {},
   "source": [
    "- Null values only occur in ACTUALTIME_ARR and ACTUALTIME_DEP and only account for 6.3% and 7.5% of the overall dataset. \n",
    "- We will now drop all the rows with null values remaining."
   ]
  },
  {
   "cell_type": "code",
   "execution_count": 36,
   "id": "addressed-access",
   "metadata": {},
   "outputs": [],
   "source": [
    "# Dropping rows with null values\n",
    "df_trips = df_trips.dropna()"
   ]
  },
  {
   "cell_type": "code",
   "execution_count": 37,
   "id": "functioning-leone",
   "metadata": {},
   "outputs": [
    {
     "data": {
      "text/plain": [
       "DAYOFSERVICE       0\n",
       "TRIPID             0\n",
       "LINEID             0\n",
       "ROUTEID            0\n",
       "DIRECTION          0\n",
       "PLANNEDTIME_ARR    0\n",
       "PLANNEDTIME_DEP    0\n",
       "ACTUALTIME_ARR     0\n",
       "ACTUALTIME_DEP     0\n",
       "LASTUPDATE         0\n",
       "NOTE               0\n",
       "dtype: int64"
      ]
     },
     "execution_count": 37,
     "metadata": {},
     "output_type": "execute_result"
    }
   ],
   "source": [
    "df_trips.isnull().sum()"
   ]
  },
  {
   "cell_type": "markdown",
   "id": "concerned-driving",
   "metadata": {},
   "source": [
    "- No null values remain for trips"
   ]
  },
  {
   "cell_type": "markdown",
   "id": "imposed-mayor",
   "metadata": {},
   "source": [
    "#### Checking and Chaning datatypes"
   ]
  },
  {
   "cell_type": "code",
   "execution_count": 38,
   "id": "4da0d937",
   "metadata": {},
   "outputs": [
    {
     "data": {
      "text/plain": [
       "DAYOFSERVICE        object\n",
       "TRIPID               int64\n",
       "LINEID              object\n",
       "ROUTEID             object\n",
       "DIRECTION            int64\n",
       "PLANNEDTIME_ARR      int64\n",
       "PLANNEDTIME_DEP      int64\n",
       "ACTUALTIME_ARR     float64\n",
       "ACTUALTIME_DEP     float64\n",
       "LASTUPDATE          object\n",
       "NOTE                object\n",
       "dtype: object"
      ]
     },
     "execution_count": 38,
     "metadata": {},
     "output_type": "execute_result"
    }
   ],
   "source": [
    "# Finding the data types of each column\n",
    "df_trips.dtypes"
   ]
  },
  {
   "cell_type": "code",
   "execution_count": 39,
   "id": "b13dfb31",
   "metadata": {},
   "outputs": [],
   "source": [
    "# Convert all types to category\n",
    "for column in df_trips:\n",
    "    df_trips[column] = df_trips[column].astype('category')  "
   ]
  },
  {
   "cell_type": "code",
   "execution_count": 40,
   "id": "fancy-truth",
   "metadata": {},
   "outputs": [
    {
     "data": {
      "text/plain": [
       "DAYOFSERVICE       category\n",
       "TRIPID             category\n",
       "LINEID             category\n",
       "ROUTEID            category\n",
       "DIRECTION          category\n",
       "PLANNEDTIME_ARR    category\n",
       "PLANNEDTIME_DEP    category\n",
       "ACTUALTIME_ARR     category\n",
       "ACTUALTIME_DEP     category\n",
       "LASTUPDATE         category\n",
       "NOTE               category\n",
       "dtype: object"
      ]
     },
     "execution_count": 40,
     "metadata": {},
     "output_type": "execute_result"
    }
   ],
   "source": [
    "# Converting dayofservice to datetime64\n",
    "df_trips['DAYOFSERVICE'] = pd.to_datetime(df_trips['DAYOFSERVICE'], infer_datetime_format=True)\n",
    "\n",
    "# Converting lastupdate to datetime64\n",
    "df_trips['LASTUPDATE'] = pd.to_datetime(df_trips['LASTUPDATE'], infer_datetime_format=True)\n",
    "df_trips.dtypes"
   ]
  },
  {
   "cell_type": "code",
   "execution_count": 41,
   "id": "nasty-profit",
   "metadata": {},
   "outputs": [
    {
     "data": {
      "text/html": [
       "<div>\n",
       "<style scoped>\n",
       "    .dataframe tbody tr th:only-of-type {\n",
       "        vertical-align: middle;\n",
       "    }\n",
       "\n",
       "    .dataframe tbody tr th {\n",
       "        vertical-align: top;\n",
       "    }\n",
       "\n",
       "    .dataframe thead th {\n",
       "        text-align: right;\n",
       "    }\n",
       "</style>\n",
       "<table border=\"1\" class=\"dataframe\">\n",
       "  <thead>\n",
       "    <tr style=\"text-align: right;\">\n",
       "      <th></th>\n",
       "      <th>DAYOFSERVICE</th>\n",
       "      <th>TRIPID</th>\n",
       "      <th>LINEID</th>\n",
       "      <th>ROUTEID</th>\n",
       "      <th>DIRECTION</th>\n",
       "      <th>PLANNEDTIME_ARR</th>\n",
       "      <th>PLANNEDTIME_DEP</th>\n",
       "      <th>ACTUALTIME_ARR</th>\n",
       "      <th>ACTUALTIME_DEP</th>\n",
       "      <th>LASTUPDATE</th>\n",
       "      <th>NOTE</th>\n",
       "    </tr>\n",
       "  </thead>\n",
       "  <tbody>\n",
       "    <tr>\n",
       "      <th>0</th>\n",
       "      <td>2018-02-07</td>\n",
       "      <td>6253783</td>\n",
       "      <td>68</td>\n",
       "      <td>68_80</td>\n",
       "      <td>1</td>\n",
       "      <td>87245</td>\n",
       "      <td>84600</td>\n",
       "      <td>87524.0</td>\n",
       "      <td>84600.0</td>\n",
       "      <td>2018-02-28 12:05:11</td>\n",
       "      <td>,2967409,</td>\n",
       "    </tr>\n",
       "    <tr>\n",
       "      <th>2</th>\n",
       "      <td>2018-02-07</td>\n",
       "      <td>6254942</td>\n",
       "      <td>45A</td>\n",
       "      <td>45A_70</td>\n",
       "      <td>2</td>\n",
       "      <td>35512</td>\n",
       "      <td>32100</td>\n",
       "      <td>36329.0</td>\n",
       "      <td>32082.0</td>\n",
       "      <td>2018-02-28 12:05:11</td>\n",
       "      <td>,2448968,</td>\n",
       "    </tr>\n",
       "    <tr>\n",
       "      <th>3</th>\n",
       "      <td>2018-02-07</td>\n",
       "      <td>6259460</td>\n",
       "      <td>25A</td>\n",
       "      <td>25A_273</td>\n",
       "      <td>1</td>\n",
       "      <td>57261</td>\n",
       "      <td>54420</td>\n",
       "      <td>58463.0</td>\n",
       "      <td>54443.0</td>\n",
       "      <td>2018-02-28 12:05:11</td>\n",
       "      <td>,3094242,</td>\n",
       "    </tr>\n",
       "    <tr>\n",
       "      <th>4</th>\n",
       "      <td>2018-02-07</td>\n",
       "      <td>6253175</td>\n",
       "      <td>14</td>\n",
       "      <td>14_15</td>\n",
       "      <td>1</td>\n",
       "      <td>85383</td>\n",
       "      <td>81600</td>\n",
       "      <td>84682.0</td>\n",
       "      <td>81608.0</td>\n",
       "      <td>2018-02-28 12:05:11</td>\n",
       "      <td>,2526331,</td>\n",
       "    </tr>\n",
       "    <tr>\n",
       "      <th>5</th>\n",
       "      <td>2018-02-07</td>\n",
       "      <td>6248240</td>\n",
       "      <td>77A</td>\n",
       "      <td>77A_28</td>\n",
       "      <td>2</td>\n",
       "      <td>41648</td>\n",
       "      <td>37200</td>\n",
       "      <td>42019.0</td>\n",
       "      <td>37538.0</td>\n",
       "      <td>2018-02-28 12:05:11</td>\n",
       "      <td>,2966500,</td>\n",
       "    </tr>\n",
       "  </tbody>\n",
       "</table>\n",
       "</div>"
      ],
      "text/plain": [
       "  DAYOFSERVICE   TRIPID LINEID  ROUTEID DIRECTION PLANNEDTIME_ARR  \\\n",
       "0   2018-02-07  6253783     68    68_80         1           87245   \n",
       "2   2018-02-07  6254942    45A   45A_70         2           35512   \n",
       "3   2018-02-07  6259460    25A  25A_273         1           57261   \n",
       "4   2018-02-07  6253175     14    14_15         1           85383   \n",
       "5   2018-02-07  6248240    77A   77A_28         2           41648   \n",
       "\n",
       "  PLANNEDTIME_DEP ACTUALTIME_ARR ACTUALTIME_DEP          LASTUPDATE       NOTE  \n",
       "0           84600        87524.0        84600.0 2018-02-28 12:05:11  ,2967409,  \n",
       "2           32100        36329.0        32082.0 2018-02-28 12:05:11  ,2448968,  \n",
       "3           54420        58463.0        54443.0 2018-02-28 12:05:11  ,3094242,  \n",
       "4           81600        84682.0        81608.0 2018-02-28 12:05:11  ,2526331,  \n",
       "5           37200        42019.0        37538.0 2018-02-28 12:05:11  ,2966500,  "
      ]
     },
     "execution_count": 41,
     "metadata": {},
     "output_type": "execute_result"
    }
   ],
   "source": [
    "df_trips.head(5)"
   ]
  },
  {
   "cell_type": "code",
   "execution_count": 42,
   "id": "feea74fe",
   "metadata": {},
   "outputs": [],
   "source": [
    "# Write the cleaned df to a new csv file\n",
    "df_trips.to_csv(r'C:\\Users\\jason\\OneDrive - University College Dublin\\Documents\\MSc Computer Science\\Summer Semester\\Data\\Notebooks\\CleanedCSVs\\rt_trips_DB_2018_cleaned.csv')"
   ]
  },
  {
   "cell_type": "markdown",
   "id": "a840d4a9",
   "metadata": {},
   "source": [
    "### Summary of data quality plan for Trips Dataset:"
   ]
  },
  {
   "cell_type": "markdown",
   "id": "b00c8e17",
   "metadata": {},
   "source": [
    "<table>\n",
    "    <tr>\n",
    "        <th>Feature</th><th>Feature Type</th><th>Data Quality Issue</th><th>Handling Strategy</th>\n",
    "    </tr>\n",
    "    <tr>\n",
    "        <td>datasource</td><td>Category</td><td>Identical Values</td><td>This feature should be dropped as the values are all the same and add nothing useful to the dataset</td>\n",
    "    </tr>\n",
    "    <tr>\n",
    "        <td>dayofservice</td><td>Datetime64</td><td>None</td><td>This feature will be left the same</td>\n",
    "    </tr>\n",
    "    <tr>\n",
    "        <td>tripid</td><td>Category</td><td>None</td><td>This feature will be left the same</td>\n",
    "    </tr>\n",
    "    <tr>\n",
    "        <td>lineid</td><td>Category</td><td>None</td><td>This feature will be left the same</td>\n",
    "    </tr>\n",
    "    <tr>\n",
    "        <td>routeid</td><td>Category</td><td>None</td><td>This feature will be left the same</td>\n",
    "    </tr>\n",
    "    <tr>\n",
    "        <td>direction</td><td>Category</td><td>None</td><td>This feature will be left the same</td>\n",
    "    </tr>\n",
    "    <tr>\n",
    "        <td>plannedtime_arr</td><td>Category</td><td>None</td><td>This feature will be left the same</td>\n",
    "    </tr>\n",
    "    <tr>\n",
    "        <td>plannedtime_dep</td><td>Category</td><td>None</td><td>This feature will be left the same</td>\n",
    "    </tr>\n",
    "    <tr>\n",
    "        <td>actualtime_arr</td><td>Category</td><td>Missing Values 6.3%</td><td>Dropping rows with null values</td>\n",
    "    </tr>\n",
    "    <tr>\n",
    "        <td>actualtime_dep</td><td>Category</td><td>Missing Values 7.5%</td><td>Dropping rows with null values</td>\n",
    "    </tr>\n",
    "    <tr>\n",
    "        <td>basin</td><td>Category</td><td>Identical Values</td><td>This feature should be dropped as the values are all the same and add nothing useful to the dataset</td>\n",
    "    </tr>\n",
    "    <tr>\n",
    "        <td>tenderlot</td><td>Category</td><td>Missing Values 100%</td><td>This feature is completely missing and therefore can provide no useful information for further analysis and should be dropped</td>\n",
    "    </tr>\n",
    "    <tr>\n",
    "        <td>suppressed</td><td>Category</td><td>Missing Values 99.8%</td><td>This feature has over 99% missing data, the suppressed flag defines actual arrival/departure time is missing. If this feature can not be recovered, it can be dropped too.\n",
    "</td>\n",
    "    </tr>\n",
    "    <tr>\n",
    "        <td>justificationid</td><td>Category</td><td>Missing Values 99.8%</td><td>This feature refers to a table that is not made available and is also nearly completely missing. This feature will be dropped.</td>\n",
    "    </tr>\n",
    "    <tr>\n",
    "        <td>lastupdate</td><td>Datetime64</td><td>None</td><td>This feature will be left the same</td>\n",
    "    </tr>\n",
    "    <tr>\n",
    "        <td>note</td><td>Category</td><td>None</td><td>This feature will be left the same</td>\n",
    "    </tr>\n",
    "</table>"
   ]
  },
  {
   "cell_type": "markdown",
   "id": "c1c0f294",
   "metadata": {},
   "source": [
    "### 4.0 Cleaning Vehicles Dataset"
   ]
  },
  {
   "cell_type": "code",
   "execution_count": 43,
   "id": "incident-mother",
   "metadata": {},
   "outputs": [],
   "source": [
    "# Loading in leavetimes dataset\n",
    "df_vehicles = pd.read_csv(r'C:\\Users\\jason\\OneDrive - University College Dublin\\Documents\\MSc Computer Science\\Summer Semester\\Data\\GTFS Data\\2018 Data\\rt_vehicles_DB_2018.txt', sep=';')"
   ]
  },
  {
   "cell_type": "code",
   "execution_count": 44,
   "id": "aad186c4",
   "metadata": {},
   "outputs": [],
   "source": [
    "# # Replacing carriage return with blank values\n",
    "# df_vehicles.replace(to_replace=r'[\\n\\r\\t]', value='', regex=True, inplace=True)"
   ]
  },
  {
   "cell_type": "code",
   "execution_count": 45,
   "id": "ec3e04d2",
   "metadata": {},
   "outputs": [],
   "source": [
    "# # Replacing blank cells with Nan values\n",
    "# df_vehicles.replace(\"\", np.nan, inplace=True)"
   ]
  },
  {
   "cell_type": "code",
   "execution_count": 46,
   "id": "28156433",
   "metadata": {},
   "outputs": [
    {
     "data": {
      "text/plain": [
       "(272622, 7)"
      ]
     },
     "execution_count": 46,
     "metadata": {},
     "output_type": "execute_result"
    }
   ],
   "source": [
    "# Checking the rows and columns of this dataframe\n",
    "df_vehicles.shape"
   ]
  },
  {
   "cell_type": "code",
   "execution_count": 47,
   "id": "9c319610",
   "metadata": {},
   "outputs": [
    {
     "data": {
      "text/html": [
       "<div>\n",
       "<style scoped>\n",
       "    .dataframe tbody tr th:only-of-type {\n",
       "        vertical-align: middle;\n",
       "    }\n",
       "\n",
       "    .dataframe tbody tr th {\n",
       "        vertical-align: top;\n",
       "    }\n",
       "\n",
       "    .dataframe thead th {\n",
       "        text-align: right;\n",
       "    }\n",
       "</style>\n",
       "<table border=\"1\" class=\"dataframe\">\n",
       "  <thead>\n",
       "    <tr style=\"text-align: right;\">\n",
       "      <th></th>\n",
       "      <th>count</th>\n",
       "      <th>mean</th>\n",
       "      <th>std</th>\n",
       "      <th>min</th>\n",
       "      <th>25%</th>\n",
       "      <th>50%</th>\n",
       "      <th>75%</th>\n",
       "      <th>max</th>\n",
       "    </tr>\n",
       "  </thead>\n",
       "  <tbody>\n",
       "    <tr>\n",
       "      <th>VEHICLEID</th>\n",
       "      <td>272622.0</td>\n",
       "      <td>1.928436e+06</td>\n",
       "      <td>810440.716935</td>\n",
       "      <td>1000110.0</td>\n",
       "      <td>1000948.0</td>\n",
       "      <td>2172252.0</td>\n",
       "      <td>2693217.00</td>\n",
       "      <td>3394131.0</td>\n",
       "    </tr>\n",
       "    <tr>\n",
       "      <th>DISTANCE</th>\n",
       "      <td>272622.0</td>\n",
       "      <td>1.774863e+05</td>\n",
       "      <td>71334.432383</td>\n",
       "      <td>0.0</td>\n",
       "      <td>126765.0</td>\n",
       "      <td>177420.0</td>\n",
       "      <td>227126.25</td>\n",
       "      <td>473864.0</td>\n",
       "    </tr>\n",
       "    <tr>\n",
       "      <th>MINUTES</th>\n",
       "      <td>272622.0</td>\n",
       "      <td>4.559764e+04</td>\n",
       "      <td>14881.389868</td>\n",
       "      <td>-70145.0</td>\n",
       "      <td>39380.0</td>\n",
       "      <td>46994.5</td>\n",
       "      <td>57911.00</td>\n",
       "      <td>76651.0</td>\n",
       "    </tr>\n",
       "    <tr>\n",
       "      <th>NOTE</th>\n",
       "      <td>0.0</td>\n",
       "      <td>NaN</td>\n",
       "      <td>NaN</td>\n",
       "      <td>NaN</td>\n",
       "      <td>NaN</td>\n",
       "      <td>NaN</td>\n",
       "      <td>NaN</td>\n",
       "      <td>NaN</td>\n",
       "    </tr>\n",
       "  </tbody>\n",
       "</table>\n",
       "</div>"
      ],
      "text/plain": [
       "              count          mean            std        min        25%  \\\n",
       "VEHICLEID  272622.0  1.928436e+06  810440.716935  1000110.0  1000948.0   \n",
       "DISTANCE   272622.0  1.774863e+05   71334.432383        0.0   126765.0   \n",
       "MINUTES    272622.0  4.559764e+04   14881.389868   -70145.0    39380.0   \n",
       "NOTE            0.0           NaN            NaN        NaN        NaN   \n",
       "\n",
       "                 50%         75%        max  \n",
       "VEHICLEID  2172252.0  2693217.00  3394131.0  \n",
       "DISTANCE    177420.0   227126.25   473864.0  \n",
       "MINUTES      46994.5    57911.00    76651.0  \n",
       "NOTE             NaN         NaN        NaN  "
      ]
     },
     "execution_count": 47,
     "metadata": {},
     "output_type": "execute_result"
    }
   ],
   "source": [
    "df_vehicles.describe().T"
   ]
  },
  {
   "cell_type": "markdown",
   "id": "eb21b12a",
   "metadata": {},
   "source": [
    "#### Check for Null Values"
   ]
  },
  {
   "cell_type": "code",
   "execution_count": 48,
   "id": "6c3f29c2",
   "metadata": {},
   "outputs": [
    {
     "data": {
      "text/plain": [
       "DATASOURCE           0\n",
       "DAYOFSERVICE         0\n",
       "VEHICLEID            0\n",
       "DISTANCE             0\n",
       "MINUTES              0\n",
       "LASTUPDATE           0\n",
       "NOTE            272622\n",
       "dtype: int64"
      ]
     },
     "execution_count": 48,
     "metadata": {},
     "output_type": "execute_result"
    }
   ],
   "source": [
    "df_vehicles.isnull().sum()"
   ]
  },
  {
   "cell_type": "markdown",
   "id": "e9d6278a",
   "metadata": {},
   "source": [
    "- There are null values for note"
   ]
  },
  {
   "cell_type": "markdown",
   "id": "d9b338ca",
   "metadata": {},
   "source": [
    "#### We will now check what % of missing values note has"
   ]
  },
  {
   "cell_type": "code",
   "execution_count": 49,
   "id": "6c999d25",
   "metadata": {},
   "outputs": [
    {
     "data": {
      "text/plain": [
       "100.0"
      ]
     },
     "execution_count": 49,
     "metadata": {},
     "output_type": "execute_result"
    }
   ],
   "source": [
    "# % missing on note\n",
    "note_missing = 100 * (df_vehicles['NOTE'].isnull().sum()/df_vehicles.shape[0])\n",
    "note_missing"
   ]
  },
  {
   "cell_type": "markdown",
   "id": "0ffb93e9",
   "metadata": {},
   "source": [
    "#### Dropping the necessary columns"
   ]
  },
  {
   "cell_type": "code",
   "execution_count": 50,
   "id": "8bb2894d",
   "metadata": {},
   "outputs": [
    {
     "data": {
      "text/html": [
       "<div>\n",
       "<style scoped>\n",
       "    .dataframe tbody tr th:only-of-type {\n",
       "        vertical-align: middle;\n",
       "    }\n",
       "\n",
       "    .dataframe tbody tr th {\n",
       "        vertical-align: top;\n",
       "    }\n",
       "\n",
       "    .dataframe thead th {\n",
       "        text-align: right;\n",
       "    }\n",
       "</style>\n",
       "<table border=\"1\" class=\"dataframe\">\n",
       "  <thead>\n",
       "    <tr style=\"text-align: right;\">\n",
       "      <th></th>\n",
       "      <th>DAYOFSERVICE</th>\n",
       "      <th>VEHICLEID</th>\n",
       "      <th>DISTANCE</th>\n",
       "      <th>MINUTES</th>\n",
       "      <th>LASTUPDATE</th>\n",
       "    </tr>\n",
       "  </thead>\n",
       "  <tbody>\n",
       "    <tr>\n",
       "      <th>0</th>\n",
       "      <td>23-NOV-18 00:00:00</td>\n",
       "      <td>3303848</td>\n",
       "      <td>286166</td>\n",
       "      <td>58849</td>\n",
       "      <td>04-DEC-18 08:03:09</td>\n",
       "    </tr>\n",
       "    <tr>\n",
       "      <th>1</th>\n",
       "      <td>23-NOV-18 00:00:00</td>\n",
       "      <td>3303847</td>\n",
       "      <td>259545</td>\n",
       "      <td>56828</td>\n",
       "      <td>04-DEC-18 08:03:09</td>\n",
       "    </tr>\n",
       "    <tr>\n",
       "      <th>2</th>\n",
       "      <td>28-FEB-18 00:00:00</td>\n",
       "      <td>2868329</td>\n",
       "      <td>103096</td>\n",
       "      <td>40967</td>\n",
       "      <td>08-MAR-18 10:35:59</td>\n",
       "    </tr>\n",
       "    <tr>\n",
       "      <th>3</th>\n",
       "      <td>28-FEB-18 00:00:00</td>\n",
       "      <td>2868330</td>\n",
       "      <td>147277</td>\n",
       "      <td>43599</td>\n",
       "      <td>08-MAR-18 10:35:59</td>\n",
       "    </tr>\n",
       "    <tr>\n",
       "      <th>4</th>\n",
       "      <td>28-FEB-18 00:00:00</td>\n",
       "      <td>2868331</td>\n",
       "      <td>224682</td>\n",
       "      <td>40447</td>\n",
       "      <td>08-MAR-18 10:35:59</td>\n",
       "    </tr>\n",
       "  </tbody>\n",
       "</table>\n",
       "</div>"
      ],
      "text/plain": [
       "         DAYOFSERVICE  VEHICLEID  DISTANCE  MINUTES          LASTUPDATE\n",
       "0  23-NOV-18 00:00:00    3303848    286166    58849  04-DEC-18 08:03:09\n",
       "1  23-NOV-18 00:00:00    3303847    259545    56828  04-DEC-18 08:03:09\n",
       "2  28-FEB-18 00:00:00    2868329    103096    40967  08-MAR-18 10:35:59\n",
       "3  28-FEB-18 00:00:00    2868330    147277    43599  08-MAR-18 10:35:59\n",
       "4  28-FEB-18 00:00:00    2868331    224682    40447  08-MAR-18 10:35:59"
      ]
     },
     "execution_count": 50,
     "metadata": {},
     "output_type": "execute_result"
    }
   ],
   "source": [
    "# Dropping columns\n",
    "\n",
    "df_vehicles = df_vehicles.drop(columns=[\"DATASOURCE\",\"NOTE\"])\n",
    "df_vehicles.head(5)"
   ]
  },
  {
   "cell_type": "markdown",
   "id": "83ca7437",
   "metadata": {},
   "source": [
    "#### Checking for duplicate rows"
   ]
  },
  {
   "cell_type": "code",
   "execution_count": 51,
   "id": "31f0a3e4",
   "metadata": {},
   "outputs": [
    {
     "data": {
      "text/plain": [
       "0"
      ]
     },
     "execution_count": 51,
     "metadata": {},
     "output_type": "execute_result"
    }
   ],
   "source": [
    "# Checking duplicate rows\n",
    "df_vehicles.duplicated().sum()"
   ]
  },
  {
   "cell_type": "markdown",
   "id": "delayed-pickup",
   "metadata": {},
   "source": [
    "#### Checking and changing datatypes"
   ]
  },
  {
   "cell_type": "code",
   "execution_count": 52,
   "id": "513fad12",
   "metadata": {},
   "outputs": [
    {
     "data": {
      "text/plain": [
       "DAYOFSERVICE    object\n",
       "VEHICLEID        int64\n",
       "DISTANCE         int64\n",
       "MINUTES          int64\n",
       "LASTUPDATE      object\n",
       "dtype: object"
      ]
     },
     "execution_count": 52,
     "metadata": {},
     "output_type": "execute_result"
    }
   ],
   "source": [
    "# Finding the data types of each column\n",
    "df_vehicles.dtypes"
   ]
  },
  {
   "cell_type": "code",
   "execution_count": 53,
   "id": "0f3d339f",
   "metadata": {},
   "outputs": [],
   "source": [
    "# Convert all types to category\n",
    "for column in df_vehicles:\n",
    "    df_vehicles[column] = df_vehicles[column].astype('category')  "
   ]
  },
  {
   "cell_type": "code",
   "execution_count": 54,
   "id": "liquid-airfare",
   "metadata": {},
   "outputs": [
    {
     "data": {
      "text/plain": [
       "DAYOFSERVICE    category\n",
       "VEHICLEID       category\n",
       "DISTANCE        category\n",
       "MINUTES         category\n",
       "LASTUPDATE      category\n",
       "dtype: object"
      ]
     },
     "execution_count": 54,
     "metadata": {},
     "output_type": "execute_result"
    }
   ],
   "source": [
    "# Converting dayofservice to datetime64\n",
    "df_vehicles['DAYOFSERVICE'] = pd.to_datetime(df_vehicles['DAYOFSERVICE'], infer_datetime_format=True)\n",
    "\n",
    "# Converting lastupdate to datetime64\n",
    "df_vehicles['LASTUPDATE'] = pd.to_datetime(df_vehicles['LASTUPDATE'], infer_datetime_format=True)\n",
    "df_vehicles.dtypes"
   ]
  },
  {
   "cell_type": "code",
   "execution_count": 55,
   "id": "8f5cf621",
   "metadata": {},
   "outputs": [],
   "source": [
    "# Write the cleaned df to a new csv file\n",
    "df_vehicles.to_csv(r'C:\\Users\\jason\\OneDrive - University College Dublin\\Documents\\MSc Computer Science\\Summer Semester\\Data\\Notebooks\\CleanedCSVs\\rt_vehicles_DB_2018_cleaned.csv')"
   ]
  },
  {
   "cell_type": "markdown",
   "id": "6f2a2bb7",
   "metadata": {},
   "source": [
    "### Summary of data quality plan for Vehicles Dataset:"
   ]
  },
  {
   "cell_type": "markdown",
   "id": "80841183",
   "metadata": {},
   "source": [
    "<table>\n",
    "    <tr>\n",
    "        <th>Feature</th><th>Feature Type</th><th>Data Quality Issue</th><th>Handling Strategy</th>\n",
    "    </tr>\n",
    "    <tr>\n",
    "        <td>datasource</td><td>Category</td><td>Identical Values</td><td>This feature should be dropped as the values are all the same and add nothing useful to the dataset</td>\n",
    "    </tr>\n",
    "    <tr>\n",
    "        <td>dayofservice</td><td>Datetime64</td><td>None</td><td>This feature will be left the same</td>\n",
    "    </tr>\n",
    "    <tr>\n",
    "        <td>vehicleid</td><td>Category</td><td>None</td><td>This feature will be left the same</td>\n",
    "    </tr>\n",
    "    <tr>\n",
    "        <td>distance</td><td>Category</td><td>None</td><td>This feature will be left the same</td>\n",
    "    </tr>\n",
    "    <tr>\n",
    "        <td>minutes</td><td>Category</td><td>None</td><td>This feature will be left the same</td>\n",
    "    </tr>\n",
    "    <tr>\n",
    "        <td>lastupdate</td><td>Datetime64</td><td>None</td><td>This feature will be left the same</td>\n",
    "    </tr>\n",
    "    <tr>\n",
    "        <td>note</td><td>Category</td><td>Missing Values 100%</td><td>This feature is completely missing and therefore can provide no useful information for further analysis and should be dropped</td>\n",
    "    </tr>\n",
    "</table>"
   ]
  },
  {
   "cell_type": "markdown",
   "id": "variable-professional",
   "metadata": {},
   "source": [
    "### 5.0 Cleaning Weather Data"
   ]
  },
  {
   "cell_type": "code",
   "execution_count": 56,
   "id": "white-approval",
   "metadata": {},
   "outputs": [],
   "source": [
    "#read in weather csv\n",
    "df_weather = pd.read_csv(r'C:\\Users\\jason\\OneDrive - University College Dublin\\Documents\\MSc Computer Science\\Summer Semester\\Data\\Notebooks\\weather2018.csv')"
   ]
  },
  {
   "cell_type": "code",
   "execution_count": 57,
   "id": "mounted-tuning",
   "metadata": {},
   "outputs": [
    {
     "data": {
      "text/plain": [
       "(8760, 7)"
      ]
     },
     "execution_count": 57,
     "metadata": {},
     "output_type": "execute_result"
    }
   ],
   "source": [
    "# Checking the rows and columns of this dataframe\n",
    "df_weather.shape"
   ]
  },
  {
   "cell_type": "code",
   "execution_count": 58,
   "id": "dimensional-greeting",
   "metadata": {},
   "outputs": [
    {
     "data": {
      "text/html": [
       "<div>\n",
       "<style scoped>\n",
       "    .dataframe tbody tr th:only-of-type {\n",
       "        vertical-align: middle;\n",
       "    }\n",
       "\n",
       "    .dataframe tbody tr th {\n",
       "        vertical-align: top;\n",
       "    }\n",
       "\n",
       "    .dataframe thead th {\n",
       "        text-align: right;\n",
       "    }\n",
       "</style>\n",
       "<table border=\"1\" class=\"dataframe\">\n",
       "  <thead>\n",
       "    <tr style=\"text-align: right;\">\n",
       "      <th></th>\n",
       "      <th>latitude</th>\n",
       "      <th>longitude</th>\n",
       "      <th>date</th>\n",
       "      <th>rain</th>\n",
       "      <th>temp</th>\n",
       "      <th>msl</th>\n",
       "      <th>wdsp</th>\n",
       "    </tr>\n",
       "  </thead>\n",
       "  <tbody>\n",
       "    <tr>\n",
       "      <th>0</th>\n",
       "      <td>53.364</td>\n",
       "      <td>-6.35</td>\n",
       "      <td>01-jan-2018 00:00</td>\n",
       "      <td>0.0</td>\n",
       "      <td>4.6</td>\n",
       "      <td>991.0</td>\n",
       "      <td>NaN</td>\n",
       "    </tr>\n",
       "    <tr>\n",
       "      <th>1</th>\n",
       "      <td>53.364</td>\n",
       "      <td>-6.35</td>\n",
       "      <td>01-jan-2018 01:00</td>\n",
       "      <td>0.1</td>\n",
       "      <td>4.7</td>\n",
       "      <td>991.1</td>\n",
       "      <td>NaN</td>\n",
       "    </tr>\n",
       "    <tr>\n",
       "      <th>2</th>\n",
       "      <td>53.364</td>\n",
       "      <td>-6.35</td>\n",
       "      <td>01-jan-2018 02:00</td>\n",
       "      <td>0.0</td>\n",
       "      <td>4.8</td>\n",
       "      <td>991.1</td>\n",
       "      <td>NaN</td>\n",
       "    </tr>\n",
       "    <tr>\n",
       "      <th>3</th>\n",
       "      <td>53.364</td>\n",
       "      <td>-6.35</td>\n",
       "      <td>01-jan-2018 03:00</td>\n",
       "      <td>0.0</td>\n",
       "      <td>4.9</td>\n",
       "      <td>990.7</td>\n",
       "      <td>NaN</td>\n",
       "    </tr>\n",
       "    <tr>\n",
       "      <th>4</th>\n",
       "      <td>53.364</td>\n",
       "      <td>-6.35</td>\n",
       "      <td>01-jan-2018 04:00</td>\n",
       "      <td>0.0</td>\n",
       "      <td>5.3</td>\n",
       "      <td>990.3</td>\n",
       "      <td>NaN</td>\n",
       "    </tr>\n",
       "    <tr>\n",
       "      <th>5</th>\n",
       "      <td>53.364</td>\n",
       "      <td>-6.35</td>\n",
       "      <td>01-jan-2018 05:00</td>\n",
       "      <td>0.0</td>\n",
       "      <td>5.1</td>\n",
       "      <td>990.0</td>\n",
       "      <td>NaN</td>\n",
       "    </tr>\n",
       "    <tr>\n",
       "      <th>6</th>\n",
       "      <td>53.364</td>\n",
       "      <td>-6.35</td>\n",
       "      <td>01-jan-2018 06:00</td>\n",
       "      <td>0.0</td>\n",
       "      <td>5.0</td>\n",
       "      <td>990.9</td>\n",
       "      <td>NaN</td>\n",
       "    </tr>\n",
       "    <tr>\n",
       "      <th>7</th>\n",
       "      <td>53.364</td>\n",
       "      <td>-6.35</td>\n",
       "      <td>01-jan-2018 07:00</td>\n",
       "      <td>0.0</td>\n",
       "      <td>4.6</td>\n",
       "      <td>991.2</td>\n",
       "      <td>NaN</td>\n",
       "    </tr>\n",
       "    <tr>\n",
       "      <th>8</th>\n",
       "      <td>53.364</td>\n",
       "      <td>-6.35</td>\n",
       "      <td>01-jan-2018 08:00</td>\n",
       "      <td>0.0</td>\n",
       "      <td>4.3</td>\n",
       "      <td>991.8</td>\n",
       "      <td>NaN</td>\n",
       "    </tr>\n",
       "    <tr>\n",
       "      <th>9</th>\n",
       "      <td>53.364</td>\n",
       "      <td>-6.35</td>\n",
       "      <td>01-jan-2018 09:00</td>\n",
       "      <td>0.0</td>\n",
       "      <td>4.5</td>\n",
       "      <td>992.4</td>\n",
       "      <td>NaN</td>\n",
       "    </tr>\n",
       "  </tbody>\n",
       "</table>\n",
       "</div>"
      ],
      "text/plain": [
       "   latitude  longitude               date rain  temp    msl  wdsp\n",
       "0    53.364      -6.35  01-jan-2018 00:00  0.0   4.6  991.0   NaN\n",
       "1    53.364      -6.35  01-jan-2018 01:00  0.1   4.7  991.1   NaN\n",
       "2    53.364      -6.35  01-jan-2018 02:00  0.0   4.8  991.1   NaN\n",
       "3    53.364      -6.35  01-jan-2018 03:00  0.0   4.9  990.7   NaN\n",
       "4    53.364      -6.35  01-jan-2018 04:00  0.0   5.3  990.3   NaN\n",
       "5    53.364      -6.35  01-jan-2018 05:00  0.0   5.1  990.0   NaN\n",
       "6    53.364      -6.35  01-jan-2018 06:00  0.0   5.0  990.9   NaN\n",
       "7    53.364      -6.35  01-jan-2018 07:00  0.0   4.6  991.2   NaN\n",
       "8    53.364      -6.35  01-jan-2018 08:00  0.0   4.3  991.8   NaN\n",
       "9    53.364      -6.35  01-jan-2018 09:00  0.0   4.5  992.4   NaN"
      ]
     },
     "execution_count": 58,
     "metadata": {},
     "output_type": "execute_result"
    }
   ],
   "source": [
    "# Exploring the dataframe\n",
    "df_weather.head(10)"
   ]
  },
  {
   "cell_type": "code",
   "execution_count": 59,
   "id": "western-reporter",
   "metadata": {},
   "outputs": [
    {
     "data": {
      "text/plain": [
       "latitude        0\n",
       "longitude       0\n",
       "date            0\n",
       "rain            0\n",
       "temp            0\n",
       "msl             0\n",
       "wdsp         8760\n",
       "dtype: int64"
      ]
     },
     "execution_count": 59,
     "metadata": {},
     "output_type": "execute_result"
    }
   ],
   "source": [
    "# Checking for null values\n",
    "df_weather.isnull().sum()"
   ]
  },
  {
   "cell_type": "code",
   "execution_count": 60,
   "id": "developmental-extraction",
   "metadata": {},
   "outputs": [
    {
     "data": {
      "text/plain": [
       "100.0"
      ]
     },
     "execution_count": 60,
     "metadata": {},
     "output_type": "execute_result"
    }
   ],
   "source": [
    "# Checking for % null values on wdsp\n",
    "wdsp_missing = 100 * (df_weather['wdsp'].isnull().sum()/df_weather.shape[0])\n",
    "wdsp_missing"
   ]
  },
  {
   "cell_type": "markdown",
   "id": "robust-egyptian",
   "metadata": {},
   "source": [
    "- 100% of values are missing on column wdsp, dropping this column"
   ]
  },
  {
   "cell_type": "markdown",
   "id": "applied-parker",
   "metadata": {},
   "source": [
    "#### Dropping the necessary columns"
   ]
  },
  {
   "cell_type": "code",
   "execution_count": 61,
   "id": "transsexual-bibliography",
   "metadata": {},
   "outputs": [
    {
     "data": {
      "text/html": [
       "<div>\n",
       "<style scoped>\n",
       "    .dataframe tbody tr th:only-of-type {\n",
       "        vertical-align: middle;\n",
       "    }\n",
       "\n",
       "    .dataframe tbody tr th {\n",
       "        vertical-align: top;\n",
       "    }\n",
       "\n",
       "    .dataframe thead th {\n",
       "        text-align: right;\n",
       "    }\n",
       "</style>\n",
       "<table border=\"1\" class=\"dataframe\">\n",
       "  <thead>\n",
       "    <tr style=\"text-align: right;\">\n",
       "      <th></th>\n",
       "      <th>DAYOFSERVICE</th>\n",
       "      <th>VEHICLEID</th>\n",
       "      <th>DISTANCE</th>\n",
       "      <th>MINUTES</th>\n",
       "      <th>LASTUPDATE</th>\n",
       "    </tr>\n",
       "  </thead>\n",
       "  <tbody>\n",
       "    <tr>\n",
       "      <th>0</th>\n",
       "      <td>2018-11-23</td>\n",
       "      <td>3303848</td>\n",
       "      <td>286166</td>\n",
       "      <td>58849</td>\n",
       "      <td>2018-12-04 08:03:09</td>\n",
       "    </tr>\n",
       "    <tr>\n",
       "      <th>1</th>\n",
       "      <td>2018-11-23</td>\n",
       "      <td>3303847</td>\n",
       "      <td>259545</td>\n",
       "      <td>56828</td>\n",
       "      <td>2018-12-04 08:03:09</td>\n",
       "    </tr>\n",
       "    <tr>\n",
       "      <th>2</th>\n",
       "      <td>2018-02-28</td>\n",
       "      <td>2868329</td>\n",
       "      <td>103096</td>\n",
       "      <td>40967</td>\n",
       "      <td>2018-03-08 10:35:59</td>\n",
       "    </tr>\n",
       "    <tr>\n",
       "      <th>3</th>\n",
       "      <td>2018-02-28</td>\n",
       "      <td>2868330</td>\n",
       "      <td>147277</td>\n",
       "      <td>43599</td>\n",
       "      <td>2018-03-08 10:35:59</td>\n",
       "    </tr>\n",
       "    <tr>\n",
       "      <th>4</th>\n",
       "      <td>2018-02-28</td>\n",
       "      <td>2868331</td>\n",
       "      <td>224682</td>\n",
       "      <td>40447</td>\n",
       "      <td>2018-03-08 10:35:59</td>\n",
       "    </tr>\n",
       "  </tbody>\n",
       "</table>\n",
       "</div>"
      ],
      "text/plain": [
       "  DAYOFSERVICE VEHICLEID DISTANCE MINUTES          LASTUPDATE\n",
       "0   2018-11-23   3303848   286166   58849 2018-12-04 08:03:09\n",
       "1   2018-11-23   3303847   259545   56828 2018-12-04 08:03:09\n",
       "2   2018-02-28   2868329   103096   40967 2018-03-08 10:35:59\n",
       "3   2018-02-28   2868330   147277   43599 2018-03-08 10:35:59\n",
       "4   2018-02-28   2868331   224682   40447 2018-03-08 10:35:59"
      ]
     },
     "execution_count": 61,
     "metadata": {},
     "output_type": "execute_result"
    }
   ],
   "source": [
    "# Dropping columns\n",
    "\n",
    "df_weather = df_weather.drop(columns=[\"wdsp\",\"latitude\",\"longitude\"])\n",
    "df_vehicles.head(5)"
   ]
  },
  {
   "cell_type": "markdown",
   "id": "d80fcb3c",
   "metadata": {},
   "source": [
    "#### Setting datatypes"
   ]
  },
  {
   "cell_type": "code",
   "execution_count": 62,
   "id": "affected-ghana",
   "metadata": {},
   "outputs": [
    {
     "data": {
      "text/plain": [
       "date     object\n",
       "rain     object\n",
       "temp    float64\n",
       "msl     float64\n",
       "dtype: object"
      ]
     },
     "execution_count": 62,
     "metadata": {},
     "output_type": "execute_result"
    }
   ],
   "source": [
    "df_weather.dtypes"
   ]
  },
  {
   "cell_type": "code",
   "execution_count": 63,
   "id": "e5ccddde",
   "metadata": {},
   "outputs": [
    {
     "data": {
      "text/plain": [
       "date    datetime64[ns]\n",
       "rain            object\n",
       "temp           float64\n",
       "msl            float64\n",
       "dtype: object"
      ]
     },
     "execution_count": 63,
     "metadata": {},
     "output_type": "execute_result"
    }
   ],
   "source": [
    "# Converting column 'date' to datetime64\n",
    "df_weather['date'] = pd.to_datetime(df_weather['date'], infer_datetime_format=True)\n",
    "df_weather.dtypes"
   ]
  },
  {
   "cell_type": "code",
   "execution_count": 64,
   "id": "turkish-springer",
   "metadata": {},
   "outputs": [
    {
     "data": {
      "text/html": [
       "<div>\n",
       "<style scoped>\n",
       "    .dataframe tbody tr th:only-of-type {\n",
       "        vertical-align: middle;\n",
       "    }\n",
       "\n",
       "    .dataframe tbody tr th {\n",
       "        vertical-align: top;\n",
       "    }\n",
       "\n",
       "    .dataframe thead th {\n",
       "        text-align: right;\n",
       "    }\n",
       "</style>\n",
       "<table border=\"1\" class=\"dataframe\">\n",
       "  <thead>\n",
       "    <tr style=\"text-align: right;\">\n",
       "      <th></th>\n",
       "      <th>date</th>\n",
       "      <th>rain</th>\n",
       "      <th>temp</th>\n",
       "      <th>msl</th>\n",
       "    </tr>\n",
       "  </thead>\n",
       "  <tbody>\n",
       "    <tr>\n",
       "      <th>0</th>\n",
       "      <td>2018-01-01 00:00:00</td>\n",
       "      <td>0.0</td>\n",
       "      <td>4.6</td>\n",
       "      <td>991.0</td>\n",
       "    </tr>\n",
       "    <tr>\n",
       "      <th>1</th>\n",
       "      <td>2018-01-01 01:00:00</td>\n",
       "      <td>0.1</td>\n",
       "      <td>4.7</td>\n",
       "      <td>991.1</td>\n",
       "    </tr>\n",
       "    <tr>\n",
       "      <th>2</th>\n",
       "      <td>2018-01-01 02:00:00</td>\n",
       "      <td>0.0</td>\n",
       "      <td>4.8</td>\n",
       "      <td>991.1</td>\n",
       "    </tr>\n",
       "    <tr>\n",
       "      <th>3</th>\n",
       "      <td>2018-01-01 03:00:00</td>\n",
       "      <td>0.0</td>\n",
       "      <td>4.9</td>\n",
       "      <td>990.7</td>\n",
       "    </tr>\n",
       "    <tr>\n",
       "      <th>4</th>\n",
       "      <td>2018-01-01 04:00:00</td>\n",
       "      <td>0.0</td>\n",
       "      <td>5.3</td>\n",
       "      <td>990.3</td>\n",
       "    </tr>\n",
       "  </tbody>\n",
       "</table>\n",
       "</div>"
      ],
      "text/plain": [
       "                 date rain  temp    msl\n",
       "0 2018-01-01 00:00:00  0.0   4.6  991.0\n",
       "1 2018-01-01 01:00:00  0.1   4.7  991.1\n",
       "2 2018-01-01 02:00:00  0.0   4.8  991.1\n",
       "3 2018-01-01 03:00:00  0.0   4.9  990.7\n",
       "4 2018-01-01 04:00:00  0.0   5.3  990.3"
      ]
     },
     "execution_count": 64,
     "metadata": {},
     "output_type": "execute_result"
    }
   ],
   "source": [
    "# Write the dataframe to a new csv file\n",
    "df_weather.to_csv(r'C:\\Users\\jason\\OneDrive - University College Dublin\\Documents\\MSc Computer Science\\Summer Semester\\Data\\Notebooks\\CleanedCSVs\\weather2018_cleaned.csv')\n",
    "df_weather.head()"
   ]
  },
  {
   "cell_type": "markdown",
   "id": "dce87ac4",
   "metadata": {},
   "source": [
    "### Summary of data quality plan for Weather Dataset:"
   ]
  },
  {
   "cell_type": "markdown",
   "id": "5437cd0b",
   "metadata": {},
   "source": [
    "<table>\n",
    "    <tr>\n",
    "        <th>Feature</th><th>Feature Type</th><th>Data Quality Issue</th><th>Handling Strategy</th>\n",
    "    </tr>\n",
    "    <tr>\n",
    "        <td>latitude</td><td>Continuous</td><td>Constant</td><td>Dropping this feature as it is a constant column and means nothing to us</td>\n",
    "    </tr>\n",
    "    <tr>\n",
    "        <td>longitude</td><td>Continuous</td><td>Constant</td><td>Dropping this feature as it is a constant column and means nothing to us</td>\n",
    "    </tr>\n",
    "    <tr>\n",
    "        <td>date</td><td>Datetime64</td><td>None</td><td>This feature will be left the same</td>\n",
    "    </tr>\n",
    "    <tr>\n",
    "        <td>rain</td><td>Continuous</td><td>None</td><td>This feature will be left the same</td>\n",
    "    </tr>\n",
    "    <tr>\n",
    "        <td>temp</td><td>Continuous</td><td>None</td><td>This feature will be left the same</td>\n",
    "    </tr>\n",
    "    <tr>\n",
    "        <td>msl</td><td>Continuous</td><td>None</td><td>This feature will be left the same</td>\n",
    "    </tr>\n",
    "    <tr>\n",
    "        <td>wdsp</td><td>Continuous</td><td>Missing Values 100%</td><td>This feature is completely missing and therefore can provide no useful information for further analysis and should be dropped</td>\n",
    "    </tr>\n",
    "</table>"
   ]
  }
 ],
 "metadata": {
  "kernelspec": {
   "display_name": "Python 3",
   "language": "python",
   "name": "python3"
  },
  "language_info": {
   "codemirror_mode": {
    "name": "ipython",
    "version": 3
   },
   "file_extension": ".py",
   "mimetype": "text/x-python",
   "name": "python",
   "nbconvert_exporter": "python",
   "pygments_lexer": "ipython3",
   "version": "3.8.8"
  }
 },
 "nbformat": 4,
 "nbformat_minor": 5
}
