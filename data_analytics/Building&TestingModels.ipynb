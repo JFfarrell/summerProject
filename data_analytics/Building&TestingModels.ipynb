{
 "cells": [
  {
   "cell_type": "markdown",
   "id": "1a06cc0a",
   "metadata": {},
   "source": [
    "### Building & Testing Models with Sample Dataset"
   ]
  },
  {
   "cell_type": "markdown",
   "id": "51075122",
   "metadata": {},
   "source": [
    "### Setup workspace"
   ]
  },
  {
   "cell_type": "code",
   "execution_count": 1,
   "id": "a0e74e11",
   "metadata": {},
   "outputs": [],
   "source": [
    "# import required packages\n",
    "import pandas as pd\n",
    "import numpy as np\n",
    "import sqlite3\n",
    "import pymysql\n",
    "from datetime import datetime\n",
    "import time\n",
    "import pickle\n",
    "from sklearn.model_selection import train_test_split\n",
    "import pandas as pd\n",
    "import numpy as np\n",
    "from sklearn.linear_model import LinearRegression\n",
    "from sklearn.ensemble import RandomForestRegressor\n",
    "\n",
    "import matplotlib.pyplot as plt\n",
    "import matplotlib.patches as mpatches\n",
    "from sklearn.linear_model import LogisticRegression\n",
    "from sklearn.tree import DecisionTreeClassifier\n",
    "from sklearn.tree import DecisionTreeRegressor\n",
    "from sklearn.ensemble import RandomForestClassifier\n",
    "from sklearn.model_selection import train_test_split\n",
    "from sklearn import metrics\n",
    "from sklearn.model_selection import cross_validate\n",
    "from sklearn.model_selection import cross_val_score\n",
    "from sklearn.tree import export_graphviz\n",
    "import scipy.stats as ss\n",
    "# ignore warnings\n",
    "import warnings\n",
    "warnings.filterwarnings('ignore')\n",
    "from sklearn.metrics import mean_squared_error\n",
    "import sklearn\n",
    "import math\n",
    "from sklearn.metrics import r2_score\n",
    "from sklearn.neighbors import KNeighborsRegressor\n",
    "from statsmodels.stats.outliers_influence import variance_inflation_factor\n",
    "from patsy import dmatrices\n",
    "import pickle\n",
    "from sklearn.metrics import mean_absolute_error\n",
    "import seaborn as sns"
   ]
  },
  {
   "cell_type": "markdown",
   "id": "initial-scenario",
   "metadata": {},
   "source": [
    "### Functions to clean the dfs"
   ]
  },
  {
   "cell_type": "code",
   "execution_count": 2,
   "id": "51d442e3",
   "metadata": {},
   "outputs": [],
   "source": [
    "# Function to clean the Leavetimes df\n",
    "# Based off of the CleaningNotebook cleaning methods\n",
    "def clean_leavetimes(x):\n",
    "    \n",
    "    categorical_columns = x[[\"TRIPID\",\"PROGRNUMBER\",\"STOPPOINTID\",\"PLANNEDTIME_ARR\", 'PLANNEDTIME_DEP', 'ACTUALTIME_ARR','ACTUALTIME_DEP','VEHICLEID']].columns\n",
    "    # Convert data type to category for these columns\n",
    "    for column in categorical_columns:\n",
    "        x[column] = x[column].astype('category')\n",
    "    \n",
    "    # Converting dayofservice to datetime64\n",
    "    x['DAYOFSERVICE'] = pd.to_datetime(x['DAYOFSERVICE'], infer_datetime_format=True)\n",
    "\n",
    "    # Converting lastupdate to datetime64\n",
    "    x['LASTUPDATE'] = pd.to_datetime(x['LASTUPDATE'], infer_datetime_format=True)\n",
    "    \n",
    "    return x"
   ]
  },
  {
   "cell_type": "code",
   "execution_count": 3,
   "id": "deluxe-spencer",
   "metadata": {},
   "outputs": [],
   "source": [
    "def clean_trips(x):\n",
    "    \n",
    "    # Converting dates to datetime64\n",
    "    x['DAYOFSERVICE'] = pd.to_datetime(x['DAYOFSERVICE'], infer_datetime_format=True)\n",
    "    x['LASTUPDATE'] = pd.to_datetime(x['LASTUPDATE'], infer_datetime_format=True)\n",
    "    \n",
    "    # Adding new features\n",
    "    x['MONTH'] = x['DAYOFSERVICE'].dt.month\n",
    "    x['DAY'] = x['DAYOFSERVICE'].dt.dayofweek\n",
    "    x['HOUR'] = x['LASTUPDATE'].dt.hour\n",
    "    \n",
    "    # Creating an additional feature called Journey Time\n",
    "    x['JOURNEY_TIME'] = x['ACTUALTIME_ARR'] - x['ACTUALTIME_DEP']\n",
    "    \n",
    "    # Removing Journey times less than or equal to 0\n",
    "    x = x[x[\"JOURNEY_TIME\"] >= 0]\n",
    "    \n",
    "    # Calling the remove outliers function\n",
    "    x = x[~x.groupby('LINEID')['JOURNEY_TIME'].apply(is_outlier)]\n",
    "    \n",
    "    # Convert data type to category for these columns\n",
    "    categorical_columns = x[[\"TRIPID\",\"LINEID\", \"ROUTEID\", \"DIRECTION\", \"PLANNEDTIME_ARR\",\"PLANNEDTIME_DEP\", \"ACTUALTIME_ARR\", \"ACTUALTIME_DEP\", \"NOTE\"]].columns\n",
    "    for column in categorical_columns:\n",
    "        x[column] = x[column].astype('category')\n",
    "\n",
    "    # Sorting df by LASTUPDATE\n",
    "    x.sort_values('LASTUPDATE', inplace=True)\n",
    "    \n",
    "    return x"
   ]
  },
  {
   "cell_type": "code",
   "execution_count": 4,
   "id": "cheap-collapse",
   "metadata": {},
   "outputs": [],
   "source": [
    "def clean_weather(x):\n",
    "    \n",
    "    x = x.drop(columns=[\"msl\"])\n",
    "\n",
    "    # Converting date to datetime\n",
    "    x['date'] = pd.to_datetime(x['date'], infer_datetime_format=True)\n",
    "    \n",
    "    # Convert empty string to null pandas (to convert to float64)\n",
    "    x = x.replace(r'^\\s*$', np.NaN, regex=True)\n",
    "    \n",
    "    # Converting rain to float64\n",
    "    x['rain'] = x['rain'].astype('float64')\n",
    "    \n",
    "    # Sorting df by date\n",
    "    x.sort_values(by=['date'])\n",
    "    return x"
   ]
  },
  {
   "cell_type": "code",
   "execution_count": 5,
   "id": "earlier-treaty",
   "metadata": {},
   "outputs": [],
   "source": [
    "# Function to remove outliers\n",
    "\n",
    "def is_outlier(s):\n",
    "    lower_limit = s.mean() - (s.std() * 3)\n",
    "    upper_limit = s.mean() + (s.std() * 3)\n",
    "    return ~s.between(lower_limit, upper_limit)"
   ]
  },
  {
   "cell_type": "markdown",
   "id": "3757a207",
   "metadata": {},
   "source": [
    "### 2.0 Reading in Leavetimes Dataset"
   ]
  },
  {
   "cell_type": "code",
   "execution_count": null,
   "id": "moved-water",
   "metadata": {},
   "outputs": [],
   "source": [
    "# Reading in the cleaned Leavetimes csv\n",
    "df_leavetimes = pd.read_csv(r'C:\\Users\\jason\\OneDrive - University College Dublin\\Documents\\MSc Computer Science\\Summer Semester\\Data\\Notebooks\\CleanedCSVs\\rt_leavetimes_DB_2018_cleaned_sample.csv', index_col=[0])"
   ]
  },
  {
   "cell_type": "code",
   "execution_count": null,
   "id": "brown-property",
   "metadata": {},
   "outputs": [],
   "source": [
    "df_leavetimes.head(5)"
   ]
  },
  {
   "cell_type": "code",
   "execution_count": null,
   "id": "a4d0045b",
   "metadata": {},
   "outputs": [],
   "source": [
    "# Pass the leavetimes df through the cleaning function\n",
    "df_leavetimes = clean_leavetimes(df_leavetimes)\n",
    "df_leavetimes.head(5)"
   ]
  },
  {
   "cell_type": "code",
   "execution_count": null,
   "id": "53883750",
   "metadata": {},
   "outputs": [],
   "source": [
    "df_leavetimes.dtypes"
   ]
  },
  {
   "cell_type": "markdown",
   "id": "8f192a12",
   "metadata": {},
   "source": [
    "### 3.0 Read in weather CSV"
   ]
  },
  {
   "cell_type": "code",
   "execution_count": 6,
   "id": "8eaebe2b",
   "metadata": {},
   "outputs": [],
   "source": [
    "#read in cleaned weather csc\n",
    "df_weather = pd.read_csv(r'C:\\Users\\jason\\OneDrive - University College Dublin\\Documents\\MSc Computer Science\\Summer Semester\\Data\\Notebooks\\CleanedCSVs\\weather2018_cleaned.csv', index_col=[0])"
   ]
  },
  {
   "cell_type": "code",
   "execution_count": 7,
   "id": "3b0b3bdb",
   "metadata": {},
   "outputs": [
    {
     "data": {
      "text/html": [
       "<div>\n",
       "<style scoped>\n",
       "    .dataframe tbody tr th:only-of-type {\n",
       "        vertical-align: middle;\n",
       "    }\n",
       "\n",
       "    .dataframe tbody tr th {\n",
       "        vertical-align: top;\n",
       "    }\n",
       "\n",
       "    .dataframe thead th {\n",
       "        text-align: right;\n",
       "    }\n",
       "</style>\n",
       "<table border=\"1\" class=\"dataframe\">\n",
       "  <thead>\n",
       "    <tr style=\"text-align: right;\">\n",
       "      <th></th>\n",
       "      <th>date</th>\n",
       "      <th>rain</th>\n",
       "      <th>temp</th>\n",
       "      <th>msl</th>\n",
       "    </tr>\n",
       "  </thead>\n",
       "  <tbody>\n",
       "    <tr>\n",
       "      <th>0</th>\n",
       "      <td>2018-01-01 00:00:00</td>\n",
       "      <td>0.0</td>\n",
       "      <td>4.6</td>\n",
       "      <td>991.0</td>\n",
       "    </tr>\n",
       "    <tr>\n",
       "      <th>1</th>\n",
       "      <td>2018-01-01 01:00:00</td>\n",
       "      <td>0.1</td>\n",
       "      <td>4.7</td>\n",
       "      <td>991.1</td>\n",
       "    </tr>\n",
       "    <tr>\n",
       "      <th>2</th>\n",
       "      <td>2018-01-01 02:00:00</td>\n",
       "      <td>0.0</td>\n",
       "      <td>4.8</td>\n",
       "      <td>991.1</td>\n",
       "    </tr>\n",
       "    <tr>\n",
       "      <th>3</th>\n",
       "      <td>2018-01-01 03:00:00</td>\n",
       "      <td>0.0</td>\n",
       "      <td>4.9</td>\n",
       "      <td>990.7</td>\n",
       "    </tr>\n",
       "    <tr>\n",
       "      <th>4</th>\n",
       "      <td>2018-01-01 04:00:00</td>\n",
       "      <td>0.0</td>\n",
       "      <td>5.3</td>\n",
       "      <td>990.3</td>\n",
       "    </tr>\n",
       "  </tbody>\n",
       "</table>\n",
       "</div>"
      ],
      "text/plain": [
       "                  date rain  temp    msl\n",
       "0  2018-01-01 00:00:00  0.0   4.6  991.0\n",
       "1  2018-01-01 01:00:00  0.1   4.7  991.1\n",
       "2  2018-01-01 02:00:00  0.0   4.8  991.1\n",
       "3  2018-01-01 03:00:00  0.0   4.9  990.7\n",
       "4  2018-01-01 04:00:00  0.0   5.3  990.3"
      ]
     },
     "execution_count": 7,
     "metadata": {},
     "output_type": "execute_result"
    }
   ],
   "source": [
    "df_weather.head(5)"
   ]
  },
  {
   "cell_type": "code",
   "execution_count": 8,
   "id": "e63084c5",
   "metadata": {},
   "outputs": [
    {
     "data": {
      "text/plain": [
       "date     object\n",
       "rain     object\n",
       "temp    float64\n",
       "msl     float64\n",
       "dtype: object"
      ]
     },
     "execution_count": 8,
     "metadata": {},
     "output_type": "execute_result"
    }
   ],
   "source": [
    "df_weather.dtypes"
   ]
  },
  {
   "cell_type": "code",
   "execution_count": 9,
   "id": "01fca858",
   "metadata": {},
   "outputs": [
    {
     "data": {
      "text/html": [
       "<div>\n",
       "<style scoped>\n",
       "    .dataframe tbody tr th:only-of-type {\n",
       "        vertical-align: middle;\n",
       "    }\n",
       "\n",
       "    .dataframe tbody tr th {\n",
       "        vertical-align: top;\n",
       "    }\n",
       "\n",
       "    .dataframe thead th {\n",
       "        text-align: right;\n",
       "    }\n",
       "</style>\n",
       "<table border=\"1\" class=\"dataframe\">\n",
       "  <thead>\n",
       "    <tr style=\"text-align: right;\">\n",
       "      <th></th>\n",
       "      <th>date</th>\n",
       "      <th>rain</th>\n",
       "      <th>temp</th>\n",
       "    </tr>\n",
       "  </thead>\n",
       "  <tbody>\n",
       "    <tr>\n",
       "      <th>0</th>\n",
       "      <td>2018-01-01 00:00:00</td>\n",
       "      <td>0.0</td>\n",
       "      <td>4.6</td>\n",
       "    </tr>\n",
       "    <tr>\n",
       "      <th>1</th>\n",
       "      <td>2018-01-01 01:00:00</td>\n",
       "      <td>0.1</td>\n",
       "      <td>4.7</td>\n",
       "    </tr>\n",
       "    <tr>\n",
       "      <th>2</th>\n",
       "      <td>2018-01-01 02:00:00</td>\n",
       "      <td>0.0</td>\n",
       "      <td>4.8</td>\n",
       "    </tr>\n",
       "    <tr>\n",
       "      <th>3</th>\n",
       "      <td>2018-01-01 03:00:00</td>\n",
       "      <td>0.0</td>\n",
       "      <td>4.9</td>\n",
       "    </tr>\n",
       "    <tr>\n",
       "      <th>4</th>\n",
       "      <td>2018-01-01 04:00:00</td>\n",
       "      <td>0.0</td>\n",
       "      <td>5.3</td>\n",
       "    </tr>\n",
       "  </tbody>\n",
       "</table>\n",
       "</div>"
      ],
      "text/plain": [
       "                 date  rain  temp\n",
       "0 2018-01-01 00:00:00   0.0   4.6\n",
       "1 2018-01-01 01:00:00   0.1   4.7\n",
       "2 2018-01-01 02:00:00   0.0   4.8\n",
       "3 2018-01-01 03:00:00   0.0   4.9\n",
       "4 2018-01-01 04:00:00   0.0   5.3"
      ]
     },
     "execution_count": 9,
     "metadata": {},
     "output_type": "execute_result"
    }
   ],
   "source": [
    "# Sending the weather df to the cleaning function\n",
    "df_weather = clean_weather(df_weather)\n",
    "df_weather.head(5)"
   ]
  },
  {
   "cell_type": "code",
   "execution_count": 10,
   "id": "bacterial-establishment",
   "metadata": {},
   "outputs": [
    {
     "data": {
      "text/plain": [
       "date    datetime64[ns]\n",
       "rain           float64\n",
       "temp           float64\n",
       "dtype: object"
      ]
     },
     "execution_count": 10,
     "metadata": {},
     "output_type": "execute_result"
    }
   ],
   "source": [
    "df_weather.dtypes"
   ]
  },
  {
   "cell_type": "markdown",
   "id": "bb92da0e",
   "metadata": {},
   "source": [
    "### Merge Weather and LeaveTimes Dataset"
   ]
  },
  {
   "cell_type": "code",
   "execution_count": null,
   "id": "ruled-program",
   "metadata": {},
   "outputs": [],
   "source": [
    "# Sorting in order to merge\n",
    "df_leavetimes.sort_values('LASTUPDATE', inplace=True)\n",
    "df_weather.sort_values('date', inplace=True)"
   ]
  },
  {
   "cell_type": "code",
   "execution_count": null,
   "id": "a17ad6a7",
   "metadata": {},
   "outputs": [],
   "source": [
    "# Merging \n",
    "merged_data = pd.merge_asof(df_leavetimes, df_weather, left_on=\"LASTUPDATE\", right_on=\"date\")"
   ]
  },
  {
   "cell_type": "code",
   "execution_count": null,
   "id": "707b9c1f",
   "metadata": {},
   "outputs": [],
   "source": [
    "merged_data.head(5)"
   ]
  },
  {
   "cell_type": "markdown",
   "id": "58817810",
   "metadata": {},
   "source": [
    "### 4.0 Read In Trips Data for merging"
   ]
  },
  {
   "cell_type": "code",
   "execution_count": 11,
   "id": "5f40f166",
   "metadata": {},
   "outputs": [],
   "source": [
    "#read in cleaned trips data\n",
    "df_trips = pd.read_csv(r'C:\\Users\\jason\\OneDrive - University College Dublin\\Documents\\MSc Computer Science\\Summer Semester\\Data\\Notebooks\\CleanedCSVs\\rt_trips_DB_2018_cleaned.csv', index_col=[0])"
   ]
  },
  {
   "cell_type": "code",
   "execution_count": 12,
   "id": "cellular-madonna",
   "metadata": {},
   "outputs": [
    {
     "data": {
      "text/plain": [
       "(1893367, 11)"
      ]
     },
     "execution_count": 12,
     "metadata": {},
     "output_type": "execute_result"
    }
   ],
   "source": [
    "df_trips.shape"
   ]
  },
  {
   "cell_type": "code",
   "execution_count": 13,
   "id": "d7bd662f",
   "metadata": {},
   "outputs": [
    {
     "data": {
      "text/html": [
       "<div>\n",
       "<style scoped>\n",
       "    .dataframe tbody tr th:only-of-type {\n",
       "        vertical-align: middle;\n",
       "    }\n",
       "\n",
       "    .dataframe tbody tr th {\n",
       "        vertical-align: top;\n",
       "    }\n",
       "\n",
       "    .dataframe thead th {\n",
       "        text-align: right;\n",
       "    }\n",
       "</style>\n",
       "<table border=\"1\" class=\"dataframe\">\n",
       "  <thead>\n",
       "    <tr style=\"text-align: right;\">\n",
       "      <th></th>\n",
       "      <th>DAYOFSERVICE</th>\n",
       "      <th>TRIPID</th>\n",
       "      <th>LINEID</th>\n",
       "      <th>ROUTEID</th>\n",
       "      <th>DIRECTION</th>\n",
       "      <th>PLANNEDTIME_ARR</th>\n",
       "      <th>PLANNEDTIME_DEP</th>\n",
       "      <th>ACTUALTIME_ARR</th>\n",
       "      <th>ACTUALTIME_DEP</th>\n",
       "      <th>LASTUPDATE</th>\n",
       "      <th>NOTE</th>\n",
       "    </tr>\n",
       "  </thead>\n",
       "  <tbody>\n",
       "    <tr>\n",
       "      <th>0</th>\n",
       "      <td>1517961600000000000</td>\n",
       "      <td>6253783</td>\n",
       "      <td>68</td>\n",
       "      <td>68_80</td>\n",
       "      <td>1</td>\n",
       "      <td>87245</td>\n",
       "      <td>84600</td>\n",
       "      <td>87524.0</td>\n",
       "      <td>84600.0</td>\n",
       "      <td>1519819511000000000</td>\n",
       "      <td>,2967409,</td>\n",
       "    </tr>\n",
       "    <tr>\n",
       "      <th>2</th>\n",
       "      <td>1517961600000000000</td>\n",
       "      <td>6254942</td>\n",
       "      <td>45A</td>\n",
       "      <td>45A_70</td>\n",
       "      <td>2</td>\n",
       "      <td>35512</td>\n",
       "      <td>32100</td>\n",
       "      <td>36329.0</td>\n",
       "      <td>32082.0</td>\n",
       "      <td>1519819511000000000</td>\n",
       "      <td>,2448968,</td>\n",
       "    </tr>\n",
       "    <tr>\n",
       "      <th>3</th>\n",
       "      <td>1517961600000000000</td>\n",
       "      <td>6259460</td>\n",
       "      <td>25A</td>\n",
       "      <td>25A_273</td>\n",
       "      <td>1</td>\n",
       "      <td>57261</td>\n",
       "      <td>54420</td>\n",
       "      <td>58463.0</td>\n",
       "      <td>54443.0</td>\n",
       "      <td>1519819511000000000</td>\n",
       "      <td>,3094242,</td>\n",
       "    </tr>\n",
       "    <tr>\n",
       "      <th>4</th>\n",
       "      <td>1517961600000000000</td>\n",
       "      <td>6253175</td>\n",
       "      <td>14</td>\n",
       "      <td>14_15</td>\n",
       "      <td>1</td>\n",
       "      <td>85383</td>\n",
       "      <td>81600</td>\n",
       "      <td>84682.0</td>\n",
       "      <td>81608.0</td>\n",
       "      <td>1519819511000000000</td>\n",
       "      <td>,2526331,</td>\n",
       "    </tr>\n",
       "    <tr>\n",
       "      <th>5</th>\n",
       "      <td>1517961600000000000</td>\n",
       "      <td>6248240</td>\n",
       "      <td>77A</td>\n",
       "      <td>77A_28</td>\n",
       "      <td>2</td>\n",
       "      <td>41648</td>\n",
       "      <td>37200</td>\n",
       "      <td>42019.0</td>\n",
       "      <td>37538.0</td>\n",
       "      <td>1519819511000000000</td>\n",
       "      <td>,2966500,</td>\n",
       "    </tr>\n",
       "  </tbody>\n",
       "</table>\n",
       "</div>"
      ],
      "text/plain": [
       "          DAYOFSERVICE   TRIPID LINEID  ROUTEID  DIRECTION  PLANNEDTIME_ARR  \\\n",
       "0  1517961600000000000  6253783     68    68_80          1            87245   \n",
       "2  1517961600000000000  6254942    45A   45A_70          2            35512   \n",
       "3  1517961600000000000  6259460    25A  25A_273          1            57261   \n",
       "4  1517961600000000000  6253175     14    14_15          1            85383   \n",
       "5  1517961600000000000  6248240    77A   77A_28          2            41648   \n",
       "\n",
       "   PLANNEDTIME_DEP  ACTUALTIME_ARR  ACTUALTIME_DEP           LASTUPDATE  \\\n",
       "0            84600         87524.0         84600.0  1519819511000000000   \n",
       "2            32100         36329.0         32082.0  1519819511000000000   \n",
       "3            54420         58463.0         54443.0  1519819511000000000   \n",
       "4            81600         84682.0         81608.0  1519819511000000000   \n",
       "5            37200         42019.0         37538.0  1519819511000000000   \n",
       "\n",
       "        NOTE  \n",
       "0  ,2967409,  \n",
       "2  ,2448968,  \n",
       "3  ,3094242,  \n",
       "4  ,2526331,  \n",
       "5  ,2966500,  "
      ]
     },
     "execution_count": 13,
     "metadata": {},
     "output_type": "execute_result"
    }
   ],
   "source": [
    "df_trips.head(5)"
   ]
  },
  {
   "cell_type": "code",
   "execution_count": 14,
   "id": "international-federal",
   "metadata": {},
   "outputs": [
    {
     "data": {
      "text/plain": [
       "(1893367, 11)"
      ]
     },
     "execution_count": 14,
     "metadata": {},
     "output_type": "execute_result"
    }
   ],
   "source": [
    "df_trips.shape"
   ]
  },
  {
   "cell_type": "code",
   "execution_count": 15,
   "id": "loaded-chain",
   "metadata": {},
   "outputs": [],
   "source": [
    "# Converting Actual time to int64 to subtract for new feature Journey Time. (Error on model when JOURNEY_TIME was left as a float)\n",
    "\n",
    "df_trips['ACTUALTIME_ARR'] = df_trips['ACTUALTIME_ARR'].astype(\"int64\")\n",
    "df_trips['ACTUALTIME_DEP'] = df_trips['ACTUALTIME_DEP'].astype(\"int64\")"
   ]
  },
  {
   "cell_type": "code",
   "execution_count": 16,
   "id": "imposed-circle",
   "metadata": {},
   "outputs": [],
   "source": [
    "# Creating an additional feature called Journey Time\n",
    "df_trips['JOURNEY_TIME'] = df_trips['ACTUALTIME_ARR'] - df_trips['ACTUALTIME_DEP']"
   ]
  },
  {
   "cell_type": "code",
   "execution_count": 17,
   "id": "color-cargo",
   "metadata": {},
   "outputs": [
    {
     "data": {
      "text/plain": [
       "DAYOFSERVICE        int64\n",
       "TRIPID              int64\n",
       "LINEID             object\n",
       "ROUTEID            object\n",
       "DIRECTION           int64\n",
       "PLANNEDTIME_ARR     int64\n",
       "PLANNEDTIME_DEP     int64\n",
       "ACTUALTIME_ARR      int64\n",
       "ACTUALTIME_DEP      int64\n",
       "LASTUPDATE          int64\n",
       "NOTE               object\n",
       "JOURNEY_TIME        int64\n",
       "dtype: object"
      ]
     },
     "execution_count": 17,
     "metadata": {},
     "output_type": "execute_result"
    }
   ],
   "source": [
    "df_trips.dtypes"
   ]
  },
  {
   "cell_type": "markdown",
   "id": "aging-brunswick",
   "metadata": {},
   "source": [
    "#### 4.1 Examining/Visualising Outliers"
   ]
  },
  {
   "cell_type": "code",
   "execution_count": 18,
   "id": "actual-outside",
   "metadata": {},
   "outputs": [
    {
     "data": {
      "image/png": "[encoded data removed]",
      "text/plain": [
       "<Figure size 432x288 with 1 Axes>"
      ]
     },
     "metadata": {
      "needs_background": "light"
     },
     "output_type": "display_data"
    }
   ],
   "source": [
    "# histogram of Journey Time\n",
    "ax = sns.distplot(df_trips.JOURNEY_TIME, hist=True, hist_kws={\"edgecolor\": 'w', \"linewidth\": 3}, kde_kws={\"linewidth\": 3})\n",
    "\n",
    "# notation indicating a possible outlier\n",
    "ax.annotate('Possible outliers', xy=(7800,0.00001), xytext=(7800,0.00007), fontsize=12,\n",
    "            arrowprops=dict(arrowstyle='->', ec='grey', lw=2), bbox = dict(boxstyle=\"round\", fc=\"0.8\"))\n",
    "\n",
    "ax.annotate('Possible outliers', xy=(1000,0.00001), xytext=(1000,0.00007), fontsize=12,\n",
    "            arrowprops=dict(arrowstyle='->', ec='grey', lw=2), bbox = dict(boxstyle=\"round\", fc=\"0.8\"))\n",
    "\n",
    "# ticks \n",
    "plt.xticks(fontsize=14)\n",
    "plt.yticks(fontsize=14)\n",
    "\n",
    "# labels and title\n",
    "plt.xlabel('JOURNEY TIME', fontsize=14)\n",
    "plt.ylabel('Count', fontsize=14)\n",
    "plt.title('Distribution of Journey Time', fontsize=20);\n",
    "plt.gca().axes.get_yaxis().set_visible(False)"
   ]
  },
  {
   "cell_type": "code",
   "execution_count": 19,
   "id": "armed-sigma",
   "metadata": {},
   "outputs": [
    {
     "data": {
      "text/plain": [
       "Text(0.5, 1.0, 'JOURNEY TIME Box Plot')"
      ]
     },
     "execution_count": 19,
     "metadata": {},
     "output_type": "execute_result"
    },
    {
     "data": {
      "image/png": "[encoded data removed]",
      "text/plain": [
       "<Figure size 432x288 with 1 Axes>"
      ]
     },
     "metadata": {
      "needs_background": "light"
     },
     "output_type": "display_data"
    }
   ],
   "source": [
    "# box plot of Journey Time\n",
    "ax = sns.boxplot(df_trips.JOURNEY_TIME)\n",
    "\n",
    "# notation indicating an outlier\n",
    "ax.annotate('Outliers', xy=(9000,0), xytext=(9000,0.3), fontsize=14,\n",
    "            arrowprops=dict(arrowstyle='->', ec='grey', lw=2), bbox = dict(boxstyle=\"round\", fc=\"0.8\"))\n",
    "\n",
    "# xtick, label, and title\n",
    "plt.xticks(fontsize=14)\n",
    "plt.xlabel('JOURNEY TIME', fontsize=14)\n",
    "plt.title('JOURNEY TIME Box Plot', fontsize=20)"
   ]
  },
  {
   "cell_type": "code",
   "execution_count": 55,
   "id": "matched-cursor",
   "metadata": {},
   "outputs": [
    {
     "data": {
      "image/png": "[encoded data removed]",
      "text/plain": [
       "<Figure size 432x288 with 1 Axes>"
      ]
     },
     "metadata": {
      "needs_background": "light"
     },
     "output_type": "display_data"
    }
   ],
   "source": [
    "# scatter plot\n",
    "ax = sns.scatterplot(x='JOURNEY_TIME', y='LINEID', data=df_trips, s=50)\n",
    "\n",
    "# notations indicating an outlier\n",
    "\n",
    "ax.annotate('Outliers', xy=(9800,50), xytext=(9000,100), fontsize=14,\n",
    "            arrowprops=dict(arrowstyle='->', ec='grey', lw=2), bbox = dict(boxstyle=\"round\", fc=\"0.8\"))\n",
    "\n",
    "# ticks \n",
    "plt.xticks(fontsize=14)\n",
    "plt.yticks(fontsize=14)\n",
    "\n",
    "# labels and title\n",
    "plt.xlabel('JOURNEY TIME', fontsize=14)\n",
    "plt.title('Scatter plot for Journey Time', fontsize=20);\n",
    "plt.gca().axes.get_yaxis().set_visible(False)"
   ]
  },
  {
   "cell_type": "markdown",
   "id": "saving-square",
   "metadata": {},
   "source": [
    "#### 4.2 Cleaning Trips Dataset"
   ]
  },
  {
   "cell_type": "code",
   "execution_count": 21,
   "id": "actual-filing",
   "metadata": {},
   "outputs": [
    {
     "data": {
      "text/html": [
       "<div>\n",
       "<style scoped>\n",
       "    .dataframe tbody tr th:only-of-type {\n",
       "        vertical-align: middle;\n",
       "    }\n",
       "\n",
       "    .dataframe tbody tr th {\n",
       "        vertical-align: top;\n",
       "    }\n",
       "\n",
       "    .dataframe thead th {\n",
       "        text-align: right;\n",
       "    }\n",
       "</style>\n",
       "<table border=\"1\" class=\"dataframe\">\n",
       "  <thead>\n",
       "    <tr style=\"text-align: right;\">\n",
       "      <th></th>\n",
       "      <th>DAYOFSERVICE</th>\n",
       "      <th>TRIPID</th>\n",
       "      <th>LINEID</th>\n",
       "      <th>ROUTEID</th>\n",
       "      <th>DIRECTION</th>\n",
       "      <th>PLANNEDTIME_ARR</th>\n",
       "      <th>PLANNEDTIME_DEP</th>\n",
       "      <th>ACTUALTIME_ARR</th>\n",
       "      <th>ACTUALTIME_DEP</th>\n",
       "      <th>LASTUPDATE</th>\n",
       "      <th>NOTE</th>\n",
       "      <th>JOURNEY_TIME</th>\n",
       "      <th>MONTH</th>\n",
       "      <th>DAY</th>\n",
       "      <th>HOUR</th>\n",
       "    </tr>\n",
       "  </thead>\n",
       "  <tbody>\n",
       "    <tr>\n",
       "      <th>2079344</th>\n",
       "      <td>2018-01-01</td>\n",
       "      <td>5966704</td>\n",
       "      <td>44</td>\n",
       "      <td>44_38</td>\n",
       "      <td>1</td>\n",
       "      <td>49857</td>\n",
       "      <td>45000</td>\n",
       "      <td>49297</td>\n",
       "      <td>45011</td>\n",
       "      <td>2018-01-08 17:21:10</td>\n",
       "      <td>,2885439,</td>\n",
       "      <td>4286</td>\n",
       "      <td>1</td>\n",
       "      <td>0</td>\n",
       "      <td>17</td>\n",
       "    </tr>\n",
       "    <tr>\n",
       "      <th>2088511</th>\n",
       "      <td>2018-01-01</td>\n",
       "      <td>5962137</td>\n",
       "      <td>238</td>\n",
       "      <td>238_15</td>\n",
       "      <td>2</td>\n",
       "      <td>71075</td>\n",
       "      <td>69900</td>\n",
       "      <td>71068</td>\n",
       "      <td>69910</td>\n",
       "      <td>2018-01-08 17:21:10</td>\n",
       "      <td>,2817494,</td>\n",
       "      <td>1158</td>\n",
       "      <td>1</td>\n",
       "      <td>0</td>\n",
       "      <td>17</td>\n",
       "    </tr>\n",
       "    <tr>\n",
       "      <th>2088510</th>\n",
       "      <td>2018-01-01</td>\n",
       "      <td>5962095</td>\n",
       "      <td>7</td>\n",
       "      <td>7_66</td>\n",
       "      <td>1</td>\n",
       "      <td>55938</td>\n",
       "      <td>50400</td>\n",
       "      <td>56364</td>\n",
       "      <td>50351</td>\n",
       "      <td>2018-01-08 17:21:10</td>\n",
       "      <td>,2793690,</td>\n",
       "      <td>6013</td>\n",
       "      <td>1</td>\n",
       "      <td>0</td>\n",
       "      <td>17</td>\n",
       "    </tr>\n",
       "    <tr>\n",
       "      <th>2088509</th>\n",
       "      <td>2018-01-01</td>\n",
       "      <td>5962074</td>\n",
       "      <td>15A</td>\n",
       "      <td>15A_84</td>\n",
       "      <td>2</td>\n",
       "      <td>37341</td>\n",
       "      <td>35100</td>\n",
       "      <td>37027</td>\n",
       "      <td>35153</td>\n",
       "      <td>2018-01-08 17:21:10</td>\n",
       "      <td>,2988633,</td>\n",
       "      <td>1874</td>\n",
       "      <td>1</td>\n",
       "      <td>0</td>\n",
       "      <td>17</td>\n",
       "    </tr>\n",
       "    <tr>\n",
       "      <th>2088508</th>\n",
       "      <td>2018-01-01</td>\n",
       "      <td>5962009</td>\n",
       "      <td>123</td>\n",
       "      <td>123_36</td>\n",
       "      <td>2</td>\n",
       "      <td>62054</td>\n",
       "      <td>58800</td>\n",
       "      <td>62324</td>\n",
       "      <td>58827</td>\n",
       "      <td>2018-01-08 17:21:10</td>\n",
       "      <td>,1922708,</td>\n",
       "      <td>3497</td>\n",
       "      <td>1</td>\n",
       "      <td>0</td>\n",
       "      <td>17</td>\n",
       "    </tr>\n",
       "  </tbody>\n",
       "</table>\n",
       "</div>"
      ],
      "text/plain": [
       "        DAYOFSERVICE   TRIPID LINEID ROUTEID DIRECTION PLANNEDTIME_ARR  \\\n",
       "2079344   2018-01-01  5966704     44   44_38         1           49857   \n",
       "2088511   2018-01-01  5962137    238  238_15         2           71075   \n",
       "2088510   2018-01-01  5962095      7    7_66         1           55938   \n",
       "2088509   2018-01-01  5962074    15A  15A_84         2           37341   \n",
       "2088508   2018-01-01  5962009    123  123_36         2           62054   \n",
       "\n",
       "        PLANNEDTIME_DEP ACTUALTIME_ARR ACTUALTIME_DEP          LASTUPDATE  \\\n",
       "2079344           45000          49297          45011 2018-01-08 17:21:10   \n",
       "2088511           69900          71068          69910 2018-01-08 17:21:10   \n",
       "2088510           50400          56364          50351 2018-01-08 17:21:10   \n",
       "2088509           35100          37027          35153 2018-01-08 17:21:10   \n",
       "2088508           58800          62324          58827 2018-01-08 17:21:10   \n",
       "\n",
       "              NOTE  JOURNEY_TIME  MONTH  DAY  HOUR  \n",
       "2079344  ,2885439,          4286      1    0    17  \n",
       "2088511  ,2817494,          1158      1    0    17  \n",
       "2088510  ,2793690,          6013      1    0    17  \n",
       "2088509  ,2988633,          1874      1    0    17  \n",
       "2088508  ,1922708,          3497      1    0    17  "
      ]
     },
     "execution_count": 21,
     "metadata": {},
     "output_type": "execute_result"
    }
   ],
   "source": [
    "# Pass the leavetimes df through the cleaning function\n",
    "df_trips = clean_trips(df_trips)\n",
    "df_trips.head(5)"
   ]
  },
  {
   "cell_type": "code",
   "execution_count": 22,
   "id": "celtic-trial",
   "metadata": {},
   "outputs": [],
   "source": [
    "# df_trips = df_trips.replace(np.nan, '', regex=True)\n",
    "# df_trips.head(5)"
   ]
  },
  {
   "cell_type": "code",
   "execution_count": 23,
   "id": "33b77754",
   "metadata": {},
   "outputs": [
    {
     "data": {
      "text/plain": [
       "DAYOFSERVICE       datetime64[ns]\n",
       "TRIPID                   category\n",
       "LINEID                   category\n",
       "ROUTEID                  category\n",
       "DIRECTION                category\n",
       "PLANNEDTIME_ARR          category\n",
       "PLANNEDTIME_DEP          category\n",
       "ACTUALTIME_ARR           category\n",
       "ACTUALTIME_DEP           category\n",
       "LASTUPDATE         datetime64[ns]\n",
       "NOTE                     category\n",
       "JOURNEY_TIME                int64\n",
       "MONTH                       int64\n",
       "DAY                         int64\n",
       "HOUR                        int64\n",
       "dtype: object"
      ]
     },
     "execution_count": 23,
     "metadata": {},
     "output_type": "execute_result"
    }
   ],
   "source": [
    "df_trips.dtypes"
   ]
  },
  {
   "cell_type": "code",
   "execution_count": 24,
   "id": "a92610f2",
   "metadata": {},
   "outputs": [
    {
     "data": {
      "text/html": [
       "<div>\n",
       "<style scoped>\n",
       "    .dataframe tbody tr th:only-of-type {\n",
       "        vertical-align: middle;\n",
       "    }\n",
       "\n",
       "    .dataframe tbody tr th {\n",
       "        vertical-align: top;\n",
       "    }\n",
       "\n",
       "    .dataframe thead th {\n",
       "        text-align: right;\n",
       "    }\n",
       "</style>\n",
       "<table border=\"1\" class=\"dataframe\">\n",
       "  <thead>\n",
       "    <tr style=\"text-align: right;\">\n",
       "      <th></th>\n",
       "      <th>DAYOFSERVICE</th>\n",
       "      <th>TRIPID</th>\n",
       "      <th>LINEID</th>\n",
       "      <th>ROUTEID</th>\n",
       "      <th>DIRECTION</th>\n",
       "      <th>PLANNEDTIME_ARR</th>\n",
       "      <th>PLANNEDTIME_DEP</th>\n",
       "      <th>ACTUALTIME_ARR</th>\n",
       "      <th>ACTUALTIME_DEP</th>\n",
       "      <th>LASTUPDATE</th>\n",
       "      <th>NOTE</th>\n",
       "      <th>JOURNEY_TIME</th>\n",
       "      <th>MONTH</th>\n",
       "      <th>DAY</th>\n",
       "      <th>HOUR</th>\n",
       "    </tr>\n",
       "  </thead>\n",
       "  <tbody>\n",
       "    <tr>\n",
       "      <th>681660</th>\n",
       "      <td>2018-01-06</td>\n",
       "      <td>5955221</td>\n",
       "      <td>14</td>\n",
       "      <td>14_15</td>\n",
       "      <td>1</td>\n",
       "      <td>42553</td>\n",
       "      <td>37800</td>\n",
       "      <td>42078</td>\n",
       "      <td>37836</td>\n",
       "      <td>2018-01-15 08:25:25</td>\n",
       "      <td>,2513511,</td>\n",
       "      <td>4242</td>\n",
       "      <td>1</td>\n",
       "      <td>5</td>\n",
       "      <td>8</td>\n",
       "    </tr>\n",
       "    <tr>\n",
       "      <th>723197</th>\n",
       "      <td>2018-01-06</td>\n",
       "      <td>5955222</td>\n",
       "      <td>14</td>\n",
       "      <td>14_16</td>\n",
       "      <td>2</td>\n",
       "      <td>47867</td>\n",
       "      <td>43200</td>\n",
       "      <td>47707</td>\n",
       "      <td>43182</td>\n",
       "      <td>2018-01-15 08:25:25</td>\n",
       "      <td>,2513514,</td>\n",
       "      <td>4525</td>\n",
       "      <td>1</td>\n",
       "      <td>5</td>\n",
       "      <td>8</td>\n",
       "    </tr>\n",
       "    <tr>\n",
       "      <th>684398</th>\n",
       "      <td>2018-01-06</td>\n",
       "      <td>5955223</td>\n",
       "      <td>14</td>\n",
       "      <td>14_15</td>\n",
       "      <td>1</td>\n",
       "      <td>54105</td>\n",
       "      <td>49200</td>\n",
       "      <td>54128</td>\n",
       "      <td>49171</td>\n",
       "      <td>2018-01-15 08:25:25</td>\n",
       "      <td>,2513515,</td>\n",
       "      <td>4957</td>\n",
       "      <td>1</td>\n",
       "      <td>5</td>\n",
       "      <td>8</td>\n",
       "    </tr>\n",
       "    <tr>\n",
       "      <th>719581</th>\n",
       "      <td>2018-01-06</td>\n",
       "      <td>5955224</td>\n",
       "      <td>14</td>\n",
       "      <td>14_16</td>\n",
       "      <td>2</td>\n",
       "      <td>60094</td>\n",
       "      <td>55200</td>\n",
       "      <td>60025</td>\n",
       "      <td>55203</td>\n",
       "      <td>2018-01-15 08:25:25</td>\n",
       "      <td>,2429419,</td>\n",
       "      <td>4822</td>\n",
       "      <td>1</td>\n",
       "      <td>5</td>\n",
       "      <td>8</td>\n",
       "    </tr>\n",
       "    <tr>\n",
       "      <th>674864</th>\n",
       "      <td>2018-01-06</td>\n",
       "      <td>5955225</td>\n",
       "      <td>14</td>\n",
       "      <td>14_15</td>\n",
       "      <td>1</td>\n",
       "      <td>65751</td>\n",
       "      <td>61200</td>\n",
       "      <td>65332</td>\n",
       "      <td>61161</td>\n",
       "      <td>2018-01-15 08:25:25</td>\n",
       "      <td>,2513518,</td>\n",
       "      <td>4171</td>\n",
       "      <td>1</td>\n",
       "      <td>5</td>\n",
       "      <td>8</td>\n",
       "    </tr>\n",
       "    <tr>\n",
       "      <th>...</th>\n",
       "      <td>...</td>\n",
       "      <td>...</td>\n",
       "      <td>...</td>\n",
       "      <td>...</td>\n",
       "      <td>...</td>\n",
       "      <td>...</td>\n",
       "      <td>...</td>\n",
       "      <td>...</td>\n",
       "      <td>...</td>\n",
       "      <td>...</td>\n",
       "      <td>...</td>\n",
       "      <td>...</td>\n",
       "      <td>...</td>\n",
       "      <td>...</td>\n",
       "      <td>...</td>\n",
       "    </tr>\n",
       "    <tr>\n",
       "      <th>422478</th>\n",
       "      <td>2018-12-26</td>\n",
       "      <td>8592206</td>\n",
       "      <td>67</td>\n",
       "      <td>67_6</td>\n",
       "      <td>2</td>\n",
       "      <td>61896</td>\n",
       "      <td>58500</td>\n",
       "      <td>62222</td>\n",
       "      <td>58545</td>\n",
       "      <td>2019-01-09 17:30:44</td>\n",
       "      <td>,2805863,</td>\n",
       "      <td>3677</td>\n",
       "      <td>12</td>\n",
       "      <td>2</td>\n",
       "      <td>17</td>\n",
       "    </tr>\n",
       "    <tr>\n",
       "      <th>28895</th>\n",
       "      <td>2018-12-30</td>\n",
       "      <td>8592206</td>\n",
       "      <td>67</td>\n",
       "      <td>67_6</td>\n",
       "      <td>2</td>\n",
       "      <td>61896</td>\n",
       "      <td>58500</td>\n",
       "      <td>63920</td>\n",
       "      <td>58522</td>\n",
       "      <td>2019-01-16 18:16:31</td>\n",
       "      <td>,2805863,</td>\n",
       "      <td>5398</td>\n",
       "      <td>12</td>\n",
       "      <td>6</td>\n",
       "      <td>18</td>\n",
       "    </tr>\n",
       "    <tr>\n",
       "      <th>438572</th>\n",
       "      <td>2018-12-26</td>\n",
       "      <td>8592207</td>\n",
       "      <td>67</td>\n",
       "      <td>67_4</td>\n",
       "      <td>1</td>\n",
       "      <td>67655</td>\n",
       "      <td>63900</td>\n",
       "      <td>68012</td>\n",
       "      <td>63877</td>\n",
       "      <td>2019-01-09 17:30:44</td>\n",
       "      <td>,2805865,</td>\n",
       "      <td>4135</td>\n",
       "      <td>12</td>\n",
       "      <td>2</td>\n",
       "      <td>17</td>\n",
       "    </tr>\n",
       "    <tr>\n",
       "      <th>57439</th>\n",
       "      <td>2018-12-30</td>\n",
       "      <td>8592207</td>\n",
       "      <td>67</td>\n",
       "      <td>67_4</td>\n",
       "      <td>1</td>\n",
       "      <td>67655</td>\n",
       "      <td>63900</td>\n",
       "      <td>67575</td>\n",
       "      <td>63955</td>\n",
       "      <td>2019-01-16 18:16:31</td>\n",
       "      <td>,2805865,</td>\n",
       "      <td>3620</td>\n",
       "      <td>12</td>\n",
       "      <td>6</td>\n",
       "      <td>18</td>\n",
       "    </tr>\n",
       "    <tr>\n",
       "      <th>442075</th>\n",
       "      <td>2018-12-23</td>\n",
       "      <td>8592207</td>\n",
       "      <td>67</td>\n",
       "      <td>67_4</td>\n",
       "      <td>1</td>\n",
       "      <td>67655</td>\n",
       "      <td>63900</td>\n",
       "      <td>68707</td>\n",
       "      <td>63915</td>\n",
       "      <td>2019-01-08 17:30:40</td>\n",
       "      <td>,2805865,</td>\n",
       "      <td>4792</td>\n",
       "      <td>12</td>\n",
       "      <td>6</td>\n",
       "      <td>17</td>\n",
       "    </tr>\n",
       "  </tbody>\n",
       "</table>\n",
       "<p>1872894 rows × 15 columns</p>\n",
       "</div>"
      ],
      "text/plain": [
       "       DAYOFSERVICE   TRIPID LINEID ROUTEID DIRECTION PLANNEDTIME_ARR  \\\n",
       "681660   2018-01-06  5955221     14   14_15         1           42553   \n",
       "723197   2018-01-06  5955222     14   14_16         2           47867   \n",
       "684398   2018-01-06  5955223     14   14_15         1           54105   \n",
       "719581   2018-01-06  5955224     14   14_16         2           60094   \n",
       "674864   2018-01-06  5955225     14   14_15         1           65751   \n",
       "...             ...      ...    ...     ...       ...             ...   \n",
       "422478   2018-12-26  8592206     67    67_6         2           61896   \n",
       "28895    2018-12-30  8592206     67    67_6         2           61896   \n",
       "438572   2018-12-26  8592207     67    67_4         1           67655   \n",
       "57439    2018-12-30  8592207     67    67_4         1           67655   \n",
       "442075   2018-12-23  8592207     67    67_4         1           67655   \n",
       "\n",
       "       PLANNEDTIME_DEP ACTUALTIME_ARR ACTUALTIME_DEP          LASTUPDATE  \\\n",
       "681660           37800          42078          37836 2018-01-15 08:25:25   \n",
       "723197           43200          47707          43182 2018-01-15 08:25:25   \n",
       "684398           49200          54128          49171 2018-01-15 08:25:25   \n",
       "719581           55200          60025          55203 2018-01-15 08:25:25   \n",
       "674864           61200          65332          61161 2018-01-15 08:25:25   \n",
       "...                ...            ...            ...                 ...   \n",
       "422478           58500          62222          58545 2019-01-09 17:30:44   \n",
       "28895            58500          63920          58522 2019-01-16 18:16:31   \n",
       "438572           63900          68012          63877 2019-01-09 17:30:44   \n",
       "57439            63900          67575          63955 2019-01-16 18:16:31   \n",
       "442075           63900          68707          63915 2019-01-08 17:30:40   \n",
       "\n",
       "             NOTE  JOURNEY_TIME  MONTH  DAY  HOUR  \n",
       "681660  ,2513511,          4242      1    5     8  \n",
       "723197  ,2513514,          4525      1    5     8  \n",
       "684398  ,2513515,          4957      1    5     8  \n",
       "719581  ,2429419,          4822      1    5     8  \n",
       "674864  ,2513518,          4171      1    5     8  \n",
       "...           ...           ...    ...  ...   ...  \n",
       "422478  ,2805863,          3677     12    2    17  \n",
       "28895   ,2805863,          5398     12    6    18  \n",
       "438572  ,2805865,          4135     12    2    17  \n",
       "57439   ,2805865,          3620     12    6    18  \n",
       "442075  ,2805865,          4792     12    6    17  \n",
       "\n",
       "[1872894 rows x 15 columns]"
      ]
     },
     "execution_count": 24,
     "metadata": {},
     "output_type": "execute_result"
    }
   ],
   "source": [
    "df_trips.sort_values(by=['TRIPID'])"
   ]
  },
  {
   "cell_type": "markdown",
   "id": "2fbd0b74",
   "metadata": {},
   "source": [
    "### Practicing Modelling on route 68"
   ]
  },
  {
   "cell_type": "code",
   "execution_count": 25,
   "id": "handed-butter",
   "metadata": {},
   "outputs": [],
   "source": [
    "## Creating a df based off of lineid 68\n",
    "route68 = (df_trips[df_trips['LINEID'] =='68'])"
   ]
  },
  {
   "cell_type": "code",
   "execution_count": 26,
   "id": "fossil-garbage",
   "metadata": {},
   "outputs": [
    {
     "data": {
      "text/plain": [
       "(10097, 15)"
      ]
     },
     "execution_count": 26,
     "metadata": {},
     "output_type": "execute_result"
    }
   ],
   "source": [
    "route68.shape"
   ]
  },
  {
   "cell_type": "code",
   "execution_count": 27,
   "id": "sustainable-annual",
   "metadata": {},
   "outputs": [],
   "source": [
    "# Sorting route68 by LASTUPDATE\n",
    "route68.sort_values('LASTUPDATE', inplace=True)"
   ]
  },
  {
   "cell_type": "code",
   "execution_count": 28,
   "id": "regulated-fields",
   "metadata": {},
   "outputs": [],
   "source": [
    "# Merging weather and trips\n",
    "merged_data_trips = pd.merge_asof(route68, df_weather, left_on=\"LASTUPDATE\", right_on=\"date\")"
   ]
  },
  {
   "cell_type": "code",
   "execution_count": 29,
   "id": "66edde08",
   "metadata": {},
   "outputs": [
    {
     "data": {
      "text/html": [
       "<div>\n",
       "<style scoped>\n",
       "    .dataframe tbody tr th:only-of-type {\n",
       "        vertical-align: middle;\n",
       "    }\n",
       "\n",
       "    .dataframe tbody tr th {\n",
       "        vertical-align: top;\n",
       "    }\n",
       "\n",
       "    .dataframe thead th {\n",
       "        text-align: right;\n",
       "    }\n",
       "</style>\n",
       "<table border=\"1\" class=\"dataframe\">\n",
       "  <thead>\n",
       "    <tr style=\"text-align: right;\">\n",
       "      <th></th>\n",
       "      <th>DAYOFSERVICE</th>\n",
       "      <th>TRIPID</th>\n",
       "      <th>LINEID</th>\n",
       "      <th>ROUTEID</th>\n",
       "      <th>DIRECTION</th>\n",
       "      <th>PLANNEDTIME_ARR</th>\n",
       "      <th>PLANNEDTIME_DEP</th>\n",
       "      <th>ACTUALTIME_ARR</th>\n",
       "      <th>ACTUALTIME_DEP</th>\n",
       "      <th>LASTUPDATE</th>\n",
       "      <th>NOTE</th>\n",
       "      <th>JOURNEY_TIME</th>\n",
       "      <th>MONTH</th>\n",
       "      <th>DAY</th>\n",
       "      <th>HOUR</th>\n",
       "      <th>date</th>\n",
       "      <th>rain</th>\n",
       "      <th>temp</th>\n",
       "    </tr>\n",
       "  </thead>\n",
       "  <tbody>\n",
       "    <tr>\n",
       "      <th>0</th>\n",
       "      <td>2018-01-01</td>\n",
       "      <td>5956344</td>\n",
       "      <td>68</td>\n",
       "      <td>68_80</td>\n",
       "      <td>1</td>\n",
       "      <td>53390</td>\n",
       "      <td>50100</td>\n",
       "      <td>53575</td>\n",
       "      <td>50151</td>\n",
       "      <td>2018-01-08 17:21:10</td>\n",
       "      <td>,2962287,</td>\n",
       "      <td>3424</td>\n",
       "      <td>1</td>\n",
       "      <td>0</td>\n",
       "      <td>17</td>\n",
       "      <td>2018-01-08 17:00:00</td>\n",
       "      <td>0.0</td>\n",
       "      <td>3.7</td>\n",
       "    </tr>\n",
       "    <tr>\n",
       "      <th>1</th>\n",
       "      <td>2018-01-01</td>\n",
       "      <td>5959989</td>\n",
       "      <td>68</td>\n",
       "      <td>68_79</td>\n",
       "      <td>1</td>\n",
       "      <td>75492</td>\n",
       "      <td>72000</td>\n",
       "      <td>75018</td>\n",
       "      <td>72114</td>\n",
       "      <td>2018-01-08 17:21:10</td>\n",
       "      <td>,2969165,</td>\n",
       "      <td>2904</td>\n",
       "      <td>1</td>\n",
       "      <td>0</td>\n",
       "      <td>17</td>\n",
       "      <td>2018-01-08 17:00:00</td>\n",
       "      <td>0.0</td>\n",
       "      <td>3.7</td>\n",
       "    </tr>\n",
       "    <tr>\n",
       "      <th>2</th>\n",
       "      <td>2018-01-01</td>\n",
       "      <td>5970736</td>\n",
       "      <td>68</td>\n",
       "      <td>68_80</td>\n",
       "      <td>1</td>\n",
       "      <td>58926</td>\n",
       "      <td>55500</td>\n",
       "      <td>58752</td>\n",
       "      <td>55532</td>\n",
       "      <td>2018-01-08 17:21:10</td>\n",
       "      <td>,2966843,2966843,</td>\n",
       "      <td>3220</td>\n",
       "      <td>1</td>\n",
       "      <td>0</td>\n",
       "      <td>17</td>\n",
       "      <td>2018-01-08 17:00:00</td>\n",
       "      <td>0.0</td>\n",
       "      <td>3.7</td>\n",
       "    </tr>\n",
       "    <tr>\n",
       "      <th>3</th>\n",
       "      <td>2018-01-01</td>\n",
       "      <td>5969019</td>\n",
       "      <td>68</td>\n",
       "      <td>68_66</td>\n",
       "      <td>2</td>\n",
       "      <td>88740</td>\n",
       "      <td>87000</td>\n",
       "      <td>88639</td>\n",
       "      <td>87140</td>\n",
       "      <td>2018-01-08 17:21:10</td>\n",
       "      <td>,2818436,</td>\n",
       "      <td>1499</td>\n",
       "      <td>1</td>\n",
       "      <td>0</td>\n",
       "      <td>17</td>\n",
       "      <td>2018-01-08 17:00:00</td>\n",
       "      <td>0.0</td>\n",
       "      <td>3.7</td>\n",
       "    </tr>\n",
       "    <tr>\n",
       "      <th>4</th>\n",
       "      <td>2018-01-01</td>\n",
       "      <td>5969008</td>\n",
       "      <td>68</td>\n",
       "      <td>68_85</td>\n",
       "      <td>2</td>\n",
       "      <td>40029</td>\n",
       "      <td>36600</td>\n",
       "      <td>39454</td>\n",
       "      <td>36662</td>\n",
       "      <td>2018-01-08 17:21:10</td>\n",
       "      <td>,2967848,</td>\n",
       "      <td>2792</td>\n",
       "      <td>1</td>\n",
       "      <td>0</td>\n",
       "      <td>17</td>\n",
       "      <td>2018-01-08 17:00:00</td>\n",
       "      <td>0.0</td>\n",
       "      <td>3.7</td>\n",
       "    </tr>\n",
       "  </tbody>\n",
       "</table>\n",
       "</div>"
      ],
      "text/plain": [
       "  DAYOFSERVICE   TRIPID LINEID ROUTEID DIRECTION PLANNEDTIME_ARR  \\\n",
       "0   2018-01-01  5956344     68   68_80         1           53390   \n",
       "1   2018-01-01  5959989     68   68_79         1           75492   \n",
       "2   2018-01-01  5970736     68   68_80         1           58926   \n",
       "3   2018-01-01  5969019     68   68_66         2           88740   \n",
       "4   2018-01-01  5969008     68   68_85         2           40029   \n",
       "\n",
       "  PLANNEDTIME_DEP ACTUALTIME_ARR ACTUALTIME_DEP          LASTUPDATE  \\\n",
       "0           50100          53575          50151 2018-01-08 17:21:10   \n",
       "1           72000          75018          72114 2018-01-08 17:21:10   \n",
       "2           55500          58752          55532 2018-01-08 17:21:10   \n",
       "3           87000          88639          87140 2018-01-08 17:21:10   \n",
       "4           36600          39454          36662 2018-01-08 17:21:10   \n",
       "\n",
       "                NOTE  JOURNEY_TIME  MONTH  DAY  HOUR                date  \\\n",
       "0          ,2962287,          3424      1    0    17 2018-01-08 17:00:00   \n",
       "1          ,2969165,          2904      1    0    17 2018-01-08 17:00:00   \n",
       "2  ,2966843,2966843,          3220      1    0    17 2018-01-08 17:00:00   \n",
       "3          ,2818436,          1499      1    0    17 2018-01-08 17:00:00   \n",
       "4          ,2967848,          2792      1    0    17 2018-01-08 17:00:00   \n",
       "\n",
       "   rain  temp  \n",
       "0   0.0   3.7  \n",
       "1   0.0   3.7  \n",
       "2   0.0   3.7  \n",
       "3   0.0   3.7  \n",
       "4   0.0   3.7  "
      ]
     },
     "execution_count": 29,
     "metadata": {},
     "output_type": "execute_result"
    }
   ],
   "source": [
    "merged_data_trips.head(5)"
   ]
  },
  {
   "cell_type": "code",
   "execution_count": 30,
   "id": "potential-costa",
   "metadata": {},
   "outputs": [
    {
     "data": {
      "text/plain": [
       "DAYOFSERVICE       datetime64[ns]\n",
       "TRIPID                   category\n",
       "LINEID                   category\n",
       "ROUTEID                  category\n",
       "DIRECTION                category\n",
       "PLANNEDTIME_ARR          category\n",
       "PLANNEDTIME_DEP          category\n",
       "ACTUALTIME_ARR           category\n",
       "ACTUALTIME_DEP           category\n",
       "LASTUPDATE         datetime64[ns]\n",
       "NOTE                     category\n",
       "JOURNEY_TIME                int64\n",
       "MONTH                       int64\n",
       "DAY                         int64\n",
       "HOUR                        int64\n",
       "date               datetime64[ns]\n",
       "rain                      float64\n",
       "temp                      float64\n",
       "dtype: object"
      ]
     },
     "execution_count": 30,
     "metadata": {},
     "output_type": "execute_result"
    }
   ],
   "source": [
    "merged_data_trips.dtypes"
   ]
  },
  {
   "cell_type": "code",
   "execution_count": 31,
   "id": "committed-space",
   "metadata": {},
   "outputs": [
    {
     "data": {
      "text/plain": [
       "0.0"
      ]
     },
     "execution_count": 31,
     "metadata": {},
     "output_type": "execute_result"
    }
   ],
   "source": [
    "# % missing on new feature JOURNEY_TIME\n",
    "journey_missing = 100 * (merged_data_trips['JOURNEY_TIME'].isna().sum()/merged_data_trips.shape[0])\n",
    "journey_missing"
   ]
  },
  {
   "cell_type": "markdown",
   "id": "minus-wagon",
   "metadata": {},
   "source": [
    "### Building and Testing Models on Sample Route 68"
   ]
  },
  {
   "cell_type": "markdown",
   "id": "broke-venue",
   "metadata": {},
   "source": [
    "Classification metrics can't handle a mix of multiclass and continuous targets, which means accuracy score is only for classification problems. For regression problems we can use: R2 Score, MSE (Mean Squared Error), RMSE (Root Mean Squared Error)."
   ]
  },
  {
   "cell_type": "code",
   "execution_count": 32,
   "id": "serial-slave",
   "metadata": {},
   "outputs": [],
   "source": [
    "# X for the input data to be predicted on\n",
    "X = merged_data_trips[[\"MONTH\", \"DAY\", \"HOUR\", \"rain\", \"temp\"]]\n",
    "# y for the out/goal set\n",
    "y = merged_data_trips[[\"JOURNEY_TIME\"]]"
   ]
  },
  {
   "cell_type": "code",
   "execution_count": 33,
   "id": "electoral-organic",
   "metadata": {},
   "outputs": [
    {
     "data": {
      "text/plain": [
       "MONTH      int64\n",
       "DAY        int64\n",
       "HOUR       int64\n",
       "rain     float64\n",
       "temp     float64\n",
       "dtype: object"
      ]
     },
     "execution_count": 33,
     "metadata": {},
     "output_type": "execute_result"
    }
   ],
   "source": [
    "X.dtypes"
   ]
  },
  {
   "cell_type": "code",
   "execution_count": 34,
   "id": "exclusive-baseline",
   "metadata": {},
   "outputs": [
    {
     "name": "stdout",
     "output_type": "stream",
     "text": [
      "original range is:  10097\n",
      "training range (70%):\t rows 0 to 7067\n",
      "test range (30%): \t rows 7067 to 10097\n"
     ]
    }
   ],
   "source": [
    "# Split the dataset into two datasets: 70% training and 30% test\n",
    "X_train, X_test, y_train, y_test = train_test_split(X, y, test_size=0.3,random_state=20)\n",
    "\n",
    "print(\"original range is: \", merged_data_trips.shape[0])\n",
    "print(\"training range (70%):\\t rows 0 to\", round(X_train.shape[0]))\n",
    "print(\"test range (30%): \\t rows\", round(X_train.shape[0]), \"to\", round(X_train.shape[0]) + X_test.shape[0])"
   ]
  },
  {
   "cell_type": "code",
   "execution_count": 35,
   "id": "expanded-buyer",
   "metadata": {},
   "outputs": [
    {
     "data": {
      "image/png": "[encoded data removed]",
      "text/plain": [
       "<Figure size 1152x432 with 2 Axes>"
      ]
     },
     "metadata": {
      "needs_background": "light"
     },
     "output_type": "display_data"
    }
   ],
   "source": [
    "# Visualising of the correlation between the features\n",
    "trainingSubset = pd.concat([X_train, y_train], axis=1)\n",
    "plt.figure(figsize=(16, 6))\n",
    "# define the mask to set the values in the upper triangle to True\n",
    "mask = np.triu(np.ones_like(trainingSubset.corr(), dtype=np.bool))\n",
    "heatmap = sns.heatmap(trainingSubset.corr(), mask=mask, vmin=-1, vmax=1, annot=True, cmap='BrBG')\n",
    "heatmap.set_title('Correlation between features', fontdict={'fontsize':18}, pad=16);"
   ]
  },
  {
   "cell_type": "markdown",
   "id": "outside-boring",
   "metadata": {},
   "source": [
    "### Decision Tree "
   ]
  },
  {
   "cell_type": "code",
   "execution_count": 36,
   "id": "according-african",
   "metadata": {},
   "outputs": [
    {
     "data": {
      "text/plain": [
       "0.08474230096563995"
      ]
     },
     "execution_count": 36,
     "metadata": {},
     "output_type": "execute_result"
    }
   ],
   "source": [
    "# Generating r2 score for decision tree model\n",
    "decisionTree = DecisionTreeRegressor()\n",
    "decisionTree.fit(X_train, y_train)\n",
    "predictions = decisionTree.predict(X_test)\n",
    "decisionTreeR2 = r2_score(y_test, predictions)\n",
    "decisionTreeR2"
   ]
  },
  {
   "cell_type": "code",
   "execution_count": 37,
   "id": "respective-version",
   "metadata": {},
   "outputs": [
    {
     "data": {
      "text/plain": [
       "640.3614685218299"
      ]
     },
     "execution_count": 37,
     "metadata": {},
     "output_type": "execute_result"
    }
   ],
   "source": [
    "# Generating mean absolute error score for decision tree model\n",
    "decisionTreeMAE = mean_absolute_error(y_test, predictions)\n",
    "decisionTreeMAE"
   ]
  },
  {
   "cell_type": "code",
   "execution_count": 38,
   "id": "whole-deployment",
   "metadata": {},
   "outputs": [
    {
     "data": {
      "text/plain": [
       "890.4221708081423"
      ]
     },
     "execution_count": 38,
     "metadata": {},
     "output_type": "execute_result"
    }
   ],
   "source": [
    "# Calculating Root Mean Square Error\n",
    "DecisionTreeMSE = sklearn.metrics.mean_squared_error(y_test, predictions)\n",
    "                           \n",
    "DecisionTreeRMSE = math.sqrt(DecisionTreeMSE)\n",
    "DecisionTreeRMSE"
   ]
  },
  {
   "cell_type": "markdown",
   "id": "sixth-science",
   "metadata": {},
   "source": [
    "### Random Forest Regressor"
   ]
  },
  {
   "cell_type": "code",
   "execution_count": 39,
   "id": "middle-county",
   "metadata": {},
   "outputs": [
    {
     "data": {
      "text/plain": [
       "0.08394478227690261"
      ]
     },
     "execution_count": 39,
     "metadata": {},
     "output_type": "execute_result"
    }
   ],
   "source": [
    "# Generating r2 score for random forest model\n",
    "randForestModel = RandomForestRegressor(n_estimators = 100, random_state=10)\n",
    "randForestModel.fit(X_train, y_train.values.ravel())\n",
    "predictionTest = randForestModel.predict(X_test)\n",
    "randForestR2 = r2_score(y_test, predictionTest)\n",
    "randForestR2"
   ]
  },
  {
   "cell_type": "code",
   "execution_count": 40,
   "id": "swiss-wisconsin",
   "metadata": {},
   "outputs": [
    {
     "data": {
      "text/plain": [
       "640.7485802013845"
      ]
     },
     "execution_count": 40,
     "metadata": {},
     "output_type": "execute_result"
    }
   ],
   "source": [
    "# Generating mean absolute error score for Random Forest model\n",
    "randForestMAE = mean_absolute_error(y_test, predictionTest)\n",
    "randForestMAE"
   ]
  },
  {
   "cell_type": "code",
   "execution_count": 41,
   "id": "human-immune",
   "metadata": {},
   "outputs": [
    {
     "data": {
      "text/plain": [
       "890.8100253412929"
      ]
     },
     "execution_count": 41,
     "metadata": {},
     "output_type": "execute_result"
    }
   ],
   "source": [
    "# Calculating Root Mean Square Error for Random Forest\n",
    "RandforestMSE = sklearn.metrics.mean_squared_error(y_test, predictionTest)\n",
    "                           \n",
    "RandForestRMSE = math.sqrt(RandforestMSE)\n",
    "RandForestRMSE"
   ]
  },
  {
   "cell_type": "markdown",
   "id": "billion-semiconductor",
   "metadata": {},
   "source": [
    "- Checking feature importances"
   ]
  },
  {
   "cell_type": "code",
   "execution_count": 42,
   "id": "hairy-crowd",
   "metadata": {},
   "outputs": [
    {
     "data": {
      "text/html": [
       "<div>\n",
       "<style scoped>\n",
       "    .dataframe tbody tr th:only-of-type {\n",
       "        vertical-align: middle;\n",
       "    }\n",
       "\n",
       "    .dataframe tbody tr th {\n",
       "        vertical-align: top;\n",
       "    }\n",
       "\n",
       "    .dataframe thead th {\n",
       "        text-align: right;\n",
       "    }\n",
       "</style>\n",
       "<table border=\"1\" class=\"dataframe\">\n",
       "  <thead>\n",
       "    <tr style=\"text-align: right;\">\n",
       "      <th></th>\n",
       "      <th>feature</th>\n",
       "      <th>importance</th>\n",
       "    </tr>\n",
       "  </thead>\n",
       "  <tbody>\n",
       "    <tr>\n",
       "      <th>1</th>\n",
       "      <td>DAY</td>\n",
       "      <td>0.515601</td>\n",
       "    </tr>\n",
       "    <tr>\n",
       "      <th>4</th>\n",
       "      <td>temp</td>\n",
       "      <td>0.195983</td>\n",
       "    </tr>\n",
       "    <tr>\n",
       "      <th>2</th>\n",
       "      <td>HOUR</td>\n",
       "      <td>0.138595</td>\n",
       "    </tr>\n",
       "    <tr>\n",
       "      <th>0</th>\n",
       "      <td>MONTH</td>\n",
       "      <td>0.126286</td>\n",
       "    </tr>\n",
       "    <tr>\n",
       "      <th>3</th>\n",
       "      <td>rain</td>\n",
       "      <td>0.023535</td>\n",
       "    </tr>\n",
       "  </tbody>\n",
       "</table>\n",
       "</div>"
      ],
      "text/plain": [
       "  feature  importance\n",
       "1     DAY    0.515601\n",
       "4    temp    0.195983\n",
       "2    HOUR    0.138595\n",
       "0   MONTH    0.126286\n",
       "3    rain    0.023535"
      ]
     },
     "execution_count": 42,
     "metadata": {},
     "output_type": "execute_result"
    }
   ],
   "source": [
    "# Checking for important features\n",
    "feature_list = list(X.columns)\n",
    "importance = pd.DataFrame({'feature': feature_list, 'importance':randForestModel.feature_importances_})\n",
    "importance.sort_values('importance', ascending=False)"
   ]
  },
  {
   "cell_type": "markdown",
   "id": "perfect-arrival",
   "metadata": {},
   "source": [
    "### K-Nearest Neighbour"
   ]
  },
  {
   "cell_type": "code",
   "execution_count": 43,
   "id": "dutch-shower",
   "metadata": {},
   "outputs": [
    {
     "data": {
      "text/plain": [
       "0.05635402027693448"
      ]
     },
     "execution_count": 43,
     "metadata": {},
     "output_type": "execute_result"
    }
   ],
   "source": [
    "# Generating r2 score for K-nearest Neighbour\n",
    "knn_model = KNeighborsRegressor(n_neighbors = 10)\n",
    "knn_model.fit(X_train, y_train.values.ravel())\n",
    "knnTest = knn_model.predict(X_test)\n",
    "knnR2 = r2_score(y_test, knnTest)\n",
    "knnR2"
   ]
  },
  {
   "cell_type": "code",
   "execution_count": 44,
   "id": "existing-breeding",
   "metadata": {},
   "outputs": [
    {
     "data": {
      "text/plain": [
       "654.9197689768977"
      ]
     },
     "execution_count": 44,
     "metadata": {},
     "output_type": "execute_result"
    }
   ],
   "source": [
    "# Generating mean absolute error score for k-nearest neighbour model\n",
    "knnMAE = mean_absolute_error(y_test, knnTest)\n",
    "knnMAE"
   ]
  },
  {
   "cell_type": "code",
   "execution_count": 45,
   "id": "afraid-muscle",
   "metadata": {},
   "outputs": [
    {
     "data": {
      "text/plain": [
       "904.1257047830821"
      ]
     },
     "execution_count": 45,
     "metadata": {},
     "output_type": "execute_result"
    }
   ],
   "source": [
    "# Calculating Root Mean Square Error for Knn\n",
    "KnnMSE = sklearn.metrics.mean_squared_error(y_test, knnTest)\n",
    "                           \n",
    "KnnRMSE = math.sqrt(KnnMSE)\n",
    "KnnRMSE"
   ]
  },
  {
   "cell_type": "markdown",
   "id": "legal-occurrence",
   "metadata": {},
   "source": [
    "### Linear Regression"
   ]
  },
  {
   "cell_type": "code",
   "execution_count": 46,
   "id": "brief-greek",
   "metadata": {},
   "outputs": [
    {
     "data": {
      "text/plain": [
       "0.03677754028115876"
      ]
     },
     "execution_count": 46,
     "metadata": {},
     "output_type": "execute_result"
    }
   ],
   "source": [
    "# Generating r2 score for Linear Regression\n",
    "linearModel = LinearRegression().fit(X_train, y_train.values.ravel())\n",
    "linearModel\n",
    "linear_prediction = linearModel.predict(X_test)\n",
    "linearRegR2 = r2_score(y_test, linear_prediction)\n",
    "linearRegR2"
   ]
  },
  {
   "cell_type": "code",
   "execution_count": 47,
   "id": "tested-accountability",
   "metadata": {},
   "outputs": [
    {
     "data": {
      "text/plain": [
       "673.1984516691145"
      ]
     },
     "execution_count": 47,
     "metadata": {},
     "output_type": "execute_result"
    }
   ],
   "source": [
    "# Generating mean absolute error score for Linear Regression\n",
    "linearRegMAE = mean_absolute_error(y_test, linear_prediction)\n",
    "linearRegMAE"
   ]
  },
  {
   "cell_type": "code",
   "execution_count": 48,
   "id": "external-knight",
   "metadata": {},
   "outputs": [
    {
     "data": {
      "text/plain": [
       "913.4558678306042"
      ]
     },
     "execution_count": 48,
     "metadata": {},
     "output_type": "execute_result"
    }
   ],
   "source": [
    "# Calculating Root Mean Square Error for Linear Regression\n",
    "LinRegMSE = sklearn.metrics.mean_squared_error(y_test, linear_prediction)\n",
    "                           \n",
    "LinearRegRMSE = math.sqrt(LinRegMSE)\n",
    "LinearRegRMSE"
   ]
  },
  {
   "cell_type": "code",
   "execution_count": 49,
   "id": "heard-malawi",
   "metadata": {},
   "outputs": [
    {
     "name": "stdout",
     "output_type": "stream",
     "text": [
      "\n",
      "Features are: \n",
      " Index(['MONTH', 'DAY', 'HOUR', 'rain', 'temp'], dtype='object')\n",
      "\n",
      "Coeficients are: \n",
      " [ 21.55655277 -76.28000543 -10.1303155   34.3219319   -6.33432304]\n",
      "\n",
      "Intercept is: \n",
      " 4285.8820148255845\n",
      "\n",
      "Features and coeficients: \n",
      " [('MONTH', 21.556552766834784), ('DAY', -76.28000542606075), ('HOUR', -10.130315499496259), ('rain', 34.321931897947806), ('temp', -6.334323041798498)]\n"
     ]
    }
   ],
   "source": [
    "# Print the weights learned for each feature.\n",
    "print(\"\\nFeatures are: \\n\", X_train.columns)\n",
    "print(\"\\nCoeficients are: \\n\", linearModel.coef_)\n",
    "print(\"\\nIntercept is: \\n\", linearModel.intercept_)\n",
    "print(\"\\nFeatures and coeficients: \\n\", list(zip(X_train.columns, linearModel.coef_)))"
   ]
  },
  {
   "cell_type": "markdown",
   "id": "surgical-earth",
   "metadata": {},
   "source": [
    "- Printing Actual Death vs predicted based on train data"
   ]
  },
  {
   "cell_type": "code",
   "execution_count": 50,
   "id": "sitting-testimony",
   "metadata": {},
   "outputs": [
    {
     "name": "stdout",
     "output_type": "stream",
     "text": [
      "\n",
      "Predictions with multiple linear regression: \n",
      "\n",
      "    JOURNEY_TIME    Predicted\n",
      "0            NaN  3957.945529\n",
      "1         2904.0  4004.256302\n",
      "2         3220.0  4067.254084\n",
      "3            NaN  3897.738936\n",
      "4         2792.0  3933.480778\n",
      "..           ...          ...\n",
      "95        3397.0  4121.431276\n",
      "96        3276.0  3810.828932\n",
      "97           NaN  4221.237697\n",
      "98        3949.0  4137.496304\n",
      "99        4144.0  4288.074332\n",
      "\n",
      "[100 rows x 2 columns]\n"
     ]
    }
   ],
   "source": [
    "# calculate the prediction and threshold the value.\n",
    "multiple_linreg_predictions_train = (linearModel.predict(X_train)) \n",
    "\n",
    "print(\"\\nPredictions with multiple linear regression: \\n\")\n",
    "actual_vs_predicted_multiplelinreg = pd.concat([y_train, pd.DataFrame(multiple_linreg_predictions_train, columns=['Predicted'])], axis=1)\n",
    "print(actual_vs_predicted_multiplelinreg.head(100))"
   ]
  },
  {
   "cell_type": "markdown",
   "id": "forced-vacation",
   "metadata": {},
   "source": [
    "- Printing Actual Death vs predicted based on test data"
   ]
  },
  {
   "cell_type": "code",
   "execution_count": 51,
   "id": "swiss-being",
   "metadata": {},
   "outputs": [
    {
     "name": "stdout",
     "output_type": "stream",
     "text": [
      "\n",
      "Predictions with multiple linear regression: \n",
      "\n",
      "    JOURNEY_TIME    Predicted\n",
      "0         3424.0  3985.891367\n",
      "1            NaN  4411.576675\n",
      "2            NaN  3739.304595\n",
      "3         1499.0  4258.117084\n",
      "4            NaN  4081.428902\n",
      "..           ...          ...\n",
      "95           NaN  4189.975695\n",
      "96           NaN  3913.373696\n",
      "97        3911.0  4098.111309\n",
      "98           NaN  3745.312674\n",
      "99           NaN  4233.927521\n",
      "\n",
      "[100 rows x 2 columns]\n"
     ]
    }
   ],
   "source": [
    "# calculate the prediction and threshold the value. If >= 0.5 its true\n",
    "multiple_linreg_predictions_test = (linearModel.predict(X_test)) * 1.0\n",
    "\n",
    "print(\"\\nPredictions with multiple linear regression: \\n\")\n",
    "actual_vs_predicted_multiplelinreg = pd.concat([y_test, pd.DataFrame(multiple_linreg_predictions_test, columns=['Predicted'])], axis=1)\n",
    "print(actual_vs_predicted_multiplelinreg.head(100))"
   ]
  },
  {
   "cell_type": "markdown",
   "id": "valid-guitar",
   "metadata": {},
   "source": [
    "### Printing and Discussing Results"
   ]
  },
  {
   "cell_type": "code",
   "execution_count": 52,
   "id": "flexible-peter",
   "metadata": {},
   "outputs": [
    {
     "name": "stdout",
     "output_type": "stream",
     "text": [
      "==================== Predictive Model Accuracy - R2 Score =======================\n",
      "\n",
      "Decision Tree :  0.08474230096563995\n",
      "Random Forest :  0.08394478227690261\n",
      "K-nearest Neighbour :  0.05635402027693448\n",
      "Linear Regression :  0.03677754028115876\n",
      "\n",
      "==================== Predictive Model Accuracy - MAE Score =======================\n",
      "\n",
      "Decision Tree :  640.3614685218299\n",
      "Random Forest :  640.7485802013845\n",
      "K-nearest Neighbour :  654.9197689768977\n",
      "Linear Regression :  673.1984516691145\n",
      "\n",
      "==================== Predictive Model Accuracy - RMSE Score =======================\n",
      "\n",
      "Decision Tree :  890.4221708081423\n",
      "Random Forest :  890.8100253412929\n",
      "K-nearest Neighbour :  904.1257047830821\n",
      "Linear Regression :  913.4558678306042\n"
     ]
    }
   ],
   "source": [
    "# Some more evaluation metrics.\n",
    "print(\"==================== Predictive Model Accuracy - R2 Score =======================\\n\")\n",
    "print(\"Decision Tree : \", decisionTreeR2)\n",
    "print(\"Random Forest : \", randForestR2)\n",
    "print(\"K-nearest Neighbour : \", knnR2)\n",
    "print(\"Linear Regression : \", linearRegR2 )\n",
    "\n",
    "print(\"\\n==================== Predictive Model Accuracy - MAE Score =======================\\n\")\n",
    "print(\"Decision Tree : \", decisionTreeMAE)\n",
    "print(\"Random Forest : \", randForestMAE)\n",
    "print(\"K-nearest Neighbour : \", knnMAE)\n",
    "print(\"Linear Regression : \", linearRegMAE )\n",
    "\n",
    "print(\"\\n==================== Predictive Model Accuracy - RMSE Score =======================\\n\")\n",
    "print(\"Decision Tree : \", DecisionTreeRMSE)\n",
    "print(\"Random Forest : \", RandForestRMSE)\n",
    "print(\"K-nearest Neighbour : \", KnnRMSE)\n",
    "print(\"Linear Regression : \", LinearRegRMSE )"
   ]
  },
  {
   "cell_type": "markdown",
   "id": "amended-packet",
   "metadata": {},
   "source": [
    "#### Decision Tree\n",
    "- We get very good results from R2 score, MAE score and the RMSE score. \n",
    "- The decision tree is giving us very good results, we will likely use this method but will continue to test other predictive models first.\n",
    "\n",
    "#### Random Forest\n",
    "- Random Forest produces just as good results as decision tree for the R2 Score, MAE score and RMSE score, however the random forest takes up far more space and takes longer to run. The trade off between accuracy and time taken/storage is something we have to strongly consider, as we have very large data sets. \n",
    "- After testing the size of a decision tree vs a random forest, the random forest pickle file is approximately 6.4 times bigger than the size of a decision tree pickle file (455KB vs 2896KB)\n",
    "\n",
    "#### Knn\n",
    "- We have gotten poor results from the R2 score, MAE score and the RMSE score.\n",
    "- Due to these poor results, we will disregard this method for our predictive models.\n",
    "\n",
    "#### Linear Regression\n",
    "- We are getting poor results from the linear regression for r2 scores but acceptable results for MAE and RMSE.\n",
    "- However, these results do not compare to the decision tree or random forest results."
   ]
  },
  {
   "cell_type": "markdown",
   "id": "bizarre-witch",
   "metadata": {},
   "source": [
    "### Conclusion\n",
    "- Based on the results above and after considering the trade off between accuracy and time taken/storage for the models, we believe <b>Random Forest</b> is the best option and we will be proceeding with this predictive model for the rest of our dataset."
   ]
  }
 ],
 "metadata": {
  "kernelspec": {
   "display_name": "Python 3",
   "language": "python",
   "name": "python3"
  },
  "language_info": {
   "codemirror_mode": {
    "name": "ipython",
    "version": 3
   },
   "file_extension": ".py",
   "mimetype": "text/x-python",
   "name": "python",
   "nbconvert_exporter": "python",
   "pygments_lexer": "ipython3",
   "version": "3.8.8"
  }
 },
 "nbformat": 4,
 "nbformat_minor": 5
}
