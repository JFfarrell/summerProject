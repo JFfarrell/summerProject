{
 "cells": [
  {
   "cell_type": "markdown",
   "id": "1a06cc0a",
   "metadata": {},
   "source": [
    "### Building & Testing Models with Sample Dataset"
   ]
  },
  {
   "cell_type": "markdown",
   "id": "51075122",
   "metadata": {},
   "source": [
    "### Setup workspace"
   ]
  },
  {
   "cell_type": "code",
   "execution_count": 1,
   "id": "a0e74e11",
   "metadata": {},
   "outputs": [],
   "source": [
    "# import required packages\n",
    "import pandas as pd\n",
    "import numpy as np\n",
    "import sqlite3\n",
    "import pymysql\n",
    "from datetime import datetime\n",
    "import time\n",
    "import pickle\n",
    "from sklearn.model_selection import train_test_split\n",
    "import pandas as pd\n",
    "import numpy as np\n",
    "from sklearn.linear_model import LinearRegression\n",
    "from sklearn.ensemble import RandomForestRegressor\n",
    "\n",
    "import matplotlib.pyplot as plt\n",
    "import matplotlib.patches as mpatches\n",
    "from sklearn.linear_model import LogisticRegression\n",
    "from sklearn.tree import DecisionTreeClassifier\n",
    "from sklearn.tree import DecisionTreeRegressor\n",
    "from sklearn.ensemble import RandomForestClassifier\n",
    "from sklearn.model_selection import train_test_split\n",
    "from sklearn import metrics\n",
    "from sklearn.model_selection import cross_validate\n",
    "from sklearn.model_selection import cross_val_score\n",
    "from sklearn.tree import export_graphviz\n",
    "import scipy.stats as ss\n",
    "# ignore warnings\n",
    "import warnings\n",
    "warnings.filterwarnings('ignore')\n",
    "from sklearn.metrics import mean_squared_error\n",
    "import sklearn\n",
    "import math\n",
    "from sklearn.metrics import r2_score\n",
    "from sklearn.neighbors import KNeighborsRegressor\n",
    "from statsmodels.stats.outliers_influence import variance_inflation_factor\n",
    "from patsy import dmatrices\n",
    "import pickle\n",
    "from sklearn.metrics import mean_absolute_error"
   ]
  },
  {
   "cell_type": "markdown",
   "id": "initial-scenario",
   "metadata": {},
   "source": [
    "### Functions to clean the dfs"
   ]
  },
  {
   "cell_type": "code",
   "execution_count": 2,
   "id": "51d442e3",
   "metadata": {},
   "outputs": [],
   "source": [
    "# Function to clean the Leavetimes df\n",
    "# Based off of the CleaningNotebook cleaning methods\n",
    "def clean_leavetimes(x):\n",
    "    \n",
    "    categorical_columns = x[[\"TRIPID\",\"PROGRNUMBER\",\"STOPPOINTID\",\"PLANNEDTIME_ARR\", 'PLANNEDTIME_DEP', 'ACTUALTIME_ARR','ACTUALTIME_DEP','VEHICLEID']].columns\n",
    "    # Convert data type to category for these columns\n",
    "    for column in categorical_columns:\n",
    "        x[column] = x[column].astype('category')\n",
    "    \n",
    "    # Converting dayofservice to datetime64\n",
    "    x['DAYOFSERVICE'] = pd.to_datetime(x['DAYOFSERVICE'], infer_datetime_format=True)\n",
    "\n",
    "    # Converting lastupdate to datetime64\n",
    "    x['LASTUPDATE'] = pd.to_datetime(x['LASTUPDATE'], infer_datetime_format=True)\n",
    "    \n",
    "    return x"
   ]
  },
  {
   "cell_type": "code",
   "execution_count": 3,
   "id": "specified-disclaimer",
   "metadata": {},
   "outputs": [],
   "source": [
    "# Function to clean the trips df\n",
    "# Based off of the CleaningNotebook cleaning methods\n",
    "def clean_trips(x):\n",
    "    categorical_columns = x[[\"TRIPID\",\"LINEID\", \"ROUTEID\", \"DIRECTION\", \"PLANNEDTIME_ARR\",\"PLANNEDTIME_DEP\", \"ACTUALTIME_ARR\", \"ACTUALTIME_DEP\", \"NOTE\",\"JOURNEY_TIME\"]].columns\n",
    "    # Convert data type to category for these columns\n",
    "    for column in categorical_columns:\n",
    "        x[column] = x[column].astype('category')\n",
    "    \n",
    "    # Converting dayofservice to datetime64\n",
    "    x['DAYOFSERVICE'] = pd.to_datetime(x['DAYOFSERVICE'], infer_datetime_format=True)\n",
    "\n",
    "    # Converting lastupdate to datetime64\n",
    "    x['LASTUPDATE'] = pd.to_datetime(x['LASTUPDATE'], infer_datetime_format=True)\n",
    "    \n",
    "    \n",
    "    return x"
   ]
  },
  {
   "cell_type": "code",
   "execution_count": 4,
   "id": "direct-savage",
   "metadata": {},
   "outputs": [],
   "source": [
    "# Function to clean the weather df\n",
    "# Based off of the CleaningNotebook cleaning methods\n",
    "\n",
    "def clean_weather(x):\n",
    "    # Converting date to datetime\n",
    "    x['date'] = pd.to_datetime(x['date'], infer_datetime_format=True)\n",
    "    \n",
    "    return x"
   ]
  },
  {
   "cell_type": "markdown",
   "id": "3757a207",
   "metadata": {},
   "source": [
    "### 2.0 Reading in Leavetimes Dataset"
   ]
  },
  {
   "cell_type": "code",
   "execution_count": 5,
   "id": "moved-water",
   "metadata": {},
   "outputs": [],
   "source": [
    "# Reading in the cleaned Leavetimes csv\n",
    "df_leavetimes = pd.read_csv(r'C:\\Users\\jason\\OneDrive - University College Dublin\\Documents\\MSc Computer Science\\Summer Semester\\Data\\Notebooks\\CleanedCSVs\\rt_leavetimes_DB_2018_cleaned_sample.csv', index_col=[0])"
   ]
  },
  {
   "cell_type": "code",
   "execution_count": 6,
   "id": "brown-property",
   "metadata": {},
   "outputs": [
    {
     "data": {
      "text/html": [
       "<div>\n",
       "<style scoped>\n",
       "    .dataframe tbody tr th:only-of-type {\n",
       "        vertical-align: middle;\n",
       "    }\n",
       "\n",
       "    .dataframe tbody tr th {\n",
       "        vertical-align: top;\n",
       "    }\n",
       "\n",
       "    .dataframe thead th {\n",
       "        text-align: right;\n",
       "    }\n",
       "</style>\n",
       "<table border=\"1\" class=\"dataframe\">\n",
       "  <thead>\n",
       "    <tr style=\"text-align: right;\">\n",
       "      <th></th>\n",
       "      <th>DAYOFSERVICE</th>\n",
       "      <th>TRIPID</th>\n",
       "      <th>PROGRNUMBER</th>\n",
       "      <th>STOPPOINTID</th>\n",
       "      <th>PLANNEDTIME_ARR</th>\n",
       "      <th>PLANNEDTIME_DEP</th>\n",
       "      <th>ACTUALTIME_ARR</th>\n",
       "      <th>ACTUALTIME_DEP</th>\n",
       "      <th>VEHICLEID</th>\n",
       "      <th>LASTUPDATE</th>\n",
       "    </tr>\n",
       "  </thead>\n",
       "  <tbody>\n",
       "    <tr>\n",
       "      <th>0</th>\n",
       "      <td>2018-01-01 00:00:00</td>\n",
       "      <td>5972116</td>\n",
       "      <td>12</td>\n",
       "      <td>119</td>\n",
       "      <td>48030</td>\n",
       "      <td>48030</td>\n",
       "      <td>48012</td>\n",
       "      <td>48012</td>\n",
       "      <td>2693211</td>\n",
       "      <td>2018-01-08 17:21:10</td>\n",
       "    </tr>\n",
       "    <tr>\n",
       "      <th>1</th>\n",
       "      <td>2018-01-01 00:00:00</td>\n",
       "      <td>5966674</td>\n",
       "      <td>12</td>\n",
       "      <td>119</td>\n",
       "      <td>54001</td>\n",
       "      <td>54001</td>\n",
       "      <td>54023</td>\n",
       "      <td>54023</td>\n",
       "      <td>2693267</td>\n",
       "      <td>2018-01-08 17:21:10</td>\n",
       "    </tr>\n",
       "    <tr>\n",
       "      <th>2</th>\n",
       "      <td>2018-01-01 00:00:00</td>\n",
       "      <td>5959105</td>\n",
       "      <td>12</td>\n",
       "      <td>119</td>\n",
       "      <td>60001</td>\n",
       "      <td>60001</td>\n",
       "      <td>59955</td>\n",
       "      <td>59955</td>\n",
       "      <td>2693263</td>\n",
       "      <td>2018-01-08 17:21:10</td>\n",
       "    </tr>\n",
       "    <tr>\n",
       "      <th>3</th>\n",
       "      <td>2018-01-01 00:00:00</td>\n",
       "      <td>5966888</td>\n",
       "      <td>12</td>\n",
       "      <td>119</td>\n",
       "      <td>58801</td>\n",
       "      <td>58801</td>\n",
       "      <td>58771</td>\n",
       "      <td>58771</td>\n",
       "      <td>2693284</td>\n",
       "      <td>2018-01-08 17:21:10</td>\n",
       "    </tr>\n",
       "    <tr>\n",
       "      <th>4</th>\n",
       "      <td>2018-01-01 00:00:00</td>\n",
       "      <td>5965960</td>\n",
       "      <td>12</td>\n",
       "      <td>119</td>\n",
       "      <td>56401</td>\n",
       "      <td>56401</td>\n",
       "      <td>56309</td>\n",
       "      <td>56323</td>\n",
       "      <td>2693209</td>\n",
       "      <td>2018-01-08 17:21:10</td>\n",
       "    </tr>\n",
       "  </tbody>\n",
       "</table>\n",
       "</div>"
      ],
      "text/plain": [
       "          DAYOFSERVICE   TRIPID  PROGRNUMBER  STOPPOINTID  PLANNEDTIME_ARR  \\\n",
       "0  2018-01-01 00:00:00  5972116           12          119            48030   \n",
       "1  2018-01-01 00:00:00  5966674           12          119            54001   \n",
       "2  2018-01-01 00:00:00  5959105           12          119            60001   \n",
       "3  2018-01-01 00:00:00  5966888           12          119            58801   \n",
       "4  2018-01-01 00:00:00  5965960           12          119            56401   \n",
       "\n",
       "   PLANNEDTIME_DEP  ACTUALTIME_ARR  ACTUALTIME_DEP  VEHICLEID  \\\n",
       "0            48030           48012           48012    2693211   \n",
       "1            54001           54023           54023    2693267   \n",
       "2            60001           59955           59955    2693263   \n",
       "3            58801           58771           58771    2693284   \n",
       "4            56401           56309           56323    2693209   \n",
       "\n",
       "            LASTUPDATE  \n",
       "0  2018-01-08 17:21:10  \n",
       "1  2018-01-08 17:21:10  \n",
       "2  2018-01-08 17:21:10  \n",
       "3  2018-01-08 17:21:10  \n",
       "4  2018-01-08 17:21:10  "
      ]
     },
     "execution_count": 6,
     "metadata": {},
     "output_type": "execute_result"
    }
   ],
   "source": [
    "df_leavetimes.head(5)"
   ]
  },
  {
   "cell_type": "code",
   "execution_count": 7,
   "id": "a4d0045b",
   "metadata": {},
   "outputs": [
    {
     "data": {
      "text/html": [
       "<div>\n",
       "<style scoped>\n",
       "    .dataframe tbody tr th:only-of-type {\n",
       "        vertical-align: middle;\n",
       "    }\n",
       "\n",
       "    .dataframe tbody tr th {\n",
       "        vertical-align: top;\n",
       "    }\n",
       "\n",
       "    .dataframe thead th {\n",
       "        text-align: right;\n",
       "    }\n",
       "</style>\n",
       "<table border=\"1\" class=\"dataframe\">\n",
       "  <thead>\n",
       "    <tr style=\"text-align: right;\">\n",
       "      <th></th>\n",
       "      <th>DAYOFSERVICE</th>\n",
       "      <th>TRIPID</th>\n",
       "      <th>PROGRNUMBER</th>\n",
       "      <th>STOPPOINTID</th>\n",
       "      <th>PLANNEDTIME_ARR</th>\n",
       "      <th>PLANNEDTIME_DEP</th>\n",
       "      <th>ACTUALTIME_ARR</th>\n",
       "      <th>ACTUALTIME_DEP</th>\n",
       "      <th>VEHICLEID</th>\n",
       "      <th>LASTUPDATE</th>\n",
       "    </tr>\n",
       "  </thead>\n",
       "  <tbody>\n",
       "    <tr>\n",
       "      <th>0</th>\n",
       "      <td>2018-01-01</td>\n",
       "      <td>5972116</td>\n",
       "      <td>12</td>\n",
       "      <td>119</td>\n",
       "      <td>48030</td>\n",
       "      <td>48030</td>\n",
       "      <td>48012</td>\n",
       "      <td>48012</td>\n",
       "      <td>2693211</td>\n",
       "      <td>2018-01-08 17:21:10</td>\n",
       "    </tr>\n",
       "    <tr>\n",
       "      <th>1</th>\n",
       "      <td>2018-01-01</td>\n",
       "      <td>5966674</td>\n",
       "      <td>12</td>\n",
       "      <td>119</td>\n",
       "      <td>54001</td>\n",
       "      <td>54001</td>\n",
       "      <td>54023</td>\n",
       "      <td>54023</td>\n",
       "      <td>2693267</td>\n",
       "      <td>2018-01-08 17:21:10</td>\n",
       "    </tr>\n",
       "    <tr>\n",
       "      <th>2</th>\n",
       "      <td>2018-01-01</td>\n",
       "      <td>5959105</td>\n",
       "      <td>12</td>\n",
       "      <td>119</td>\n",
       "      <td>60001</td>\n",
       "      <td>60001</td>\n",
       "      <td>59955</td>\n",
       "      <td>59955</td>\n",
       "      <td>2693263</td>\n",
       "      <td>2018-01-08 17:21:10</td>\n",
       "    </tr>\n",
       "    <tr>\n",
       "      <th>3</th>\n",
       "      <td>2018-01-01</td>\n",
       "      <td>5966888</td>\n",
       "      <td>12</td>\n",
       "      <td>119</td>\n",
       "      <td>58801</td>\n",
       "      <td>58801</td>\n",
       "      <td>58771</td>\n",
       "      <td>58771</td>\n",
       "      <td>2693284</td>\n",
       "      <td>2018-01-08 17:21:10</td>\n",
       "    </tr>\n",
       "    <tr>\n",
       "      <th>4</th>\n",
       "      <td>2018-01-01</td>\n",
       "      <td>5965960</td>\n",
       "      <td>12</td>\n",
       "      <td>119</td>\n",
       "      <td>56401</td>\n",
       "      <td>56401</td>\n",
       "      <td>56309</td>\n",
       "      <td>56323</td>\n",
       "      <td>2693209</td>\n",
       "      <td>2018-01-08 17:21:10</td>\n",
       "    </tr>\n",
       "  </tbody>\n",
       "</table>\n",
       "</div>"
      ],
      "text/plain": [
       "  DAYOFSERVICE   TRIPID PROGRNUMBER STOPPOINTID PLANNEDTIME_ARR  \\\n",
       "0   2018-01-01  5972116          12         119           48030   \n",
       "1   2018-01-01  5966674          12         119           54001   \n",
       "2   2018-01-01  5959105          12         119           60001   \n",
       "3   2018-01-01  5966888          12         119           58801   \n",
       "4   2018-01-01  5965960          12         119           56401   \n",
       "\n",
       "  PLANNEDTIME_DEP ACTUALTIME_ARR ACTUALTIME_DEP VEHICLEID          LASTUPDATE  \n",
       "0           48030          48012          48012   2693211 2018-01-08 17:21:10  \n",
       "1           54001          54023          54023   2693267 2018-01-08 17:21:10  \n",
       "2           60001          59955          59955   2693263 2018-01-08 17:21:10  \n",
       "3           58801          58771          58771   2693284 2018-01-08 17:21:10  \n",
       "4           56401          56309          56323   2693209 2018-01-08 17:21:10  "
      ]
     },
     "execution_count": 7,
     "metadata": {},
     "output_type": "execute_result"
    }
   ],
   "source": [
    "# Pass the leavetimes df through the cleaning function\n",
    "df_leavetimes = clean_leavetimes(df_leavetimes)\n",
    "df_leavetimes.head(5)"
   ]
  },
  {
   "cell_type": "code",
   "execution_count": 8,
   "id": "53883750",
   "metadata": {},
   "outputs": [
    {
     "data": {
      "text/plain": [
       "DAYOFSERVICE       datetime64[ns]\n",
       "TRIPID                   category\n",
       "PROGRNUMBER              category\n",
       "STOPPOINTID              category\n",
       "PLANNEDTIME_ARR          category\n",
       "PLANNEDTIME_DEP          category\n",
       "ACTUALTIME_ARR           category\n",
       "ACTUALTIME_DEP           category\n",
       "VEHICLEID                category\n",
       "LASTUPDATE         datetime64[ns]\n",
       "dtype: object"
      ]
     },
     "execution_count": 8,
     "metadata": {},
     "output_type": "execute_result"
    }
   ],
   "source": [
    "df_leavetimes.dtypes"
   ]
  },
  {
   "cell_type": "markdown",
   "id": "8f192a12",
   "metadata": {},
   "source": [
    "### 3.0 Read in weather CSV"
   ]
  },
  {
   "cell_type": "code",
   "execution_count": 9,
   "id": "8eaebe2b",
   "metadata": {},
   "outputs": [],
   "source": [
    "#read in cleaned weather csc\n",
    "df_weather = pd.read_csv(r'C:\\Users\\jason\\OneDrive - University College Dublin\\Documents\\MSc Computer Science\\Summer Semester\\Data\\Notebooks\\CleanedCSVs\\weather2018_cleaned.csv', index_col=[0])"
   ]
  },
  {
   "cell_type": "code",
   "execution_count": 10,
   "id": "3b0b3bdb",
   "metadata": {},
   "outputs": [
    {
     "data": {
      "text/html": [
       "<div>\n",
       "<style scoped>\n",
       "    .dataframe tbody tr th:only-of-type {\n",
       "        vertical-align: middle;\n",
       "    }\n",
       "\n",
       "    .dataframe tbody tr th {\n",
       "        vertical-align: top;\n",
       "    }\n",
       "\n",
       "    .dataframe thead th {\n",
       "        text-align: right;\n",
       "    }\n",
       "</style>\n",
       "<table border=\"1\" class=\"dataframe\">\n",
       "  <thead>\n",
       "    <tr style=\"text-align: right;\">\n",
       "      <th></th>\n",
       "      <th>date</th>\n",
       "      <th>rain</th>\n",
       "      <th>temp</th>\n",
       "      <th>msl</th>\n",
       "    </tr>\n",
       "  </thead>\n",
       "  <tbody>\n",
       "    <tr>\n",
       "      <th>0</th>\n",
       "      <td>2018-01-01 00:00:00</td>\n",
       "      <td>0.0</td>\n",
       "      <td>4.6</td>\n",
       "      <td>991.0</td>\n",
       "    </tr>\n",
       "    <tr>\n",
       "      <th>1</th>\n",
       "      <td>2018-01-01 01:00:00</td>\n",
       "      <td>0.1</td>\n",
       "      <td>4.7</td>\n",
       "      <td>991.1</td>\n",
       "    </tr>\n",
       "    <tr>\n",
       "      <th>2</th>\n",
       "      <td>2018-01-01 02:00:00</td>\n",
       "      <td>0.0</td>\n",
       "      <td>4.8</td>\n",
       "      <td>991.1</td>\n",
       "    </tr>\n",
       "    <tr>\n",
       "      <th>3</th>\n",
       "      <td>2018-01-01 03:00:00</td>\n",
       "      <td>0.0</td>\n",
       "      <td>4.9</td>\n",
       "      <td>990.7</td>\n",
       "    </tr>\n",
       "    <tr>\n",
       "      <th>4</th>\n",
       "      <td>2018-01-01 04:00:00</td>\n",
       "      <td>0.0</td>\n",
       "      <td>5.3</td>\n",
       "      <td>990.3</td>\n",
       "    </tr>\n",
       "  </tbody>\n",
       "</table>\n",
       "</div>"
      ],
      "text/plain": [
       "                  date rain  temp    msl\n",
       "0  2018-01-01 00:00:00  0.0   4.6  991.0\n",
       "1  2018-01-01 01:00:00  0.1   4.7  991.1\n",
       "2  2018-01-01 02:00:00  0.0   4.8  991.1\n",
       "3  2018-01-01 03:00:00  0.0   4.9  990.7\n",
       "4  2018-01-01 04:00:00  0.0   5.3  990.3"
      ]
     },
     "execution_count": 10,
     "metadata": {},
     "output_type": "execute_result"
    }
   ],
   "source": [
    "df_weather.head(5)"
   ]
  },
  {
   "cell_type": "code",
   "execution_count": 11,
   "id": "e63084c5",
   "metadata": {},
   "outputs": [
    {
     "data": {
      "text/plain": [
       "date     object\n",
       "rain     object\n",
       "temp    float64\n",
       "msl     float64\n",
       "dtype: object"
      ]
     },
     "execution_count": 11,
     "metadata": {},
     "output_type": "execute_result"
    }
   ],
   "source": [
    "df_weather.dtypes"
   ]
  },
  {
   "cell_type": "code",
   "execution_count": 12,
   "id": "01fca858",
   "metadata": {},
   "outputs": [
    {
     "data": {
      "text/html": [
       "<div>\n",
       "<style scoped>\n",
       "    .dataframe tbody tr th:only-of-type {\n",
       "        vertical-align: middle;\n",
       "    }\n",
       "\n",
       "    .dataframe tbody tr th {\n",
       "        vertical-align: top;\n",
       "    }\n",
       "\n",
       "    .dataframe thead th {\n",
       "        text-align: right;\n",
       "    }\n",
       "</style>\n",
       "<table border=\"1\" class=\"dataframe\">\n",
       "  <thead>\n",
       "    <tr style=\"text-align: right;\">\n",
       "      <th></th>\n",
       "      <th>date</th>\n",
       "      <th>rain</th>\n",
       "      <th>temp</th>\n",
       "      <th>msl</th>\n",
       "    </tr>\n",
       "  </thead>\n",
       "  <tbody>\n",
       "    <tr>\n",
       "      <th>0</th>\n",
       "      <td>2018-01-01 00:00:00</td>\n",
       "      <td>0.0</td>\n",
       "      <td>4.6</td>\n",
       "      <td>991.0</td>\n",
       "    </tr>\n",
       "    <tr>\n",
       "      <th>1</th>\n",
       "      <td>2018-01-01 01:00:00</td>\n",
       "      <td>0.1</td>\n",
       "      <td>4.7</td>\n",
       "      <td>991.1</td>\n",
       "    </tr>\n",
       "    <tr>\n",
       "      <th>2</th>\n",
       "      <td>2018-01-01 02:00:00</td>\n",
       "      <td>0.0</td>\n",
       "      <td>4.8</td>\n",
       "      <td>991.1</td>\n",
       "    </tr>\n",
       "    <tr>\n",
       "      <th>3</th>\n",
       "      <td>2018-01-01 03:00:00</td>\n",
       "      <td>0.0</td>\n",
       "      <td>4.9</td>\n",
       "      <td>990.7</td>\n",
       "    </tr>\n",
       "    <tr>\n",
       "      <th>4</th>\n",
       "      <td>2018-01-01 04:00:00</td>\n",
       "      <td>0.0</td>\n",
       "      <td>5.3</td>\n",
       "      <td>990.3</td>\n",
       "    </tr>\n",
       "  </tbody>\n",
       "</table>\n",
       "</div>"
      ],
      "text/plain": [
       "                 date rain  temp    msl\n",
       "0 2018-01-01 00:00:00  0.0   4.6  991.0\n",
       "1 2018-01-01 01:00:00  0.1   4.7  991.1\n",
       "2 2018-01-01 02:00:00  0.0   4.8  991.1\n",
       "3 2018-01-01 03:00:00  0.0   4.9  990.7\n",
       "4 2018-01-01 04:00:00  0.0   5.3  990.3"
      ]
     },
     "execution_count": 12,
     "metadata": {},
     "output_type": "execute_result"
    }
   ],
   "source": [
    "# Sending the weather df to the cleaning function\n",
    "df_weather = clean_weather(df_weather)\n",
    "df_weather.head(5)"
   ]
  },
  {
   "cell_type": "code",
   "execution_count": 13,
   "id": "bacterial-establishment",
   "metadata": {},
   "outputs": [
    {
     "data": {
      "text/plain": [
       "date    datetime64[ns]\n",
       "rain            object\n",
       "temp           float64\n",
       "msl            float64\n",
       "dtype: object"
      ]
     },
     "execution_count": 13,
     "metadata": {},
     "output_type": "execute_result"
    }
   ],
   "source": [
    "df_weather.dtypes"
   ]
  },
  {
   "cell_type": "markdown",
   "id": "bb92da0e",
   "metadata": {},
   "source": [
    "### Merge Weather and LeaveTimes Dataset"
   ]
  },
  {
   "cell_type": "code",
   "execution_count": 14,
   "id": "ruled-program",
   "metadata": {},
   "outputs": [],
   "source": [
    "# Sorting in order to merge\n",
    "df_leavetimes.sort_values('LASTUPDATE', inplace=True)\n",
    "df_weather.sort_values('date', inplace=True)"
   ]
  },
  {
   "cell_type": "code",
   "execution_count": 15,
   "id": "a17ad6a7",
   "metadata": {},
   "outputs": [],
   "source": [
    "# Merging \n",
    "merged_data = pd.merge_asof(df_leavetimes, df_weather, left_on=\"LASTUPDATE\", right_on=\"date\")"
   ]
  },
  {
   "cell_type": "code",
   "execution_count": 16,
   "id": "707b9c1f",
   "metadata": {},
   "outputs": [
    {
     "data": {
      "text/html": [
       "<div>\n",
       "<style scoped>\n",
       "    .dataframe tbody tr th:only-of-type {\n",
       "        vertical-align: middle;\n",
       "    }\n",
       "\n",
       "    .dataframe tbody tr th {\n",
       "        vertical-align: top;\n",
       "    }\n",
       "\n",
       "    .dataframe thead th {\n",
       "        text-align: right;\n",
       "    }\n",
       "</style>\n",
       "<table border=\"1\" class=\"dataframe\">\n",
       "  <thead>\n",
       "    <tr style=\"text-align: right;\">\n",
       "      <th></th>\n",
       "      <th>DAYOFSERVICE</th>\n",
       "      <th>TRIPID</th>\n",
       "      <th>PROGRNUMBER</th>\n",
       "      <th>STOPPOINTID</th>\n",
       "      <th>PLANNEDTIME_ARR</th>\n",
       "      <th>PLANNEDTIME_DEP</th>\n",
       "      <th>ACTUALTIME_ARR</th>\n",
       "      <th>ACTUALTIME_DEP</th>\n",
       "      <th>VEHICLEID</th>\n",
       "      <th>LASTUPDATE</th>\n",
       "      <th>date</th>\n",
       "      <th>rain</th>\n",
       "      <th>temp</th>\n",
       "      <th>msl</th>\n",
       "    </tr>\n",
       "  </thead>\n",
       "  <tbody>\n",
       "    <tr>\n",
       "      <th>0</th>\n",
       "      <td>2018-01-01</td>\n",
       "      <td>5972116</td>\n",
       "      <td>12</td>\n",
       "      <td>119</td>\n",
       "      <td>48030</td>\n",
       "      <td>48030</td>\n",
       "      <td>48012</td>\n",
       "      <td>48012</td>\n",
       "      <td>2693211</td>\n",
       "      <td>2018-01-08 17:21:10</td>\n",
       "      <td>2018-01-08 17:00:00</td>\n",
       "      <td>0.0</td>\n",
       "      <td>3.7</td>\n",
       "      <td>1017.1</td>\n",
       "    </tr>\n",
       "    <tr>\n",
       "      <th>1</th>\n",
       "      <td>2018-01-01</td>\n",
       "      <td>5970997</td>\n",
       "      <td>7</td>\n",
       "      <td>4095</td>\n",
       "      <td>40517</td>\n",
       "      <td>40517</td>\n",
       "      <td>40414</td>\n",
       "      <td>40435</td>\n",
       "      <td>2693273</td>\n",
       "      <td>2018-01-08 17:21:10</td>\n",
       "      <td>2018-01-08 17:00:00</td>\n",
       "      <td>0.0</td>\n",
       "      <td>3.7</td>\n",
       "      <td>1017.1</td>\n",
       "    </tr>\n",
       "    <tr>\n",
       "      <th>2</th>\n",
       "      <td>2018-01-01</td>\n",
       "      <td>5971005</td>\n",
       "      <td>7</td>\n",
       "      <td>4095</td>\n",
       "      <td>59688</td>\n",
       "      <td>59688</td>\n",
       "      <td>59621</td>\n",
       "      <td>59636</td>\n",
       "      <td>2693273</td>\n",
       "      <td>2018-01-08 17:21:10</td>\n",
       "      <td>2018-01-08 17:00:00</td>\n",
       "      <td>0.0</td>\n",
       "      <td>3.7</td>\n",
       "      <td>1017.1</td>\n",
       "    </tr>\n",
       "    <tr>\n",
       "      <th>3</th>\n",
       "      <td>2018-01-01</td>\n",
       "      <td>5971001</td>\n",
       "      <td>8</td>\n",
       "      <td>4192</td>\n",
       "      <td>50137</td>\n",
       "      <td>50137</td>\n",
       "      <td>50117</td>\n",
       "      <td>50117</td>\n",
       "      <td>2693273</td>\n",
       "      <td>2018-01-08 17:21:10</td>\n",
       "      <td>2018-01-08 17:00:00</td>\n",
       "      <td>0.0</td>\n",
       "      <td>3.7</td>\n",
       "      <td>1017.1</td>\n",
       "    </tr>\n",
       "    <tr>\n",
       "      <th>4</th>\n",
       "      <td>2018-01-01</td>\n",
       "      <td>5970999</td>\n",
       "      <td>8</td>\n",
       "      <td>4192</td>\n",
       "      <td>45337</td>\n",
       "      <td>45337</td>\n",
       "      <td>45376</td>\n",
       "      <td>45376</td>\n",
       "      <td>2693273</td>\n",
       "      <td>2018-01-08 17:21:10</td>\n",
       "      <td>2018-01-08 17:00:00</td>\n",
       "      <td>0.0</td>\n",
       "      <td>3.7</td>\n",
       "      <td>1017.1</td>\n",
       "    </tr>\n",
       "  </tbody>\n",
       "</table>\n",
       "</div>"
      ],
      "text/plain": [
       "  DAYOFSERVICE   TRIPID PROGRNUMBER STOPPOINTID PLANNEDTIME_ARR  \\\n",
       "0   2018-01-01  5972116          12         119           48030   \n",
       "1   2018-01-01  5970997           7        4095           40517   \n",
       "2   2018-01-01  5971005           7        4095           59688   \n",
       "3   2018-01-01  5971001           8        4192           50137   \n",
       "4   2018-01-01  5970999           8        4192           45337   \n",
       "\n",
       "  PLANNEDTIME_DEP ACTUALTIME_ARR ACTUALTIME_DEP VEHICLEID          LASTUPDATE  \\\n",
       "0           48030          48012          48012   2693211 2018-01-08 17:21:10   \n",
       "1           40517          40414          40435   2693273 2018-01-08 17:21:10   \n",
       "2           59688          59621          59636   2693273 2018-01-08 17:21:10   \n",
       "3           50137          50117          50117   2693273 2018-01-08 17:21:10   \n",
       "4           45337          45376          45376   2693273 2018-01-08 17:21:10   \n",
       "\n",
       "                 date rain  temp     msl  \n",
       "0 2018-01-08 17:00:00  0.0   3.7  1017.1  \n",
       "1 2018-01-08 17:00:00  0.0   3.7  1017.1  \n",
       "2 2018-01-08 17:00:00  0.0   3.7  1017.1  \n",
       "3 2018-01-08 17:00:00  0.0   3.7  1017.1  \n",
       "4 2018-01-08 17:00:00  0.0   3.7  1017.1  "
      ]
     },
     "execution_count": 16,
     "metadata": {},
     "output_type": "execute_result"
    }
   ],
   "source": [
    "merged_data.head(5)"
   ]
  },
  {
   "cell_type": "markdown",
   "id": "58817810",
   "metadata": {},
   "source": [
    "### 4.0 Read In Trips Data for merging"
   ]
  },
  {
   "cell_type": "code",
   "execution_count": 17,
   "id": "5f40f166",
   "metadata": {},
   "outputs": [],
   "source": [
    "#read in cleaned trips data\n",
    "df_trips = pd.read_csv(r'C:\\Users\\jason\\OneDrive - University College Dublin\\Documents\\MSc Computer Science\\Summer Semester\\Data\\Notebooks\\CleanedCSVs\\rt_trips_DB_2018_cleaned.csv', index_col=[0])"
   ]
  },
  {
   "cell_type": "code",
   "execution_count": 18,
   "id": "cellular-madonna",
   "metadata": {},
   "outputs": [
    {
     "data": {
      "text/plain": [
       "(1893367, 11)"
      ]
     },
     "execution_count": 18,
     "metadata": {},
     "output_type": "execute_result"
    }
   ],
   "source": [
    "df_trips.shape"
   ]
  },
  {
   "cell_type": "code",
   "execution_count": 19,
   "id": "d7bd662f",
   "metadata": {},
   "outputs": [
    {
     "data": {
      "text/html": [
       "<div>\n",
       "<style scoped>\n",
       "    .dataframe tbody tr th:only-of-type {\n",
       "        vertical-align: middle;\n",
       "    }\n",
       "\n",
       "    .dataframe tbody tr th {\n",
       "        vertical-align: top;\n",
       "    }\n",
       "\n",
       "    .dataframe thead th {\n",
       "        text-align: right;\n",
       "    }\n",
       "</style>\n",
       "<table border=\"1\" class=\"dataframe\">\n",
       "  <thead>\n",
       "    <tr style=\"text-align: right;\">\n",
       "      <th></th>\n",
       "      <th>DAYOFSERVICE</th>\n",
       "      <th>TRIPID</th>\n",
       "      <th>LINEID</th>\n",
       "      <th>ROUTEID</th>\n",
       "      <th>DIRECTION</th>\n",
       "      <th>PLANNEDTIME_ARR</th>\n",
       "      <th>PLANNEDTIME_DEP</th>\n",
       "      <th>ACTUALTIME_ARR</th>\n",
       "      <th>ACTUALTIME_DEP</th>\n",
       "      <th>LASTUPDATE</th>\n",
       "      <th>NOTE</th>\n",
       "    </tr>\n",
       "  </thead>\n",
       "  <tbody>\n",
       "    <tr>\n",
       "      <th>0</th>\n",
       "      <td>1517961600000000000</td>\n",
       "      <td>6253783</td>\n",
       "      <td>68</td>\n",
       "      <td>68_80</td>\n",
       "      <td>1</td>\n",
       "      <td>87245</td>\n",
       "      <td>84600</td>\n",
       "      <td>87524.0</td>\n",
       "      <td>84600.0</td>\n",
       "      <td>1519819511000000000</td>\n",
       "      <td>,2967409,</td>\n",
       "    </tr>\n",
       "    <tr>\n",
       "      <th>2</th>\n",
       "      <td>1517961600000000000</td>\n",
       "      <td>6254942</td>\n",
       "      <td>45A</td>\n",
       "      <td>45A_70</td>\n",
       "      <td>2</td>\n",
       "      <td>35512</td>\n",
       "      <td>32100</td>\n",
       "      <td>36329.0</td>\n",
       "      <td>32082.0</td>\n",
       "      <td>1519819511000000000</td>\n",
       "      <td>,2448968,</td>\n",
       "    </tr>\n",
       "    <tr>\n",
       "      <th>3</th>\n",
       "      <td>1517961600000000000</td>\n",
       "      <td>6259460</td>\n",
       "      <td>25A</td>\n",
       "      <td>25A_273</td>\n",
       "      <td>1</td>\n",
       "      <td>57261</td>\n",
       "      <td>54420</td>\n",
       "      <td>58463.0</td>\n",
       "      <td>54443.0</td>\n",
       "      <td>1519819511000000000</td>\n",
       "      <td>,3094242,</td>\n",
       "    </tr>\n",
       "    <tr>\n",
       "      <th>4</th>\n",
       "      <td>1517961600000000000</td>\n",
       "      <td>6253175</td>\n",
       "      <td>14</td>\n",
       "      <td>14_15</td>\n",
       "      <td>1</td>\n",
       "      <td>85383</td>\n",
       "      <td>81600</td>\n",
       "      <td>84682.0</td>\n",
       "      <td>81608.0</td>\n",
       "      <td>1519819511000000000</td>\n",
       "      <td>,2526331,</td>\n",
       "    </tr>\n",
       "    <tr>\n",
       "      <th>5</th>\n",
       "      <td>1517961600000000000</td>\n",
       "      <td>6248240</td>\n",
       "      <td>77A</td>\n",
       "      <td>77A_28</td>\n",
       "      <td>2</td>\n",
       "      <td>41648</td>\n",
       "      <td>37200</td>\n",
       "      <td>42019.0</td>\n",
       "      <td>37538.0</td>\n",
       "      <td>1519819511000000000</td>\n",
       "      <td>,2966500,</td>\n",
       "    </tr>\n",
       "  </tbody>\n",
       "</table>\n",
       "</div>"
      ],
      "text/plain": [
       "          DAYOFSERVICE   TRIPID LINEID  ROUTEID  DIRECTION  PLANNEDTIME_ARR  \\\n",
       "0  1517961600000000000  6253783     68    68_80          1            87245   \n",
       "2  1517961600000000000  6254942    45A   45A_70          2            35512   \n",
       "3  1517961600000000000  6259460    25A  25A_273          1            57261   \n",
       "4  1517961600000000000  6253175     14    14_15          1            85383   \n",
       "5  1517961600000000000  6248240    77A   77A_28          2            41648   \n",
       "\n",
       "   PLANNEDTIME_DEP  ACTUALTIME_ARR  ACTUALTIME_DEP           LASTUPDATE  \\\n",
       "0            84600         87524.0         84600.0  1519819511000000000   \n",
       "2            32100         36329.0         32082.0  1519819511000000000   \n",
       "3            54420         58463.0         54443.0  1519819511000000000   \n",
       "4            81600         84682.0         81608.0  1519819511000000000   \n",
       "5            37200         42019.0         37538.0  1519819511000000000   \n",
       "\n",
       "        NOTE  \n",
       "0  ,2967409,  \n",
       "2  ,2448968,  \n",
       "3  ,3094242,  \n",
       "4  ,2526331,  \n",
       "5  ,2966500,  "
      ]
     },
     "execution_count": 19,
     "metadata": {},
     "output_type": "execute_result"
    }
   ],
   "source": [
    "df_trips.head(5)"
   ]
  },
  {
   "cell_type": "code",
   "execution_count": 20,
   "id": "cooked-vertical",
   "metadata": {},
   "outputs": [],
   "source": [
    "# df_trips = df_trips.drop(columns=[\"SUPPRESSED\"])"
   ]
  },
  {
   "cell_type": "code",
   "execution_count": 21,
   "id": "proof-husband",
   "metadata": {},
   "outputs": [],
   "source": [
    "# df_trips = df_trips.dropna()"
   ]
  },
  {
   "cell_type": "code",
   "execution_count": 22,
   "id": "international-federal",
   "metadata": {},
   "outputs": [
    {
     "data": {
      "text/plain": [
       "(1893367, 11)"
      ]
     },
     "execution_count": 22,
     "metadata": {},
     "output_type": "execute_result"
    }
   ],
   "source": [
    "df_trips.shape"
   ]
  },
  {
   "cell_type": "code",
   "execution_count": 23,
   "id": "loaded-chain",
   "metadata": {},
   "outputs": [],
   "source": [
    "# Converting Actual time to int64 to subtract for new feature Journey Time. (Error on model when JOURNEY_TIME was left as a float)\n",
    "\n",
    "df_trips['ACTUALTIME_ARR'] = df_trips['ACTUALTIME_ARR'].astype(\"int64\")\n",
    "df_trips['ACTUALTIME_DEP'] = df_trips['ACTUALTIME_DEP'].astype(\"int64\")"
   ]
  },
  {
   "cell_type": "code",
   "execution_count": 24,
   "id": "imposed-circle",
   "metadata": {},
   "outputs": [],
   "source": [
    "# Creating an additional feature called Journey Time\n",
    "df_trips['JOURNEY_TIME'] = df_trips['ACTUALTIME_ARR'] - df_trips['ACTUALTIME_DEP']"
   ]
  },
  {
   "cell_type": "code",
   "execution_count": 25,
   "id": "color-cargo",
   "metadata": {},
   "outputs": [
    {
     "data": {
      "text/plain": [
       "DAYOFSERVICE        int64\n",
       "TRIPID              int64\n",
       "LINEID             object\n",
       "ROUTEID            object\n",
       "DIRECTION           int64\n",
       "PLANNEDTIME_ARR     int64\n",
       "PLANNEDTIME_DEP     int64\n",
       "ACTUALTIME_ARR      int64\n",
       "ACTUALTIME_DEP      int64\n",
       "LASTUPDATE          int64\n",
       "NOTE               object\n",
       "JOURNEY_TIME        int64\n",
       "dtype: object"
      ]
     },
     "execution_count": 25,
     "metadata": {},
     "output_type": "execute_result"
    }
   ],
   "source": [
    "df_trips.dtypes"
   ]
  },
  {
   "cell_type": "code",
   "execution_count": 26,
   "id": "actual-filing",
   "metadata": {},
   "outputs": [
    {
     "data": {
      "text/html": [
       "<div>\n",
       "<style scoped>\n",
       "    .dataframe tbody tr th:only-of-type {\n",
       "        vertical-align: middle;\n",
       "    }\n",
       "\n",
       "    .dataframe tbody tr th {\n",
       "        vertical-align: top;\n",
       "    }\n",
       "\n",
       "    .dataframe thead th {\n",
       "        text-align: right;\n",
       "    }\n",
       "</style>\n",
       "<table border=\"1\" class=\"dataframe\">\n",
       "  <thead>\n",
       "    <tr style=\"text-align: right;\">\n",
       "      <th></th>\n",
       "      <th>DAYOFSERVICE</th>\n",
       "      <th>TRIPID</th>\n",
       "      <th>LINEID</th>\n",
       "      <th>ROUTEID</th>\n",
       "      <th>DIRECTION</th>\n",
       "      <th>PLANNEDTIME_ARR</th>\n",
       "      <th>PLANNEDTIME_DEP</th>\n",
       "      <th>ACTUALTIME_ARR</th>\n",
       "      <th>ACTUALTIME_DEP</th>\n",
       "      <th>LASTUPDATE</th>\n",
       "      <th>NOTE</th>\n",
       "      <th>JOURNEY_TIME</th>\n",
       "    </tr>\n",
       "  </thead>\n",
       "  <tbody>\n",
       "    <tr>\n",
       "      <th>0</th>\n",
       "      <td>2018-02-07</td>\n",
       "      <td>6253783</td>\n",
       "      <td>68</td>\n",
       "      <td>68_80</td>\n",
       "      <td>1</td>\n",
       "      <td>87245</td>\n",
       "      <td>84600</td>\n",
       "      <td>87524</td>\n",
       "      <td>84600</td>\n",
       "      <td>2018-02-28 12:05:11</td>\n",
       "      <td>,2967409,</td>\n",
       "      <td>2924</td>\n",
       "    </tr>\n",
       "    <tr>\n",
       "      <th>2</th>\n",
       "      <td>2018-02-07</td>\n",
       "      <td>6254942</td>\n",
       "      <td>45A</td>\n",
       "      <td>45A_70</td>\n",
       "      <td>2</td>\n",
       "      <td>35512</td>\n",
       "      <td>32100</td>\n",
       "      <td>36329</td>\n",
       "      <td>32082</td>\n",
       "      <td>2018-02-28 12:05:11</td>\n",
       "      <td>,2448968,</td>\n",
       "      <td>4247</td>\n",
       "    </tr>\n",
       "    <tr>\n",
       "      <th>3</th>\n",
       "      <td>2018-02-07</td>\n",
       "      <td>6259460</td>\n",
       "      <td>25A</td>\n",
       "      <td>25A_273</td>\n",
       "      <td>1</td>\n",
       "      <td>57261</td>\n",
       "      <td>54420</td>\n",
       "      <td>58463</td>\n",
       "      <td>54443</td>\n",
       "      <td>2018-02-28 12:05:11</td>\n",
       "      <td>,3094242,</td>\n",
       "      <td>4020</td>\n",
       "    </tr>\n",
       "    <tr>\n",
       "      <th>4</th>\n",
       "      <td>2018-02-07</td>\n",
       "      <td>6253175</td>\n",
       "      <td>14</td>\n",
       "      <td>14_15</td>\n",
       "      <td>1</td>\n",
       "      <td>85383</td>\n",
       "      <td>81600</td>\n",
       "      <td>84682</td>\n",
       "      <td>81608</td>\n",
       "      <td>2018-02-28 12:05:11</td>\n",
       "      <td>,2526331,</td>\n",
       "      <td>3074</td>\n",
       "    </tr>\n",
       "    <tr>\n",
       "      <th>5</th>\n",
       "      <td>2018-02-07</td>\n",
       "      <td>6248240</td>\n",
       "      <td>77A</td>\n",
       "      <td>77A_28</td>\n",
       "      <td>2</td>\n",
       "      <td>41648</td>\n",
       "      <td>37200</td>\n",
       "      <td>42019</td>\n",
       "      <td>37538</td>\n",
       "      <td>2018-02-28 12:05:11</td>\n",
       "      <td>,2966500,</td>\n",
       "      <td>4481</td>\n",
       "    </tr>\n",
       "  </tbody>\n",
       "</table>\n",
       "</div>"
      ],
      "text/plain": [
       "  DAYOFSERVICE   TRIPID LINEID  ROUTEID DIRECTION PLANNEDTIME_ARR  \\\n",
       "0   2018-02-07  6253783     68    68_80         1           87245   \n",
       "2   2018-02-07  6254942    45A   45A_70         2           35512   \n",
       "3   2018-02-07  6259460    25A  25A_273         1           57261   \n",
       "4   2018-02-07  6253175     14    14_15         1           85383   \n",
       "5   2018-02-07  6248240    77A   77A_28         2           41648   \n",
       "\n",
       "  PLANNEDTIME_DEP ACTUALTIME_ARR ACTUALTIME_DEP          LASTUPDATE  \\\n",
       "0           84600          87524          84600 2018-02-28 12:05:11   \n",
       "2           32100          36329          32082 2018-02-28 12:05:11   \n",
       "3           54420          58463          54443 2018-02-28 12:05:11   \n",
       "4           81600          84682          81608 2018-02-28 12:05:11   \n",
       "5           37200          42019          37538 2018-02-28 12:05:11   \n",
       "\n",
       "        NOTE JOURNEY_TIME  \n",
       "0  ,2967409,         2924  \n",
       "2  ,2448968,         4247  \n",
       "3  ,3094242,         4020  \n",
       "4  ,2526331,         3074  \n",
       "5  ,2966500,         4481  "
      ]
     },
     "execution_count": 26,
     "metadata": {},
     "output_type": "execute_result"
    }
   ],
   "source": [
    "# Pass the leavetimes df through the cleaning function\n",
    "df_trips = clean_trips(df_trips)\n",
    "df_trips.head(5)"
   ]
  },
  {
   "cell_type": "code",
   "execution_count": 27,
   "id": "celtic-trial",
   "metadata": {},
   "outputs": [],
   "source": [
    "# df_trips = df_trips.replace(np.nan, '', regex=True)\n",
    "# df_trips.head(5)"
   ]
  },
  {
   "cell_type": "code",
   "execution_count": 28,
   "id": "strange-techno",
   "metadata": {},
   "outputs": [],
   "source": [
    "df_trips['MONTH'] = df_trips['DAYOFSERVICE'].dt.month\n",
    "df_trips['DAY'] = df_trips['DAYOFSERVICE'].dt.dayofweek"
   ]
  },
  {
   "cell_type": "code",
   "execution_count": 29,
   "id": "33b77754",
   "metadata": {},
   "outputs": [
    {
     "data": {
      "text/plain": [
       "DAYOFSERVICE       datetime64[ns]\n",
       "TRIPID                   category\n",
       "LINEID                   category\n",
       "ROUTEID                  category\n",
       "DIRECTION                category\n",
       "PLANNEDTIME_ARR          category\n",
       "PLANNEDTIME_DEP          category\n",
       "ACTUALTIME_ARR           category\n",
       "ACTUALTIME_DEP           category\n",
       "LASTUPDATE         datetime64[ns]\n",
       "NOTE                     category\n",
       "JOURNEY_TIME             category\n",
       "MONTH                       int64\n",
       "DAY                         int64\n",
       "dtype: object"
      ]
     },
     "execution_count": 29,
     "metadata": {},
     "output_type": "execute_result"
    }
   ],
   "source": [
    "df_trips.dtypes"
   ]
  },
  {
   "cell_type": "code",
   "execution_count": 30,
   "id": "a92610f2",
   "metadata": {},
   "outputs": [
    {
     "data": {
      "text/html": [
       "<div>\n",
       "<style scoped>\n",
       "    .dataframe tbody tr th:only-of-type {\n",
       "        vertical-align: middle;\n",
       "    }\n",
       "\n",
       "    .dataframe tbody tr th {\n",
       "        vertical-align: top;\n",
       "    }\n",
       "\n",
       "    .dataframe thead th {\n",
       "        text-align: right;\n",
       "    }\n",
       "</style>\n",
       "<table border=\"1\" class=\"dataframe\">\n",
       "  <thead>\n",
       "    <tr style=\"text-align: right;\">\n",
       "      <th></th>\n",
       "      <th>DAYOFSERVICE</th>\n",
       "      <th>TRIPID</th>\n",
       "      <th>LINEID</th>\n",
       "      <th>ROUTEID</th>\n",
       "      <th>DIRECTION</th>\n",
       "      <th>PLANNEDTIME_ARR</th>\n",
       "      <th>PLANNEDTIME_DEP</th>\n",
       "      <th>ACTUALTIME_ARR</th>\n",
       "      <th>ACTUALTIME_DEP</th>\n",
       "      <th>LASTUPDATE</th>\n",
       "      <th>NOTE</th>\n",
       "      <th>JOURNEY_TIME</th>\n",
       "      <th>MONTH</th>\n",
       "      <th>DAY</th>\n",
       "    </tr>\n",
       "  </thead>\n",
       "  <tbody>\n",
       "    <tr>\n",
       "      <th>681660</th>\n",
       "      <td>2018-01-06</td>\n",
       "      <td>5955221</td>\n",
       "      <td>14</td>\n",
       "      <td>14_15</td>\n",
       "      <td>1</td>\n",
       "      <td>42553</td>\n",
       "      <td>37800</td>\n",
       "      <td>42078</td>\n",
       "      <td>37836</td>\n",
       "      <td>2018-01-15 08:25:25</td>\n",
       "      <td>,2513511,</td>\n",
       "      <td>4242</td>\n",
       "      <td>1</td>\n",
       "      <td>5</td>\n",
       "    </tr>\n",
       "    <tr>\n",
       "      <th>723197</th>\n",
       "      <td>2018-01-06</td>\n",
       "      <td>5955222</td>\n",
       "      <td>14</td>\n",
       "      <td>14_16</td>\n",
       "      <td>2</td>\n",
       "      <td>47867</td>\n",
       "      <td>43200</td>\n",
       "      <td>47707</td>\n",
       "      <td>43182</td>\n",
       "      <td>2018-01-15 08:25:25</td>\n",
       "      <td>,2513514,</td>\n",
       "      <td>4525</td>\n",
       "      <td>1</td>\n",
       "      <td>5</td>\n",
       "    </tr>\n",
       "    <tr>\n",
       "      <th>684398</th>\n",
       "      <td>2018-01-06</td>\n",
       "      <td>5955223</td>\n",
       "      <td>14</td>\n",
       "      <td>14_15</td>\n",
       "      <td>1</td>\n",
       "      <td>54105</td>\n",
       "      <td>49200</td>\n",
       "      <td>54128</td>\n",
       "      <td>49171</td>\n",
       "      <td>2018-01-15 08:25:25</td>\n",
       "      <td>,2513515,</td>\n",
       "      <td>4957</td>\n",
       "      <td>1</td>\n",
       "      <td>5</td>\n",
       "    </tr>\n",
       "    <tr>\n",
       "      <th>719581</th>\n",
       "      <td>2018-01-06</td>\n",
       "      <td>5955224</td>\n",
       "      <td>14</td>\n",
       "      <td>14_16</td>\n",
       "      <td>2</td>\n",
       "      <td>60094</td>\n",
       "      <td>55200</td>\n",
       "      <td>60025</td>\n",
       "      <td>55203</td>\n",
       "      <td>2018-01-15 08:25:25</td>\n",
       "      <td>,2429419,</td>\n",
       "      <td>4822</td>\n",
       "      <td>1</td>\n",
       "      <td>5</td>\n",
       "    </tr>\n",
       "    <tr>\n",
       "      <th>674864</th>\n",
       "      <td>2018-01-06</td>\n",
       "      <td>5955225</td>\n",
       "      <td>14</td>\n",
       "      <td>14_15</td>\n",
       "      <td>1</td>\n",
       "      <td>65751</td>\n",
       "      <td>61200</td>\n",
       "      <td>65332</td>\n",
       "      <td>61161</td>\n",
       "      <td>2018-01-15 08:25:25</td>\n",
       "      <td>,2513518,</td>\n",
       "      <td>4171</td>\n",
       "      <td>1</td>\n",
       "      <td>5</td>\n",
       "    </tr>\n",
       "    <tr>\n",
       "      <th>...</th>\n",
       "      <td>...</td>\n",
       "      <td>...</td>\n",
       "      <td>...</td>\n",
       "      <td>...</td>\n",
       "      <td>...</td>\n",
       "      <td>...</td>\n",
       "      <td>...</td>\n",
       "      <td>...</td>\n",
       "      <td>...</td>\n",
       "      <td>...</td>\n",
       "      <td>...</td>\n",
       "      <td>...</td>\n",
       "      <td>...</td>\n",
       "      <td>...</td>\n",
       "    </tr>\n",
       "    <tr>\n",
       "      <th>28895</th>\n",
       "      <td>2018-12-30</td>\n",
       "      <td>8592206</td>\n",
       "      <td>67</td>\n",
       "      <td>67_6</td>\n",
       "      <td>2</td>\n",
       "      <td>61896</td>\n",
       "      <td>58500</td>\n",
       "      <td>63920</td>\n",
       "      <td>58522</td>\n",
       "      <td>2019-01-16 18:16:31</td>\n",
       "      <td>,2805863,</td>\n",
       "      <td>5398</td>\n",
       "      <td>12</td>\n",
       "      <td>6</td>\n",
       "    </tr>\n",
       "    <tr>\n",
       "      <th>458924</th>\n",
       "      <td>2018-12-23</td>\n",
       "      <td>8592206</td>\n",
       "      <td>67</td>\n",
       "      <td>67_6</td>\n",
       "      <td>2</td>\n",
       "      <td>61896</td>\n",
       "      <td>58500</td>\n",
       "      <td>62418</td>\n",
       "      <td>58521</td>\n",
       "      <td>2019-01-08 17:30:40</td>\n",
       "      <td>,2805863,</td>\n",
       "      <td>3897</td>\n",
       "      <td>12</td>\n",
       "      <td>6</td>\n",
       "    </tr>\n",
       "    <tr>\n",
       "      <th>438572</th>\n",
       "      <td>2018-12-26</td>\n",
       "      <td>8592207</td>\n",
       "      <td>67</td>\n",
       "      <td>67_4</td>\n",
       "      <td>1</td>\n",
       "      <td>67655</td>\n",
       "      <td>63900</td>\n",
       "      <td>68012</td>\n",
       "      <td>63877</td>\n",
       "      <td>2019-01-09 17:30:44</td>\n",
       "      <td>,2805865,</td>\n",
       "      <td>4135</td>\n",
       "      <td>12</td>\n",
       "      <td>2</td>\n",
       "    </tr>\n",
       "    <tr>\n",
       "      <th>442075</th>\n",
       "      <td>2018-12-23</td>\n",
       "      <td>8592207</td>\n",
       "      <td>67</td>\n",
       "      <td>67_4</td>\n",
       "      <td>1</td>\n",
       "      <td>67655</td>\n",
       "      <td>63900</td>\n",
       "      <td>68707</td>\n",
       "      <td>63915</td>\n",
       "      <td>2019-01-08 17:30:40</td>\n",
       "      <td>,2805865,</td>\n",
       "      <td>4792</td>\n",
       "      <td>12</td>\n",
       "      <td>6</td>\n",
       "    </tr>\n",
       "    <tr>\n",
       "      <th>57439</th>\n",
       "      <td>2018-12-30</td>\n",
       "      <td>8592207</td>\n",
       "      <td>67</td>\n",
       "      <td>67_4</td>\n",
       "      <td>1</td>\n",
       "      <td>67655</td>\n",
       "      <td>63900</td>\n",
       "      <td>67575</td>\n",
       "      <td>63955</td>\n",
       "      <td>2019-01-16 18:16:31</td>\n",
       "      <td>,2805865,</td>\n",
       "      <td>3620</td>\n",
       "      <td>12</td>\n",
       "      <td>6</td>\n",
       "    </tr>\n",
       "  </tbody>\n",
       "</table>\n",
       "<p>1893367 rows × 14 columns</p>\n",
       "</div>"
      ],
      "text/plain": [
       "       DAYOFSERVICE   TRIPID LINEID ROUTEID DIRECTION PLANNEDTIME_ARR  \\\n",
       "681660   2018-01-06  5955221     14   14_15         1           42553   \n",
       "723197   2018-01-06  5955222     14   14_16         2           47867   \n",
       "684398   2018-01-06  5955223     14   14_15         1           54105   \n",
       "719581   2018-01-06  5955224     14   14_16         2           60094   \n",
       "674864   2018-01-06  5955225     14   14_15         1           65751   \n",
       "...             ...      ...    ...     ...       ...             ...   \n",
       "28895    2018-12-30  8592206     67    67_6         2           61896   \n",
       "458924   2018-12-23  8592206     67    67_6         2           61896   \n",
       "438572   2018-12-26  8592207     67    67_4         1           67655   \n",
       "442075   2018-12-23  8592207     67    67_4         1           67655   \n",
       "57439    2018-12-30  8592207     67    67_4         1           67655   \n",
       "\n",
       "       PLANNEDTIME_DEP ACTUALTIME_ARR ACTUALTIME_DEP          LASTUPDATE  \\\n",
       "681660           37800          42078          37836 2018-01-15 08:25:25   \n",
       "723197           43200          47707          43182 2018-01-15 08:25:25   \n",
       "684398           49200          54128          49171 2018-01-15 08:25:25   \n",
       "719581           55200          60025          55203 2018-01-15 08:25:25   \n",
       "674864           61200          65332          61161 2018-01-15 08:25:25   \n",
       "...                ...            ...            ...                 ...   \n",
       "28895            58500          63920          58522 2019-01-16 18:16:31   \n",
       "458924           58500          62418          58521 2019-01-08 17:30:40   \n",
       "438572           63900          68012          63877 2019-01-09 17:30:44   \n",
       "442075           63900          68707          63915 2019-01-08 17:30:40   \n",
       "57439            63900          67575          63955 2019-01-16 18:16:31   \n",
       "\n",
       "             NOTE JOURNEY_TIME  MONTH  DAY  \n",
       "681660  ,2513511,         4242      1    5  \n",
       "723197  ,2513514,         4525      1    5  \n",
       "684398  ,2513515,         4957      1    5  \n",
       "719581  ,2429419,         4822      1    5  \n",
       "674864  ,2513518,         4171      1    5  \n",
       "...           ...          ...    ...  ...  \n",
       "28895   ,2805863,         5398     12    6  \n",
       "458924  ,2805863,         3897     12    6  \n",
       "438572  ,2805865,         4135     12    2  \n",
       "442075  ,2805865,         4792     12    6  \n",
       "57439   ,2805865,         3620     12    6  \n",
       "\n",
       "[1893367 rows x 14 columns]"
      ]
     },
     "execution_count": 30,
     "metadata": {},
     "output_type": "execute_result"
    }
   ],
   "source": [
    "df_trips.sort_values(by=['TRIPID'])"
   ]
  },
  {
   "cell_type": "markdown",
   "id": "2fbd0b74",
   "metadata": {},
   "source": [
    "### Practicing Modelling on route 68 direction 1"
   ]
  },
  {
   "cell_type": "code",
   "execution_count": 31,
   "id": "handed-butter",
   "metadata": {},
   "outputs": [
    {
     "data": {
      "text/html": [
       "<div>\n",
       "<style scoped>\n",
       "    .dataframe tbody tr th:only-of-type {\n",
       "        vertical-align: middle;\n",
       "    }\n",
       "\n",
       "    .dataframe tbody tr th {\n",
       "        vertical-align: top;\n",
       "    }\n",
       "\n",
       "    .dataframe thead th {\n",
       "        text-align: right;\n",
       "    }\n",
       "</style>\n",
       "<table border=\"1\" class=\"dataframe\">\n",
       "  <thead>\n",
       "    <tr style=\"text-align: right;\">\n",
       "      <th></th>\n",
       "      <th>DAYOFSERVICE</th>\n",
       "      <th>TRIPID</th>\n",
       "      <th>LINEID</th>\n",
       "      <th>ROUTEID</th>\n",
       "      <th>DIRECTION</th>\n",
       "      <th>PLANNEDTIME_ARR</th>\n",
       "      <th>PLANNEDTIME_DEP</th>\n",
       "      <th>ACTUALTIME_ARR</th>\n",
       "      <th>ACTUALTIME_DEP</th>\n",
       "      <th>LASTUPDATE</th>\n",
       "      <th>NOTE</th>\n",
       "      <th>JOURNEY_TIME</th>\n",
       "      <th>MONTH</th>\n",
       "      <th>DAY</th>\n",
       "    </tr>\n",
       "  </thead>\n",
       "  <tbody>\n",
       "    <tr>\n",
       "      <th>0</th>\n",
       "      <td>2018-02-07</td>\n",
       "      <td>6253783</td>\n",
       "      <td>68</td>\n",
       "      <td>68_80</td>\n",
       "      <td>1</td>\n",
       "      <td>87245</td>\n",
       "      <td>84600</td>\n",
       "      <td>87524</td>\n",
       "      <td>84600</td>\n",
       "      <td>2018-02-28 12:05:11</td>\n",
       "      <td>,2967409,</td>\n",
       "      <td>2924</td>\n",
       "      <td>2</td>\n",
       "      <td>2</td>\n",
       "    </tr>\n",
       "    <tr>\n",
       "      <th>78</th>\n",
       "      <td>2018-02-18</td>\n",
       "      <td>6263183</td>\n",
       "      <td>68</td>\n",
       "      <td>68_80</td>\n",
       "      <td>1</td>\n",
       "      <td>43305</td>\n",
       "      <td>40200</td>\n",
       "      <td>43313</td>\n",
       "      <td>40528</td>\n",
       "      <td>2018-02-26 11:09:33</td>\n",
       "      <td>,2967850,</td>\n",
       "      <td>2785</td>\n",
       "      <td>2</td>\n",
       "      <td>6</td>\n",
       "    </tr>\n",
       "    <tr>\n",
       "      <th>570</th>\n",
       "      <td>2018-06-26</td>\n",
       "      <td>7111764</td>\n",
       "      <td>68</td>\n",
       "      <td>68_81</td>\n",
       "      <td>1</td>\n",
       "      <td>60472</td>\n",
       "      <td>55800</td>\n",
       "      <td>59962</td>\n",
       "      <td>55858</td>\n",
       "      <td>2018-07-04 12:21:00</td>\n",
       "      <td>,3221763,</td>\n",
       "      <td>4104</td>\n",
       "      <td>6</td>\n",
       "      <td>1</td>\n",
       "    </tr>\n",
       "    <tr>\n",
       "      <th>593</th>\n",
       "      <td>2018-06-21</td>\n",
       "      <td>7023711</td>\n",
       "      <td>68</td>\n",
       "      <td>68_78</td>\n",
       "      <td>1</td>\n",
       "      <td>57296</td>\n",
       "      <td>52200</td>\n",
       "      <td>56558</td>\n",
       "      <td>52307</td>\n",
       "      <td>2018-06-29 15:43:00</td>\n",
       "      <td>,3225498,</td>\n",
       "      <td>4251</td>\n",
       "      <td>6</td>\n",
       "      <td>3</td>\n",
       "    </tr>\n",
       "    <tr>\n",
       "      <th>638</th>\n",
       "      <td>2018-06-21</td>\n",
       "      <td>7023710</td>\n",
       "      <td>68</td>\n",
       "      <td>68_78</td>\n",
       "      <td>1</td>\n",
       "      <td>27106</td>\n",
       "      <td>23100</td>\n",
       "      <td>27124</td>\n",
       "      <td>23095</td>\n",
       "      <td>2018-06-29 15:43:00</td>\n",
       "      <td>,3223429,</td>\n",
       "      <td>4029</td>\n",
       "      <td>6</td>\n",
       "      <td>3</td>\n",
       "    </tr>\n",
       "  </tbody>\n",
       "</table>\n",
       "</div>"
      ],
      "text/plain": [
       "    DAYOFSERVICE   TRIPID LINEID ROUTEID DIRECTION PLANNEDTIME_ARR  \\\n",
       "0     2018-02-07  6253783     68   68_80         1           87245   \n",
       "78    2018-02-18  6263183     68   68_80         1           43305   \n",
       "570   2018-06-26  7111764     68   68_81         1           60472   \n",
       "593   2018-06-21  7023711     68   68_78         1           57296   \n",
       "638   2018-06-21  7023710     68   68_78         1           27106   \n",
       "\n",
       "    PLANNEDTIME_DEP ACTUALTIME_ARR ACTUALTIME_DEP          LASTUPDATE  \\\n",
       "0             84600          87524          84600 2018-02-28 12:05:11   \n",
       "78            40200          43313          40528 2018-02-26 11:09:33   \n",
       "570           55800          59962          55858 2018-07-04 12:21:00   \n",
       "593           52200          56558          52307 2018-06-29 15:43:00   \n",
       "638           23100          27124          23095 2018-06-29 15:43:00   \n",
       "\n",
       "          NOTE JOURNEY_TIME  MONTH  DAY  \n",
       "0    ,2967409,         2924      2    2  \n",
       "78   ,2967850,         2785      2    6  \n",
       "570  ,3221763,         4104      6    1  \n",
       "593  ,3225498,         4251      6    3  \n",
       "638  ,3223429,         4029      6    3  "
      ]
     },
     "execution_count": 31,
     "metadata": {},
     "output_type": "execute_result"
    }
   ],
   "source": [
    "## Creating a df based off of lineid 68\n",
    "route68 = (df_trips[df_trips['LINEID'] =='68'])\n",
    "route68direction = (route68[route68['DIRECTION'] == 1])\n",
    "route68direction.head(5)"
   ]
  },
  {
   "cell_type": "code",
   "execution_count": 32,
   "id": "fossil-garbage",
   "metadata": {},
   "outputs": [
    {
     "data": {
      "text/plain": [
       "(5270, 14)"
      ]
     },
     "execution_count": 32,
     "metadata": {},
     "output_type": "execute_result"
    }
   ],
   "source": [
    "route68direction.shape"
   ]
  },
  {
   "cell_type": "code",
   "execution_count": 33,
   "id": "sustainable-annual",
   "metadata": {},
   "outputs": [],
   "source": [
    "# Sorting route68 by LASTUPDATE\n",
    "route68direction.sort_values('LASTUPDATE', inplace=True)"
   ]
  },
  {
   "cell_type": "code",
   "execution_count": 34,
   "id": "regulated-fields",
   "metadata": {},
   "outputs": [],
   "source": [
    "# Merging weather and trips\n",
    "merged_data_trips = pd.merge_asof(route68direction, df_weather, left_on=\"LASTUPDATE\", right_on=\"date\")"
   ]
  },
  {
   "cell_type": "code",
   "execution_count": 35,
   "id": "66edde08",
   "metadata": {},
   "outputs": [
    {
     "data": {
      "text/html": [
       "<div>\n",
       "<style scoped>\n",
       "    .dataframe tbody tr th:only-of-type {\n",
       "        vertical-align: middle;\n",
       "    }\n",
       "\n",
       "    .dataframe tbody tr th {\n",
       "        vertical-align: top;\n",
       "    }\n",
       "\n",
       "    .dataframe thead th {\n",
       "        text-align: right;\n",
       "    }\n",
       "</style>\n",
       "<table border=\"1\" class=\"dataframe\">\n",
       "  <thead>\n",
       "    <tr style=\"text-align: right;\">\n",
       "      <th></th>\n",
       "      <th>DAYOFSERVICE</th>\n",
       "      <th>TRIPID</th>\n",
       "      <th>LINEID</th>\n",
       "      <th>ROUTEID</th>\n",
       "      <th>DIRECTION</th>\n",
       "      <th>PLANNEDTIME_ARR</th>\n",
       "      <th>PLANNEDTIME_DEP</th>\n",
       "      <th>ACTUALTIME_ARR</th>\n",
       "      <th>ACTUALTIME_DEP</th>\n",
       "      <th>LASTUPDATE</th>\n",
       "      <th>NOTE</th>\n",
       "      <th>JOURNEY_TIME</th>\n",
       "      <th>MONTH</th>\n",
       "      <th>DAY</th>\n",
       "      <th>date</th>\n",
       "      <th>rain</th>\n",
       "      <th>temp</th>\n",
       "      <th>msl</th>\n",
       "    </tr>\n",
       "  </thead>\n",
       "  <tbody>\n",
       "    <tr>\n",
       "      <th>0</th>\n",
       "      <td>2018-01-01</td>\n",
       "      <td>5969011</td>\n",
       "      <td>68</td>\n",
       "      <td>68_80</td>\n",
       "      <td>1</td>\n",
       "      <td>50690</td>\n",
       "      <td>47400</td>\n",
       "      <td>50073</td>\n",
       "      <td>47439</td>\n",
       "      <td>2018-01-08 17:21:10</td>\n",
       "      <td>,2967855,</td>\n",
       "      <td>2634</td>\n",
       "      <td>1</td>\n",
       "      <td>0</td>\n",
       "      <td>2018-01-08 17:00:00</td>\n",
       "      <td>0.0</td>\n",
       "      <td>3.7</td>\n",
       "      <td>1017.1</td>\n",
       "    </tr>\n",
       "    <tr>\n",
       "      <th>1</th>\n",
       "      <td>2018-01-01</td>\n",
       "      <td>5969016</td>\n",
       "      <td>68</td>\n",
       "      <td>68_79</td>\n",
       "      <td>1</td>\n",
       "      <td>80892</td>\n",
       "      <td>77400</td>\n",
       "      <td>80334</td>\n",
       "      <td>77446</td>\n",
       "      <td>2018-01-08 17:21:10</td>\n",
       "      <td>,2967982,</td>\n",
       "      <td>2888</td>\n",
       "      <td>1</td>\n",
       "      <td>0</td>\n",
       "      <td>2018-01-08 17:00:00</td>\n",
       "      <td>0.0</td>\n",
       "      <td>3.7</td>\n",
       "      <td>1017.1</td>\n",
       "    </tr>\n",
       "    <tr>\n",
       "      <th>2</th>\n",
       "      <td>2018-01-01</td>\n",
       "      <td>5969007</td>\n",
       "      <td>68</td>\n",
       "      <td>68_80</td>\n",
       "      <td>1</td>\n",
       "      <td>36106</td>\n",
       "      <td>33300</td>\n",
       "      <td>36465</td>\n",
       "      <td>33562</td>\n",
       "      <td>2018-01-08 17:21:10</td>\n",
       "      <td>,2967845,</td>\n",
       "      <td>2903</td>\n",
       "      <td>1</td>\n",
       "      <td>0</td>\n",
       "      <td>2018-01-08 17:00:00</td>\n",
       "      <td>0.0</td>\n",
       "      <td>3.7</td>\n",
       "      <td>1017.1</td>\n",
       "    </tr>\n",
       "    <tr>\n",
       "      <th>3</th>\n",
       "      <td>2018-01-01</td>\n",
       "      <td>5969012</td>\n",
       "      <td>68</td>\n",
       "      <td>68_80</td>\n",
       "      <td>1</td>\n",
       "      <td>62226</td>\n",
       "      <td>58800</td>\n",
       "      <td>61739</td>\n",
       "      <td>58796</td>\n",
       "      <td>2018-01-08 17:21:10</td>\n",
       "      <td>,2967859,</td>\n",
       "      <td>2943</td>\n",
       "      <td>1</td>\n",
       "      <td>0</td>\n",
       "      <td>2018-01-08 17:00:00</td>\n",
       "      <td>0.0</td>\n",
       "      <td>3.7</td>\n",
       "      <td>1017.1</td>\n",
       "    </tr>\n",
       "    <tr>\n",
       "      <th>4</th>\n",
       "      <td>2018-01-01</td>\n",
       "      <td>5969018</td>\n",
       "      <td>68</td>\n",
       "      <td>68_80</td>\n",
       "      <td>1</td>\n",
       "      <td>87356</td>\n",
       "      <td>84600</td>\n",
       "      <td>87048</td>\n",
       "      <td>84675</td>\n",
       "      <td>2018-01-08 17:21:10</td>\n",
       "      <td>,2967986,</td>\n",
       "      <td>2373</td>\n",
       "      <td>1</td>\n",
       "      <td>0</td>\n",
       "      <td>2018-01-08 17:00:00</td>\n",
       "      <td>0.0</td>\n",
       "      <td>3.7</td>\n",
       "      <td>1017.1</td>\n",
       "    </tr>\n",
       "  </tbody>\n",
       "</table>\n",
       "</div>"
      ],
      "text/plain": [
       "  DAYOFSERVICE   TRIPID LINEID ROUTEID DIRECTION PLANNEDTIME_ARR  \\\n",
       "0   2018-01-01  5969011     68   68_80         1           50690   \n",
       "1   2018-01-01  5969016     68   68_79         1           80892   \n",
       "2   2018-01-01  5969007     68   68_80         1           36106   \n",
       "3   2018-01-01  5969012     68   68_80         1           62226   \n",
       "4   2018-01-01  5969018     68   68_80         1           87356   \n",
       "\n",
       "  PLANNEDTIME_DEP ACTUALTIME_ARR ACTUALTIME_DEP          LASTUPDATE  \\\n",
       "0           47400          50073          47439 2018-01-08 17:21:10   \n",
       "1           77400          80334          77446 2018-01-08 17:21:10   \n",
       "2           33300          36465          33562 2018-01-08 17:21:10   \n",
       "3           58800          61739          58796 2018-01-08 17:21:10   \n",
       "4           84600          87048          84675 2018-01-08 17:21:10   \n",
       "\n",
       "        NOTE JOURNEY_TIME  MONTH  DAY                date rain  temp     msl  \n",
       "0  ,2967855,         2634      1    0 2018-01-08 17:00:00  0.0   3.7  1017.1  \n",
       "1  ,2967982,         2888      1    0 2018-01-08 17:00:00  0.0   3.7  1017.1  \n",
       "2  ,2967845,         2903      1    0 2018-01-08 17:00:00  0.0   3.7  1017.1  \n",
       "3  ,2967859,         2943      1    0 2018-01-08 17:00:00  0.0   3.7  1017.1  \n",
       "4  ,2967986,         2373      1    0 2018-01-08 17:00:00  0.0   3.7  1017.1  "
      ]
     },
     "execution_count": 35,
     "metadata": {},
     "output_type": "execute_result"
    }
   ],
   "source": [
    "merged_data_trips.head(5)"
   ]
  },
  {
   "cell_type": "code",
   "execution_count": 36,
   "id": "potential-costa",
   "metadata": {},
   "outputs": [
    {
     "data": {
      "text/plain": [
       "DAYOFSERVICE       datetime64[ns]\n",
       "TRIPID                   category\n",
       "LINEID                   category\n",
       "ROUTEID                  category\n",
       "DIRECTION                category\n",
       "PLANNEDTIME_ARR          category\n",
       "PLANNEDTIME_DEP          category\n",
       "ACTUALTIME_ARR           category\n",
       "ACTUALTIME_DEP           category\n",
       "LASTUPDATE         datetime64[ns]\n",
       "NOTE                     category\n",
       "JOURNEY_TIME             category\n",
       "MONTH                       int64\n",
       "DAY                         int64\n",
       "date               datetime64[ns]\n",
       "rain                       object\n",
       "temp                      float64\n",
       "msl                       float64\n",
       "dtype: object"
      ]
     },
     "execution_count": 36,
     "metadata": {},
     "output_type": "execute_result"
    }
   ],
   "source": [
    "merged_data_trips.dtypes"
   ]
  },
  {
   "cell_type": "code",
   "execution_count": 37,
   "id": "committed-space",
   "metadata": {},
   "outputs": [
    {
     "data": {
      "text/plain": [
       "0.0"
      ]
     },
     "execution_count": 37,
     "metadata": {},
     "output_type": "execute_result"
    }
   ],
   "source": [
    "# % missing on new feature JOURNEY_TIME\n",
    "journey_missing = 100 * (merged_data_trips['JOURNEY_TIME'].isna().sum()/merged_data_trips.shape[0])\n",
    "journey_missing"
   ]
  },
  {
   "cell_type": "markdown",
   "id": "historical-reasoning",
   "metadata": {},
   "source": [
    "### Prepare and split the dataset into two datasets: 70% training and 30% test for test models"
   ]
  },
  {
   "cell_type": "code",
   "execution_count": 38,
   "id": "ordinary-structure",
   "metadata": {},
   "outputs": [],
   "source": [
    "# X for the input data to be predicted on\n",
    "X = merged_data_trips.drop(columns = [\"JOURNEY_TIME\",\"DAYOFSERVICE\", \"LASTUPDATE\", \"date\",\"NOTE\", \"DIRECTION\",\"LINEID\"])\n",
    "# y for the out/goal set\n",
    "y = merged_data_trips[[\"JOURNEY_TIME\"]]"
   ]
  },
  {
   "cell_type": "code",
   "execution_count": 39,
   "id": "generous-finder",
   "metadata": {},
   "outputs": [
    {
     "name": "stdout",
     "output_type": "stream",
     "text": [
      "original range is:  5270\n",
      "training range (70%):\t rows 0 to 3689\n",
      "test range (30%): \t rows 3689 to 5270\n"
     ]
    }
   ],
   "source": [
    "# Split the dataset into two datasets: 70% training and 30% test\n",
    "X_train, X_test, y_train, y_test = train_test_split(X, y, test_size=0.3,random_state=20)\n",
    "\n",
    "print(\"original range is: \", merged_data_trips.shape[0])\n",
    "print(\"training range (70%):\\t rows 0 to\", round(X_train.shape[0]))\n",
    "print(\"test range (30%): \\t rows\", round(X_train.shape[0]), \"to\", round(X_train.shape[0]) + X_test.shape[0])"
   ]
  },
  {
   "cell_type": "markdown",
   "id": "minus-wagon",
   "metadata": {},
   "source": [
    "### Building and Testing Models on Sample Route 68, Direction 1"
   ]
  },
  {
   "cell_type": "markdown",
   "id": "broke-venue",
   "metadata": {},
   "source": [
    "Classification metrics can't handle a mix of multiclass and continuous targets, which means accuracy score is only for classification problems. For regression problems we can use: R2 Score, MSE (Mean Squared Error), RMSE (Root Mean Squared Error)."
   ]
  },
  {
   "cell_type": "code",
   "execution_count": 40,
   "id": "serial-slave",
   "metadata": {},
   "outputs": [],
   "source": [
    "# X for the input data to be predicted on\n",
    "X = merged_data_trips.drop(columns = [\"JOURNEY_TIME\",\"DAYOFSERVICE\", \"LASTUPDATE\", \"date\",\"NOTE\", \"DIRECTION\",\"LINEID\"])\n",
    "# y for the out/goal set\n",
    "y = merged_data_trips[[\"JOURNEY_TIME\"]]"
   ]
  },
  {
   "cell_type": "code",
   "execution_count": 41,
   "id": "exclusive-baseline",
   "metadata": {},
   "outputs": [
    {
     "name": "stdout",
     "output_type": "stream",
     "text": [
      "original range is:  5270\n",
      "training range (70%):\t rows 0 to 3689\n",
      "test range (30%): \t rows 3689 to 5270\n"
     ]
    }
   ],
   "source": [
    "# Split the dataset into two datasets: 70% training and 30% test\n",
    "X_train, X_test, y_train, y_test = train_test_split(X, y, test_size=0.3,random_state=20)\n",
    "\n",
    "print(\"original range is: \", merged_data_trips.shape[0])\n",
    "print(\"training range (70%):\\t rows 0 to\", round(X_train.shape[0]))\n",
    "print(\"test range (30%): \\t rows\", round(X_train.shape[0]), \"to\", round(X_train.shape[0]) + X_test.shape[0])"
   ]
  },
  {
   "cell_type": "markdown",
   "id": "outside-boring",
   "metadata": {},
   "source": [
    "### Decision Tree "
   ]
  },
  {
   "cell_type": "code",
   "execution_count": 42,
   "id": "according-african",
   "metadata": {},
   "outputs": [
    {
     "data": {
      "text/plain": [
       "0.8846117762776994"
      ]
     },
     "execution_count": 42,
     "metadata": {},
     "output_type": "execute_result"
    }
   ],
   "source": [
    "# Generating r2 score for decision tree model\n",
    "decisionTree = DecisionTreeRegressor()\n",
    "decisionTree.fit(X_train, y_train)\n",
    "predictions = decisionTree.predict(X_test)\n",
    "decisionTreeR2 = r2_score(y_test, predictions)\n",
    "decisionTreeR2"
   ]
  },
  {
   "cell_type": "code",
   "execution_count": 43,
   "id": "respective-version",
   "metadata": {},
   "outputs": [
    {
     "data": {
      "text/plain": [
       "139.59962049335863"
      ]
     },
     "execution_count": 43,
     "metadata": {},
     "output_type": "execute_result"
    }
   ],
   "source": [
    "# Generating mean absolute error score for decision tree model\n",
    "decisionTreeMAE = mean_absolute_error(y_test, predictions)\n",
    "decisionTreeMAE"
   ]
  },
  {
   "cell_type": "code",
   "execution_count": 44,
   "id": "whole-deployment",
   "metadata": {},
   "outputs": [
    {
     "data": {
      "text/plain": [
       "290.8548622889792"
      ]
     },
     "execution_count": 44,
     "metadata": {},
     "output_type": "execute_result"
    }
   ],
   "source": [
    "# Calculating Root Mean Square Error\n",
    "DecisionTreeMSE = sklearn.metrics.mean_squared_error(y_test, predictions)\n",
    "                           \n",
    "DecisionTreeRMSE = math.sqrt(DecisionTreeMSE)\n",
    "DecisionTreeRMSE"
   ]
  },
  {
   "cell_type": "markdown",
   "id": "sixth-science",
   "metadata": {},
   "source": [
    "### Random Forest Regressor"
   ]
  },
  {
   "cell_type": "code",
   "execution_count": 45,
   "id": "middle-county",
   "metadata": {},
   "outputs": [
    {
     "data": {
      "text/plain": [
       "0.902126361984501"
      ]
     },
     "execution_count": 45,
     "metadata": {},
     "output_type": "execute_result"
    }
   ],
   "source": [
    "# Generating r2 score for random forest model\n",
    "randForestModel = RandomForestRegressor(n_estimators = 10, random_state=10)\n",
    "randForestModel.fit(X_train, y_train.values.ravel())\n",
    "predictionTest = randForestModel.predict(X_test)\n",
    "randForestR2 = r2_score(y_test, predictionTest)\n",
    "randForestR2"
   ]
  },
  {
   "cell_type": "code",
   "execution_count": 46,
   "id": "swiss-wisconsin",
   "metadata": {},
   "outputs": [
    {
     "data": {
      "text/plain": [
       "129.27906388361797"
      ]
     },
     "execution_count": 46,
     "metadata": {},
     "output_type": "execute_result"
    }
   ],
   "source": [
    "# Generating mean absolute error score for Random Forest model\n",
    "randForestMAE = mean_absolute_error(y_test, predictionTest)\n",
    "randForestMAE"
   ]
  },
  {
   "cell_type": "code",
   "execution_count": 47,
   "id": "human-immune",
   "metadata": {},
   "outputs": [
    {
     "data": {
      "text/plain": [
       "267.8726969731727"
      ]
     },
     "execution_count": 47,
     "metadata": {},
     "output_type": "execute_result"
    }
   ],
   "source": [
    "# Calculating Root Mean Square Error for Random Forest\n",
    "RandforestMSE = sklearn.metrics.mean_squared_error(y_test, predictionTest)\n",
    "                           \n",
    "RandForestRMSE = math.sqrt(RandforestMSE)\n",
    "RandForestRMSE"
   ]
  },
  {
   "cell_type": "markdown",
   "id": "billion-semiconductor",
   "metadata": {},
   "source": [
    "- Checking feature importances"
   ]
  },
  {
   "cell_type": "code",
   "execution_count": 48,
   "id": "hairy-crowd",
   "metadata": {},
   "outputs": [
    {
     "data": {
      "text/html": [
       "<div>\n",
       "<style scoped>\n",
       "    .dataframe tbody tr th:only-of-type {\n",
       "        vertical-align: middle;\n",
       "    }\n",
       "\n",
       "    .dataframe tbody tr th {\n",
       "        vertical-align: top;\n",
       "    }\n",
       "\n",
       "    .dataframe thead th {\n",
       "        text-align: right;\n",
       "    }\n",
       "</style>\n",
       "<table border=\"1\" class=\"dataframe\">\n",
       "  <thead>\n",
       "    <tr style=\"text-align: right;\">\n",
       "      <th></th>\n",
       "      <th>feature</th>\n",
       "      <th>importance</th>\n",
       "    </tr>\n",
       "  </thead>\n",
       "  <tbody>\n",
       "    <tr>\n",
       "      <th>4</th>\n",
       "      <td>ACTUALTIME_ARR</td>\n",
       "      <td>0.355522</td>\n",
       "    </tr>\n",
       "    <tr>\n",
       "      <th>5</th>\n",
       "      <td>ACTUALTIME_DEP</td>\n",
       "      <td>0.332794</td>\n",
       "    </tr>\n",
       "    <tr>\n",
       "      <th>7</th>\n",
       "      <td>DAY</td>\n",
       "      <td>0.194900</td>\n",
       "    </tr>\n",
       "    <tr>\n",
       "      <th>2</th>\n",
       "      <td>PLANNEDTIME_ARR</td>\n",
       "      <td>0.028971</td>\n",
       "    </tr>\n",
       "    <tr>\n",
       "      <th>1</th>\n",
       "      <td>ROUTEID</td>\n",
       "      <td>0.024147</td>\n",
       "    </tr>\n",
       "    <tr>\n",
       "      <th>0</th>\n",
       "      <td>TRIPID</td>\n",
       "      <td>0.023071</td>\n",
       "    </tr>\n",
       "    <tr>\n",
       "      <th>3</th>\n",
       "      <td>PLANNEDTIME_DEP</td>\n",
       "      <td>0.014946</td>\n",
       "    </tr>\n",
       "    <tr>\n",
       "      <th>9</th>\n",
       "      <td>temp</td>\n",
       "      <td>0.009299</td>\n",
       "    </tr>\n",
       "    <tr>\n",
       "      <th>10</th>\n",
       "      <td>msl</td>\n",
       "      <td>0.008587</td>\n",
       "    </tr>\n",
       "    <tr>\n",
       "      <th>6</th>\n",
       "      <td>MONTH</td>\n",
       "      <td>0.005674</td>\n",
       "    </tr>\n",
       "    <tr>\n",
       "      <th>8</th>\n",
       "      <td>rain</td>\n",
       "      <td>0.002089</td>\n",
       "    </tr>\n",
       "  </tbody>\n",
       "</table>\n",
       "</div>"
      ],
      "text/plain": [
       "            feature  importance\n",
       "4    ACTUALTIME_ARR    0.355522\n",
       "5    ACTUALTIME_DEP    0.332794\n",
       "7               DAY    0.194900\n",
       "2   PLANNEDTIME_ARR    0.028971\n",
       "1           ROUTEID    0.024147\n",
       "0            TRIPID    0.023071\n",
       "3   PLANNEDTIME_DEP    0.014946\n",
       "9              temp    0.009299\n",
       "10              msl    0.008587\n",
       "6             MONTH    0.005674\n",
       "8              rain    0.002089"
      ]
     },
     "execution_count": 48,
     "metadata": {},
     "output_type": "execute_result"
    }
   ],
   "source": [
    "# Checking for important features\n",
    "feature_list = list(X.columns)\n",
    "importance = pd.DataFrame({'feature': feature_list, 'importance':randForestModel.feature_importances_})\n",
    "importance.sort_values('importance', ascending=False)"
   ]
  },
  {
   "cell_type": "markdown",
   "id": "perfect-arrival",
   "metadata": {},
   "source": [
    "### K-nearest Neighbour"
   ]
  },
  {
   "cell_type": "code",
   "execution_count": 49,
   "id": "dutch-shower",
   "metadata": {},
   "outputs": [
    {
     "data": {
      "text/plain": [
       "0.33231718036654656"
      ]
     },
     "execution_count": 49,
     "metadata": {},
     "output_type": "execute_result"
    }
   ],
   "source": [
    "# Generating r2 score for K-nearest Neighbour\n",
    "knn_model = KNeighborsRegressor(n_neighbors = 10)\n",
    "knn_model.fit(X_train, y_train.values.ravel())\n",
    "knnTest = knn_model.predict(X_test)\n",
    "knnR2 = r2_score(y_test, knnTest)\n",
    "knnR2"
   ]
  },
  {
   "cell_type": "code",
   "execution_count": 50,
   "id": "existing-breeding",
   "metadata": {},
   "outputs": [
    {
     "data": {
      "text/plain": [
       "487.94667931688804"
      ]
     },
     "execution_count": 50,
     "metadata": {},
     "output_type": "execute_result"
    }
   ],
   "source": [
    "# Generating mean absolute error score for k-nearest neighbour model\n",
    "knnMAE = mean_absolute_error(y_test, knnTest)\n",
    "knnMAE"
   ]
  },
  {
   "cell_type": "code",
   "execution_count": 51,
   "id": "afraid-muscle",
   "metadata": {},
   "outputs": [
    {
     "data": {
      "text/plain": [
       "699.6497529972195"
      ]
     },
     "execution_count": 51,
     "metadata": {},
     "output_type": "execute_result"
    }
   ],
   "source": [
    "# Calculating Root Mean Square Error for Knn\n",
    "KnnMSE = sklearn.metrics.mean_squared_error(y_test, knnTest)\n",
    "                           \n",
    "KnnRMSE = math.sqrt(KnnMSE)\n",
    "KnnRMSE"
   ]
  },
  {
   "cell_type": "markdown",
   "id": "legal-occurrence",
   "metadata": {},
   "source": [
    "### Linear Regression"
   ]
  },
  {
   "cell_type": "code",
   "execution_count": 52,
   "id": "brief-greek",
   "metadata": {},
   "outputs": [
    {
     "data": {
      "text/plain": [
       "1.0"
      ]
     },
     "execution_count": 52,
     "metadata": {},
     "output_type": "execute_result"
    }
   ],
   "source": [
    "# Generating r2 score for Linear Regression\n",
    "linearModel = LinearRegression().fit(X_train, y_train.values.ravel())\n",
    "linearModel\n",
    "linear_prediction = linearModel.predict(X_test)\n",
    "linearRegR2 = r2_score(y_test, linear_prediction)\n",
    "linearRegR2"
   ]
  },
  {
   "cell_type": "code",
   "execution_count": 53,
   "id": "tested-accountability",
   "metadata": {},
   "outputs": [
    {
     "data": {
      "text/plain": [
       "1.6860167910760195e-11"
      ]
     },
     "execution_count": 53,
     "metadata": {},
     "output_type": "execute_result"
    }
   ],
   "source": [
    "# Generating mean absolute error score for Linear Regression\n",
    "linearRegMAE = mean_absolute_error(y_test, linear_prediction)\n",
    "linearRegMAE"
   ]
  },
  {
   "cell_type": "code",
   "execution_count": 55,
   "id": "external-knight",
   "metadata": {},
   "outputs": [
    {
     "data": {
      "text/plain": [
       "2.052894064672558e-11"
      ]
     },
     "execution_count": 55,
     "metadata": {},
     "output_type": "execute_result"
    }
   ],
   "source": [
    "# Calculating Root Mean Square Error for Linear Regression\n",
    "LinRegMSE = sklearn.metrics.mean_squared_error(y_test, linear_prediction)\n",
    "                           \n",
    "LinearRegRMSE = math.sqrt(LinRegMSE)\n",
    "LinearRegRMSE"
   ]
  },
  {
   "cell_type": "code",
   "execution_count": 56,
   "id": "heard-malawi",
   "metadata": {},
   "outputs": [
    {
     "name": "stdout",
     "output_type": "stream",
     "text": [
      "\n",
      "Features are: \n",
      " Index(['TRIPID', 'ROUTEID', 'PLANNEDTIME_ARR', 'PLANNEDTIME_DEP',\n",
      "       'ACTUALTIME_ARR', 'ACTUALTIME_DEP', 'MONTH', 'DAY', 'rain', 'temp',\n",
      "       'msl'],\n",
      "      dtype='object')\n",
      "\n",
      "Coeficients are: \n",
      " [ 1.30114194e-18  3.46789264e-12 -3.88578059e-16 -8.32667268e-16\n",
      "  1.00000000e+00 -1.00000000e+00  7.35661532e-14  8.35538236e-14\n",
      "  6.04883439e-14  7.75508130e-15 -6.73072709e-16]\n",
      "\n",
      "Intercept is: \n",
      " -2.3917891667224467e-08\n",
      "\n",
      "Features and coeficients: \n",
      " [('TRIPID', 1.3011419399986416e-18), ('ROUTEID', 3.467892639719139e-12), ('PLANNEDTIME_ARR', -3.885780586188048e-16), ('PLANNEDTIME_DEP', -8.326672684688674e-16), ('ACTUALTIME_ARR', 1.0000000000000004), ('ACTUALTIME_DEP', -0.9999999999999982), ('MONTH', 7.356615316922444e-14), ('DAY', 8.35538235821609e-14), ('rain', 6.048834393437841e-14), ('temp', 7.755081299354316e-15), ('msl', -6.730727086790012e-16)]\n"
     ]
    }
   ],
   "source": [
    "# Print the weights learned for each feature.\n",
    "print(\"\\nFeatures are: \\n\", X_train.columns)\n",
    "print(\"\\nCoeficients are: \\n\", linearModel.coef_)\n",
    "print(\"\\nIntercept is: \\n\", linearModel.intercept_)\n",
    "print(\"\\nFeatures and coeficients: \\n\", list(zip(X_train.columns, linearModel.coef_)))"
   ]
  },
  {
   "cell_type": "markdown",
   "id": "surgical-earth",
   "metadata": {},
   "source": [
    "- Printing Actual Death vs predicted based on train data"
   ]
  },
  {
   "cell_type": "code",
   "execution_count": 57,
   "id": "sitting-testimony",
   "metadata": {},
   "outputs": [
    {
     "name": "stdout",
     "output_type": "stream",
     "text": [
      "\n",
      "Predictions with multiple linear regression: \n",
      "\n",
      "   JOURNEY_TIME  Predicted\n",
      "0          2634     3832.0\n",
      "1          2888     4219.0\n",
      "2          2903     3120.0\n",
      "3          2943     3604.0\n",
      "4          2373     5543.0\n",
      "..          ...        ...\n",
      "95         2704     3303.0\n",
      "96         3407     3399.0\n",
      "97          NaN     4240.0\n",
      "98         3563     3706.0\n",
      "99         5161     3119.0\n",
      "\n",
      "[100 rows x 2 columns]\n"
     ]
    }
   ],
   "source": [
    "# calculate the prediction and threshold the value.\n",
    "multiple_linreg_predictions_train = (linearModel.predict(X_train)) \n",
    "\n",
    "print(\"\\nPredictions with multiple linear regression: \\n\")\n",
    "actual_vs_predicted_multiplelinreg = pd.concat([y_train, pd.DataFrame(multiple_linreg_predictions_train, columns=['Predicted'])], axis=1)\n",
    "print(actual_vs_predicted_multiplelinreg.head(100))"
   ]
  },
  {
   "cell_type": "markdown",
   "id": "forced-vacation",
   "metadata": {},
   "source": [
    "- Printing Actual Death vs predicted based on test data"
   ]
  },
  {
   "cell_type": "code",
   "execution_count": 58,
   "id": "swiss-being",
   "metadata": {},
   "outputs": [
    {
     "name": "stdout",
     "output_type": "stream",
     "text": [
      "\n",
      "Predictions with multiple linear regression: \n",
      "\n",
      "   JOURNEY_TIME  Predicted\n",
      "0           NaN     3398.0\n",
      "1           NaN     3801.0\n",
      "2           NaN     3779.0\n",
      "3           NaN     3868.0\n",
      "4           NaN     5201.0\n",
      "..          ...        ...\n",
      "95          NaN     4014.0\n",
      "96          NaN     3203.0\n",
      "97         3732     3577.0\n",
      "98          NaN     4660.0\n",
      "99          NaN     6597.0\n",
      "\n",
      "[100 rows x 2 columns]\n"
     ]
    }
   ],
   "source": [
    "# calculate the prediction and threshold the value. If >= 0.5 its true\n",
    "multiple_linreg_predictions_test = (linearModel.predict(X_test)) * 1.0\n",
    "\n",
    "print(\"\\nPredictions with multiple linear regression: \\n\")\n",
    "actual_vs_predicted_multiplelinreg = pd.concat([y_test, pd.DataFrame(multiple_linreg_predictions_test, columns=['Predicted'])], axis=1)\n",
    "print(actual_vs_predicted_multiplelinreg.head(100))"
   ]
  },
  {
   "cell_type": "markdown",
   "id": "valid-guitar",
   "metadata": {},
   "source": [
    "### Printing and Discussing Results"
   ]
  },
  {
   "cell_type": "code",
   "execution_count": 59,
   "id": "flexible-peter",
   "metadata": {},
   "outputs": [
    {
     "name": "stdout",
     "output_type": "stream",
     "text": [
      "==================== Predictive Model Accuracy - R2 Score =======================\n",
      "\n",
      "Decision Tree :  0.8846117762776994\n",
      "Random Forest :  0.902126361984501\n",
      "K-nearest Neighbour :  0.33231718036654656\n",
      "Linear Regression :  1.0\n",
      "\n",
      "==================== Predictive Model Accuracy - MAE Score =======================\n",
      "\n",
      "Decision Tree :  139.59962049335863\n",
      "Random Forest :  129.27906388361797\n",
      "K-nearest Neighbour :  487.94667931688804\n",
      "Linear Regression :  1.6860167910760195e-11\n",
      "\n",
      "==================== Predictive Model Accuracy - RMSE Score =======================\n",
      "\n",
      "Decision Tree :  290.8548622889792\n",
      "Random Forest :  267.8726969731727\n",
      "K-nearest Neighbour :  699.6497529972195\n",
      "Linear Regression :  2.052894064672558e-11\n"
     ]
    }
   ],
   "source": [
    "# Some more evaluation metrics.\n",
    "print(\"==================== Predictive Model Accuracy - R2 Score =======================\\n\")\n",
    "print(\"Decision Tree : \", decisionTreeR2)\n",
    "print(\"Random Forest : \", randForestR2)\n",
    "print(\"K-nearest Neighbour : \", knnR2)\n",
    "print(\"Linear Regression : \", linearRegR2 )\n",
    "\n",
    "print(\"\\n==================== Predictive Model Accuracy - MAE Score =======================\\n\")\n",
    "print(\"Decision Tree : \", decisionTreeMAE)\n",
    "print(\"Random Forest : \", randForestMAE)\n",
    "print(\"K-nearest Neighbour : \", knnMAE)\n",
    "print(\"Linear Regression : \", linearRegMAE )\n",
    "\n",
    "print(\"\\n==================== Predictive Model Accuracy - RMSE Score =======================\\n\")\n",
    "print(\"Decision Tree : \", DecisionTreeRMSE)\n",
    "print(\"Random Forest : \", RandForestRMSE)\n",
    "print(\"K-nearest Neighbour : \", KnnRMSE)\n",
    "print(\"Linear Regression : \", LinearRegRMSE )"
   ]
  },
  {
   "cell_type": "markdown",
   "id": "amended-packet",
   "metadata": {},
   "source": [
    "#### Decision Tree\n",
    "- We get very good results from R2 score, MAE score and the RMSE score. \n",
    "- The decision tree is giving us very good results, we will likely use this method but will continue to test other predictive models first.\n",
    "\n",
    "#### Random Forest\n",
    "- Random Forest produces slightly better results than decision tree for the R2 Score, MAE score and RMSE score, however the random forest takes up far more space and takes longer to run. The trade off between accuracy and time taken/storage is something we have to strongly consider, as we have very large data sets. \n",
    "- After testing the size of a decision tree vs a random forest, the random forest pickle file is approximately 6.4 times bigger than the size of a decision tree pickle file (455KB vs 2896KB)\n",
    "\n",
    "#### Knn\n",
    "- We have gotten poor results from the R2 score, MAE score and the RMSE score.\n",
    "- Due to these poor results, we will disregard this method for our predictive models.\n",
    "\n",
    "#### Linear Regression\n",
    "- An R2=1 means that the data is perfectly correlated. However, R2=1 means that for some reason our model predicts the response variable perfectly, which is generally too good to be true. It is likely we have multicollinearity here, which is where two or more independent variables have a strong correlation, giving an overly optimistic result. \n",
    "- In relation to the RMSE score, it is impossible to achieve RMSE lower than 0.5 due to large range of numerical values for this dataset, further pointing to our overly optimistic results likely due to multicollinearity.\n",
    "- Similarly with the results of the MAE score, these values are too unrealistic, further hinting at an issue with multicollinearity, we will disregard this model going forward."
   ]
  },
  {
   "cell_type": "markdown",
   "id": "bizarre-witch",
   "metadata": {},
   "source": [
    "### Conclusion\n",
    "- Based on the results above and considering the trade off between accuracy and time taken/storage for the models, we believe <b>Decision Tree</b> is the best option and we will be proceeding with this predictive model for the rest of our dataset."
   ]
  }
 ],
 "metadata": {
  "kernelspec": {
   "display_name": "Python 3",
   "language": "python",
   "name": "python3"
  },
  "language_info": {
   "codemirror_mode": {
    "name": "ipython",
    "version": 3
   },
   "file_extension": ".py",
   "mimetype": "text/x-python",
   "name": "python",
   "nbconvert_exporter": "python",
   "pygments_lexer": "ipython3",
   "version": "3.8.8"
  }
 },
 "nbformat": 4,
 "nbformat_minor": 5
}
